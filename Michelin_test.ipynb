{
 "cells": [
  {
   "cell_type": "markdown",
   "metadata": {},
   "source": [
    "## Michelin predictor"
   ]
  },
  {
   "cell_type": "markdown",
   "metadata": {},
   "source": [
    "Method: built a SMALL dataset of michelin restaurants and their yelp reviews:\n",
    "\n",
    "0 stars : 39\n",
    "1 star: 57\n",
    "2 star: 16\n",
    "3 star: 9\n",
    "\n",
    "and then with a set "
   ]
  },
  {
   "cell_type": "code",
   "execution_count": 156,
   "metadata": {
    "collapsed": false
   },
   "outputs": [
    {
     "data": {
      "text/html": [
       "<div>\n",
       "<table border=\"1\" class=\"dataframe\">\n",
       "  <thead>\n",
       "    <tr style=\"text-align: right;\">\n",
       "      <th></th>\n",
       "      <th>Name</th>\n",
       "      <th>Stars</th>\n",
       "      <th>yelp</th>\n",
       "      <th>review</th>\n",
       "    </tr>\n",
       "  </thead>\n",
       "  <tbody>\n",
       "    <tr>\n",
       "      <th>0</th>\n",
       "      <td>Ai Fiori</td>\n",
       "      <td>1</td>\n",
       "      <td>4.0</td>\n",
       "      <td>I took my family here for dinner as a special ...</td>\n",
       "    </tr>\n",
       "    <tr>\n",
       "      <th>1</th>\n",
       "      <td>Aldea</td>\n",
       "      <td>1</td>\n",
       "      <td>4.0</td>\n",
       "      <td>Yum! Cute interior. Great attentive staff. \\n\\...</td>\n",
       "    </tr>\n",
       "    <tr>\n",
       "      <th>2</th>\n",
       "      <td>Andanada</td>\n",
       "      <td>1</td>\n",
       "      <td>3.0</td>\n",
       "      <td>If you live in the Lincoln Center area, you kn...</td>\n",
       "    </tr>\n",
       "  </tbody>\n",
       "</table>\n",
       "</div>"
      ],
      "text/plain": [
       "       Name  Stars  yelp                                             review\n",
       "0  Ai Fiori      1   4.0  I took my family here for dinner as a special ...\n",
       "1     Aldea      1   4.0  Yum! Cute interior. Great attentive staff. \\n\\...\n",
       "2  Andanada      1   3.0  If you live in the Lincoln Center area, you kn..."
      ]
     },
     "execution_count": 156,
     "metadata": {},
     "output_type": "execute_result"
    }
   ],
   "source": [
    "import pandas as pd\n",
    "path = 'michelin_star_data.csv'\n",
    "mich_stars = pd.read_csv(path, usecols=[0,13,14,15])\n",
    "mich_stars.head(3)"
   ]
  },
  {
   "cell_type": "code",
   "execution_count": 157,
   "metadata": {
    "collapsed": false
   },
   "outputs": [
    {
     "data": {
      "text/plain": [
       "0    39\n",
       "1    57\n",
       "2    16\n",
       "3     9\n",
       "Name: Stars, dtype: int64"
      ]
     },
     "execution_count": 157,
     "metadata": {},
     "output_type": "execute_result"
    }
   ],
   "source": [
    "mich_stars.Stars.value_counts().sort_index()"
   ]
  },
  {
   "cell_type": "code",
   "execution_count": 158,
   "metadata": {
    "collapsed": false
   },
   "outputs": [
    {
     "name": "stdout",
     "output_type": "stream",
     "text": [
      "(121,)\n",
      "(121,)\n"
     ]
    }
   ],
   "source": [
    "#X = mich_stars[['yelp','review']].values  # we only take the first two features.\n",
    "X = mich_stars.review\n",
    "print(X.shape)\n",
    "y = mich_stars.Stars\n",
    "print(y.shape)"
   ]
  },
  {
   "cell_type": "code",
   "execution_count": 159,
   "metadata": {
    "collapsed": false
   },
   "outputs": [],
   "source": [
    "from sklearn.cross_validation import train_test_split\n",
    "\n",
    "X_train, X_test, y_train, y_test = train_test_split(X,y)"
   ]
  },
  {
   "cell_type": "code",
   "execution_count": 145,
   "metadata": {
    "collapsed": false
   },
   "outputs": [],
   "source": [
    "from sklearn.feature_extraction.text import CountVectorizer\n",
    "vect = CountVectorizer()\n"
   ]
  },
  {
   "cell_type": "code",
   "execution_count": 139,
   "metadata": {
    "collapsed": true
   },
   "outputs": [],
   "source": [
    "from sklearn.naive_bayes import MultinomialNB\n",
    "from sklearn import metrics\n",
    "\n",
    "#returns accuracy and numbers of features\n",
    "def bayes_test(vect,test): ##write a function so that you can make changes and redo\n",
    "    X_train_dtm = vect.fit_transform(X_train)\n",
    "    X_test_dtm = vect.transform(X_test)\n",
    "    \n",
    "    print( 'Features: ', X_train_dtm.shape[1]) #prints features that were generated\n",
    "    \n",
    "    nb = MultinomialNB()\n",
    "    nb.fit(X_train_dtm, y_train)\n",
    "    y_pred_class = nb.predict(X_test_dtm)\n",
    "    print(y_pred_class)\n",
    "    print('Accuracy ', metrics.accuracy_score(y_test, y_pred_class))\n",
    "    if test is not None:\n",
    "        test_dtm = vect.transform(dc_review)\n",
    "        predictions = nb.predict(test_dtm) \n",
    "        dc_data['stars'] = predictions\n",
    "        return predictions"
   ]
  },
  {
   "cell_type": "code",
   "execution_count": 133,
   "metadata": {
    "collapsed": false
   },
   "outputs": [],
   "source": [
    "from sklearn import metrics\n",
    "from sklearn.multiclass import OneVsRestClassifier\n",
    "from sklearn.svm import LinearSVC\n",
    "#returns accuracy and numbers of features\n",
    "def multiclass_test(vect, test): ##write a function so that you can make changes and redo\n",
    "    X_train_dtm = vect.fit_transform(X_train)\n",
    "    X_test_dtm = vect.transform(X_test)\n",
    "    print( 'Features: ', X_train_dtm.shape[1]) #prints features that were generated\n",
    "    classifier = OneVsRestClassifier(LinearSVC(random_state=2)).fit(X_train_dtm, y_train)\n",
    "    y_pred_class = classifier.predict(X_test_dtm) \n",
    "    print('Accuracy ', metrics.accuracy_score(y_test, y_pred_class))\n",
    "    print(y_pred_class)\n",
    "    if test is not None:\n",
    "        print(\"HERE\")\n",
    "        test_dtm = vect.transform(dc_review)\n",
    "        predictions = classifier.predict(test_dtm) \n",
    "        return predictions"
   ]
  },
  {
   "cell_type": "code",
   "execution_count": 146,
   "metadata": {
    "collapsed": false
   },
   "outputs": [
    {
     "name": "stdout",
     "output_type": "stream",
     "text": [
      "Features:  3199\n",
      "[1 0 1 1 1 1 1 1 1 1 1 1 0 1 2 0 0 1 1 1 1 1 1 1 1 1 1 1 1 1]\n",
      "Accuracy  0.466666666667\n",
      "Features:  3199\n",
      "Accuracy  0.466666666667\n",
      "[1 0 1 1 1 1 0 1 1 1 0 1 1 1 2 0 3 1 1 1 1 1 0 0 1 1 1 1 0 0]\n"
     ]
    }
   ],
   "source": [
    "bayes_test(vect, None)\n",
    "multiclass_test(vect, None)"
   ]
  },
  {
   "cell_type": "code",
   "execution_count": 149,
   "metadata": {
    "collapsed": false
   },
   "outputs": [
    {
     "name": "stdout",
     "output_type": "stream",
     "text": [
      "Features:  3199\n",
      "[1 0 1 1 1 1 1 1 1 1 1 1 0 1 2 0 0 1 1 1 1 1 1 1 1 1 1 1 1 1]\n",
      "Accuracy  0.466666666667\n",
      "Features:  3199\n",
      "Accuracy  0.466666666667\n",
      "[1 0 1 1 1 1 0 1 1 1 0 1 1 1 2 0 3 1 1 1 1 1 0 0 1 1 1 1 0 0]\n"
     ]
    }
   ],
   "source": [
    "vect = CountVectorizer()\n",
    "bayes_test(vect, None)\n",
    "multiclass_test(vect, None)"
   ]
  },
  {
   "cell_type": "code",
   "execution_count": 150,
   "metadata": {
    "collapsed": true
   },
   "outputs": [],
   "source": [
    "##PREDICTION\n",
    "path = 'dc_data.csv'\n",
    "dc_data = pd.read_csv(path)\n",
    "#dc_data"
   ]
  },
  {
   "cell_type": "code",
   "execution_count": 168,
   "metadata": {
    "collapsed": false
   },
   "outputs": [
    {
     "name": "stdout",
     "output_type": "stream",
     "text": [
      "Features:  3366\n",
      "Accuracy  0.451612903226\n",
      "[0 1 0 1 1 1 1 1 1 1 1 1 0 1 1 0 1 0 1 1 0 1 0 1 1 0 3 1 1 1 1]\n",
      "HERE\n",
      "0    18\n",
      "1    24\n",
      "2     1\n",
      "3     1\n",
      "Name: stars, dtype: int64\n"
     ]
    }
   ],
   "source": [
    "dc_review = dc_data.review #one dimensional - count vectorizer takes one dimensional text and makes it two\n",
    "vect = CountVectorizer()\n",
    "predictions = multiclass_test(vect, dc_review)\n",
    "dc_data['stars'] = predictions\n",
    "print(dc_data.stars.value_counts().sort_index())\n",
    "dc_data[['Name','stars']].to_csv('output.csv')\n",
    "#dc_data\n"
   ]
  }
 ],
 "metadata": {
  "kernelspec": {
   "display_name": "Python [Root]",
   "language": "python",
   "name": "Python [Root]"
  },
  "language_info": {
   "codemirror_mode": {
    "name": "ipython",
    "version": 3
   },
   "file_extension": ".py",
   "mimetype": "text/x-python",
   "name": "python",
   "nbconvert_exporter": "python",
   "pygments_lexer": "ipython3",
   "version": "3.5.2"
  }
 },
 "nbformat": 4,
 "nbformat_minor": 0
}
