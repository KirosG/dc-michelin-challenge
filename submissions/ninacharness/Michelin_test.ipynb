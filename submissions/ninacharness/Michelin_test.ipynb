{
 "cells": [
  {
   "cell_type": "markdown",
   "metadata": {},
   "source": [
    "## Michelin predictor"
   ]
  },
  {
   "cell_type": "markdown",
   "metadata": {},
   "source": [
    "Method: built a SMALL dataset of michelin restaurants and their yelp reviews:\n",
    "\n",
    "0 stars : 39\n",
    "1 star: 57\n",
    "2 star: 16\n",
    "3 star: 9\n",
    "\n",
    "and then tested on set of dc restaurants with their yelp reviews"
   ]
  },
  {
   "cell_type": "code",
   "execution_count": 156,
   "metadata": {
    "collapsed": false
   },
   "outputs": [
    {
     "data": {
      "text/html": [
       "<div>\n",
       "<table border=\"1\" class=\"dataframe\">\n",
       "  <thead>\n",
       "    <tr style=\"text-align: right;\">\n",
       "      <th></th>\n",
       "      <th>Name</th>\n",
       "      <th>Stars</th>\n",
       "      <th>yelp</th>\n",
       "      <th>review</th>\n",
       "    </tr>\n",
       "  </thead>\n",
       "  <tbody>\n",
       "    <tr>\n",
       "      <th>0</th>\n",
       "      <td>Ai Fiori</td>\n",
       "      <td>1</td>\n",
       "      <td>4.0</td>\n",
       "      <td>I took my family here for dinner as a special ...</td>\n",
       "    </tr>\n",
       "    <tr>\n",
       "      <th>1</th>\n",
       "      <td>Aldea</td>\n",
       "      <td>1</td>\n",
       "      <td>4.0</td>\n",
       "      <td>Yum! Cute interior. Great attentive staff. \\n\\...</td>\n",
       "    </tr>\n",
       "    <tr>\n",
       "      <th>2</th>\n",
       "      <td>Andanada</td>\n",
       "      <td>1</td>\n",
       "      <td>3.0</td>\n",
       "      <td>If you live in the Lincoln Center area, you kn...</td>\n",
       "    </tr>\n",
       "  </tbody>\n",
       "</table>\n",
       "</div>"
      ],
      "text/plain": [
       "       Name  Stars  yelp                                             review\n",
       "0  Ai Fiori      1   4.0  I took my family here for dinner as a special ...\n",
       "1     Aldea      1   4.0  Yum! Cute interior. Great attentive staff. \\n\\...\n",
       "2  Andanada      1   3.0  If you live in the Lincoln Center area, you kn..."
      ]
     },
     "execution_count": 156,
     "metadata": {},
     "output_type": "execute_result"
    }
   ],
   "source": [
    "import pandas as pd\n",
    "path = 'michelin_star_data.csv'\n",
    "mich_stars = pd.read_csv(path, usecols=[0,13,14,15])\n",
    "mich_stars.head(3)"
   ]
  },
  {
   "cell_type": "code",
   "execution_count": 157,
   "metadata": {
    "collapsed": false
   },
   "outputs": [
    {
     "data": {
      "text/plain": [
       "0    39\n",
       "1    57\n",
       "2    16\n",
       "3     9\n",
       "Name: Stars, dtype: int64"
      ]
     },
     "execution_count": 157,
     "metadata": {},
     "output_type": "execute_result"
    }
   ],
   "source": [
    "mich_stars.Stars.value_counts().sort_index()"
   ]
  },
  {
   "cell_type": "code",
   "execution_count": 158,
   "metadata": {
    "collapsed": false
   },
   "outputs": [
    {
     "name": "stdout",
     "output_type": "stream",
     "text": [
      "(121,)\n",
      "(121,)\n"
     ]
    }
   ],
   "source": [
    "#X = mich_stars[['yelp','review']].values  # we only take the first two features.\n",
    "X = mich_stars.review\n",
    "print(X.shape)\n",
    "y = mich_stars.Stars\n",
    "print(y.shape)"
   ]
  },
  {
   "cell_type": "code",
   "execution_count": 159,
   "metadata": {
    "collapsed": false
   },
   "outputs": [],
   "source": [
    "from sklearn.cross_validation import train_test_split\n",
    "\n",
    "X_train, X_test, y_train, y_test = train_test_split(X,y)"
   ]
  },
  {
   "cell_type": "code",
   "execution_count": 145,
   "metadata": {
    "collapsed": false
   },
   "outputs": [],
   "source": [
    "from sklearn.feature_extraction.text import CountVectorizer\n",
    "vect = CountVectorizer()\n"
   ]
  },
  {
   "cell_type": "code",
   "execution_count": 139,
   "metadata": {
    "collapsed": true
   },
   "outputs": [],
   "source": [
    "from sklearn.naive_bayes import MultinomialNB\n",
    "from sklearn import metrics\n",
    "\n",
    "#returns accuracy and numbers of features\n",
    "def bayes_test(vect,test): ##write a function so that you can make changes and redo\n",
    "    X_train_dtm = vect.fit_transform(X_train)\n",
    "    X_test_dtm = vect.transform(X_test)\n",
    "    \n",
    "    print( 'Features: ', X_train_dtm.shape[1]) #prints features that were generated\n",
    "    \n",
    "    nb = MultinomialNB()\n",
    "    nb.fit(X_train_dtm, y_train)\n",
    "    y_pred_class = nb.predict(X_test_dtm)\n",
    "    print(y_pred_class)\n",
    "    print('Accuracy ', metrics.accuracy_score(y_test, y_pred_class))\n",
    "    if test is not None:\n",
    "        test_dtm = vect.transform(dc_review)\n",
    "        predictions = nb.predict(test_dtm) \n",
    "        dc_data['stars'] = predictions\n",
    "        return predictions"
   ]
  },
  {
   "cell_type": "code",
   "execution_count": 133,
   "metadata": {
    "collapsed": false
   },
   "outputs": [],
   "source": [
    "from sklearn import metrics\n",
    "from sklearn.multiclass import OneVsRestClassifier\n",
    "from sklearn.svm import LinearSVC\n",
    "#returns accuracy and numbers of features\n",
    "def multiclass_test(vect, test): ##write a function so that you can make changes and redo\n",
    "    X_train_dtm = vect.fit_transform(X_train)\n",
    "    X_test_dtm = vect.transform(X_test)\n",
    "    print( 'Features: ', X_train_dtm.shape[1]) #prints features that were generated\n",
    "    classifier = OneVsRestClassifier(LinearSVC(random_state=2)).fit(X_train_dtm, y_train)\n",
    "    y_pred_class = classifier.predict(X_test_dtm) \n",
    "    print('Accuracy ', metrics.accuracy_score(y_test, y_pred_class))\n",
    "    print(y_pred_class)\n",
    "    if test is not None:\n",
    "        print(\"HERE\")\n",
    "        test_dtm = vect.transform(dc_review)\n",
    "        predictions = classifier.predict(test_dtm) \n",
    "        return predictions"
   ]
  },
  {
   "cell_type": "code",
   "execution_count": 146,
   "metadata": {
    "collapsed": false
   },
   "outputs": [
    {
     "name": "stdout",
     "output_type": "stream",
     "text": [
      "Features:  3199\n",
      "[1 0 1 1 1 1 1 1 1 1 1 1 0 1 2 0 0 1 1 1 1 1 1 1 1 1 1 1 1 1]\n",
      "Accuracy  0.466666666667\n",
      "Features:  3199\n",
      "Accuracy  0.466666666667\n",
      "[1 0 1 1 1 1 0 1 1 1 0 1 1 1 2 0 3 1 1 1 1 1 0 0 1 1 1 1 0 0]\n"
     ]
    }
   ],
   "source": [
    "bayes_test(vect, None)\n",
    "multiclass_test(vect, None)"
   ]
  },
  {
   "cell_type": "code",
   "execution_count": 149,
   "metadata": {
    "collapsed": false
   },
   "outputs": [
    {
     "name": "stdout",
     "output_type": "stream",
     "text": [
      "Features:  3199\n",
      "[1 0 1 1 1 1 1 1 1 1 1 1 0 1 2 0 0 1 1 1 1 1 1 1 1 1 1 1 1 1]\n",
      "Accuracy  0.466666666667\n",
      "Features:  3199\n",
      "Accuracy  0.466666666667\n",
      "[1 0 1 1 1 1 0 1 1 1 0 1 1 1 2 0 3 1 1 1 1 1 0 0 1 1 1 1 0 0]\n"
     ]
    }
   ],
   "source": [
    "vect = CountVectorizer()\n",
    "bayes_test(vect, None)\n",
    "multiclass_test(vect, None)"
   ]
  },
  {
   "cell_type": "code",
   "execution_count": 150,
   "metadata": {
    "collapsed": true
   },
   "outputs": [],
   "source": [
    "##PREDICTION\n",
    "path = 'dc_data.csv'\n",
    "dc_data = pd.read_csv(path)\n",
    "#dc_data"
   ]
  },
  {
   "cell_type": "code",
   "execution_count": 213,
   "metadata": {
    "collapsed": false
   },
   "outputs": [
    {
     "name": "stdout",
     "output_type": "stream",
     "text": [
      "Features:  91\n",
      "Accuracy  0.548387096774\n",
      "[1 1 1 1 0 2 1 0 1 0 1 1 0 1 1 0 0 0 1 1 0 0 0 0 1 0 1 1 1 1 0]\n",
      "HERE\n",
      "0    15\n",
      "1    24\n",
      "2     3\n",
      "3     2\n",
      "Name: stars, dtype: int64\n"
     ]
    },
    {
     "data": {
      "text/html": [
       "<div>\n",
       "<table border=\"1\" class=\"dataframe\">\n",
       "  <thead>\n",
       "    <tr style=\"text-align: right;\">\n",
       "      <th></th>\n",
       "      <th>Name</th>\n",
       "      <th>yelp</th>\n",
       "      <th>review</th>\n",
       "      <th>stars</th>\n",
       "    </tr>\n",
       "  </thead>\n",
       "  <tbody>\n",
       "    <tr>\n",
       "      <th>0</th>\n",
       "      <td>Rose's luxury</td>\n",
       "      <td>4.5</td>\n",
       "      <td>Rose's Luxury. BELIEVE THE HYPE.\\r\\n\\r\\nAfter ...</td>\n",
       "      <td>3</td>\n",
       "    </tr>\n",
       "    <tr>\n",
       "      <th>1</th>\n",
       "      <td>Fiola Mare</td>\n",
       "      <td>4.5</td>\n",
       "      <td>The scenery was amazing! We were in DC in earl...</td>\n",
       "      <td>1</td>\n",
       "    </tr>\n",
       "    <tr>\n",
       "      <th>2</th>\n",
       "      <td>Blue Duck Tavern</td>\n",
       "      <td>4.0</td>\n",
       "      <td>We had a fabulous and elegant brunch to end ou...</td>\n",
       "      <td>2</td>\n",
       "    </tr>\n",
       "    <tr>\n",
       "      <th>3</th>\n",
       "      <td>Pineapple &amp; Pearls</td>\n",
       "      <td>4.5</td>\n",
       "      <td>Beyond beyond beyond!! Exceeded all expectatio...</td>\n",
       "      <td>2</td>\n",
       "    </tr>\n",
       "    <tr>\n",
       "      <th>4</th>\n",
       "      <td>Tail Up Goat</td>\n",
       "      <td>4.5</td>\n",
       "      <td>Tail Up Goat is a fun, share-friendly (good fo...</td>\n",
       "      <td>1</td>\n",
       "    </tr>\n",
       "    <tr>\n",
       "      <th>5</th>\n",
       "      <td>Sushi Capitol</td>\n",
       "      <td>4.5</td>\n",
       "      <td>This place is located right near the Capitol a...</td>\n",
       "      <td>1</td>\n",
       "    </tr>\n",
       "    <tr>\n",
       "      <th>8</th>\n",
       "      <td>Le Diplomate</td>\n",
       "      <td>4.0</td>\n",
       "      <td>For times when the confit is not on the menu, ...</td>\n",
       "      <td>1</td>\n",
       "    </tr>\n",
       "    <tr>\n",
       "      <th>10</th>\n",
       "      <td>Corduroy</td>\n",
       "      <td>4.5</td>\n",
       "      <td>Cyndy's Bottom Line:  Consistently excellent f...</td>\n",
       "      <td>1</td>\n",
       "    </tr>\n",
       "    <tr>\n",
       "      <th>11</th>\n",
       "      <td>Conosci</td>\n",
       "      <td>4.5</td>\n",
       "      <td>\"Put Yourself In Their Hands\" - for at least t...</td>\n",
       "      <td>1</td>\n",
       "    </tr>\n",
       "    <tr>\n",
       "      <th>12</th>\n",
       "      <td>Mintwood Place</td>\n",
       "      <td>4.0</td>\n",
       "      <td>First the food:\\r\\nSalmon Eggs Benedict: I don...</td>\n",
       "      <td>1</td>\n",
       "    </tr>\n",
       "    <tr>\n",
       "      <th>13</th>\n",
       "      <td>Estadio</td>\n",
       "      <td>4.0</td>\n",
       "      <td>I've been here a few times now and have left r...</td>\n",
       "      <td>1</td>\n",
       "    </tr>\n",
       "    <tr>\n",
       "      <th>15</th>\n",
       "      <td>The Riggsby</td>\n",
       "      <td>4.0</td>\n",
       "      <td>Fantastic food. Superb service. Classy environ...</td>\n",
       "      <td>1</td>\n",
       "    </tr>\n",
       "    <tr>\n",
       "      <th>16</th>\n",
       "      <td>Komi</td>\n",
       "      <td>4.5</td>\n",
       "      <td>Fantastic. I hope they get a Michelin star! \\n...</td>\n",
       "      <td>1</td>\n",
       "    </tr>\n",
       "    <tr>\n",
       "      <th>17</th>\n",
       "      <td>Little Serow</td>\n",
       "      <td>4.0</td>\n",
       "      <td>The hype is well earned. Little Serow offers a...</td>\n",
       "      <td>1</td>\n",
       "    </tr>\n",
       "    <tr>\n",
       "      <th>19</th>\n",
       "      <td>Rasika</td>\n",
       "      <td>4.5</td>\n",
       "      <td>This is a happening place, the best Indian I h...</td>\n",
       "      <td>1</td>\n",
       "    </tr>\n",
       "    <tr>\n",
       "      <th>24</th>\n",
       "      <td>The Source</td>\n",
       "      <td>4.0</td>\n",
       "      <td>My husband treated me to their 7 course tastin...</td>\n",
       "      <td>1</td>\n",
       "    </tr>\n",
       "    <tr>\n",
       "      <th>25</th>\n",
       "      <td>The Masseria</td>\n",
       "      <td>4.0</td>\n",
       "      <td>Cyndy's Bottom Line:  Well excited dishes, div...</td>\n",
       "      <td>1</td>\n",
       "    </tr>\n",
       "    <tr>\n",
       "      <th>26</th>\n",
       "      <td>Garrison</td>\n",
       "      <td>3.5</td>\n",
       "      <td>My roommate suggested we get Sunday brunch wit...</td>\n",
       "      <td>1</td>\n",
       "    </tr>\n",
       "    <tr>\n",
       "      <th>28</th>\n",
       "      <td>Blue Duck Tavern</td>\n",
       "      <td>4.0</td>\n",
       "      <td>We had a fabulous and elegant brunch to end ou...</td>\n",
       "      <td>2</td>\n",
       "    </tr>\n",
       "    <tr>\n",
       "      <th>29</th>\n",
       "      <td>Central Michel Richard</td>\n",
       "      <td>4.0</td>\n",
       "      <td>We had not been to Central in years, and of co...</td>\n",
       "      <td>1</td>\n",
       "    </tr>\n",
       "    <tr>\n",
       "      <th>30</th>\n",
       "      <td>Marcel's</td>\n",
       "      <td>4.5</td>\n",
       "      <td>Excellent brunch (reasonably priced menu) at M...</td>\n",
       "      <td>1</td>\n",
       "    </tr>\n",
       "    <tr>\n",
       "      <th>31</th>\n",
       "      <td>Minibar</td>\n",
       "      <td>4.5</td>\n",
       "      <td>Have to echo many of the great reviews here.\\n...</td>\n",
       "      <td>1</td>\n",
       "    </tr>\n",
       "    <tr>\n",
       "      <th>32</th>\n",
       "      <td>Fiola</td>\n",
       "      <td>4.0</td>\n",
       "      <td>Brought my wife here for her birthday.  It was...</td>\n",
       "      <td>1</td>\n",
       "    </tr>\n",
       "    <tr>\n",
       "      <th>33</th>\n",
       "      <td>Estadio</td>\n",
       "      <td>4.0</td>\n",
       "      <td>I've been here a few times now and have left r...</td>\n",
       "      <td>1</td>\n",
       "    </tr>\n",
       "    <tr>\n",
       "      <th>35</th>\n",
       "      <td>Obelisk</td>\n",
       "      <td>4.0</td>\n",
       "      <td>I finally visited here last night after keepin...</td>\n",
       "      <td>3</td>\n",
       "    </tr>\n",
       "    <tr>\n",
       "      <th>39</th>\n",
       "      <td>The Bombay Club</td>\n",
       "      <td>3.5</td>\n",
       "      <td>I'm normally not one to go to restaurants this...</td>\n",
       "      <td>1</td>\n",
       "    </tr>\n",
       "    <tr>\n",
       "      <th>41</th>\n",
       "      <td>The Dabney</td>\n",
       "      <td>4.0</td>\n",
       "      <td>Yes, yes, yes. Just so much YES.\\n\\nIt's rare...</td>\n",
       "      <td>1</td>\n",
       "    </tr>\n",
       "    <tr>\n",
       "      <th>42</th>\n",
       "      <td>Centrolina</td>\n",
       "      <td>3.5</td>\n",
       "      <td>This is located in the beautiful upscale Palme...</td>\n",
       "      <td>1</td>\n",
       "    </tr>\n",
       "    <tr>\n",
       "      <th>43</th>\n",
       "      <td>Toki Underground</td>\n",
       "      <td>4.0</td>\n",
       "      <td>Hipster to the extreme, easily misses if you d...</td>\n",
       "      <td>1</td>\n",
       "    </tr>\n",
       "  </tbody>\n",
       "</table>\n",
       "</div>"
      ],
      "text/plain": [
       "                      Name  yelp  \\\n",
       "0            Rose's luxury   4.5   \n",
       "1               Fiola Mare   4.5   \n",
       "2         Blue Duck Tavern   4.0   \n",
       "3       Pineapple & Pearls   4.5   \n",
       "4             Tail Up Goat   4.5   \n",
       "5            Sushi Capitol   4.5   \n",
       "8             Le Diplomate   4.0   \n",
       "10                Corduroy   4.5   \n",
       "11                 Conosci   4.5   \n",
       "12          Mintwood Place   4.0   \n",
       "13                 Estadio   4.0   \n",
       "15             The Riggsby   4.0   \n",
       "16                    Komi   4.5   \n",
       "17            Little Serow   4.0   \n",
       "19                  Rasika   4.5   \n",
       "24              The Source   4.0   \n",
       "25            The Masseria   4.0   \n",
       "26                Garrison   3.5   \n",
       "28        Blue Duck Tavern   4.0   \n",
       "29  Central Michel Richard   4.0   \n",
       "30                Marcel's   4.5   \n",
       "31                 Minibar   4.5   \n",
       "32                   Fiola   4.0   \n",
       "33                 Estadio   4.0   \n",
       "35                 Obelisk   4.0   \n",
       "39         The Bombay Club   3.5   \n",
       "41              The Dabney   4.0   \n",
       "42              Centrolina   3.5   \n",
       "43        Toki Underground   4.0   \n",
       "\n",
       "                                               review  stars  \n",
       "0   Rose's Luxury. BELIEVE THE HYPE.\\r\\n\\r\\nAfter ...      3  \n",
       "1   The scenery was amazing! We were in DC in earl...      1  \n",
       "2   We had a fabulous and elegant brunch to end ou...      2  \n",
       "3   Beyond beyond beyond!! Exceeded all expectatio...      2  \n",
       "4   Tail Up Goat is a fun, share-friendly (good fo...      1  \n",
       "5   This place is located right near the Capitol a...      1  \n",
       "8   For times when the confit is not on the menu, ...      1  \n",
       "10  Cyndy's Bottom Line:  Consistently excellent f...      1  \n",
       "11  \"Put Yourself In Their Hands\" - for at least t...      1  \n",
       "12  First the food:\\r\\nSalmon Eggs Benedict: I don...      1  \n",
       "13  I've been here a few times now and have left r...      1  \n",
       "15  Fantastic food. Superb service. Classy environ...      1  \n",
       "16  Fantastic. I hope they get a Michelin star! \\n...      1  \n",
       "17  The hype is well earned. Little Serow offers a...      1  \n",
       "19  This is a happening place, the best Indian I h...      1  \n",
       "24  My husband treated me to their 7 course tastin...      1  \n",
       "25  Cyndy's Bottom Line:  Well excited dishes, div...      1  \n",
       "26  My roommate suggested we get Sunday brunch wit...      1  \n",
       "28  We had a fabulous and elegant brunch to end ou...      2  \n",
       "29  We had not been to Central in years, and of co...      1  \n",
       "30  Excellent brunch (reasonably priced menu) at M...      1  \n",
       "31  Have to echo many of the great reviews here.\\n...      1  \n",
       "32  Brought my wife here for her birthday.  It was...      1  \n",
       "33  I've been here a few times now and have left r...      1  \n",
       "35  I finally visited here last night after keepin...      3  \n",
       "39  I'm normally not one to go to restaurants this...      1  \n",
       "41   Yes, yes, yes. Just so much YES.\\n\\nIt's rare...      1  \n",
       "42  This is located in the beautiful upscale Palme...      1  \n",
       "43  Hipster to the extreme, easily misses if you d...      1  "
      ]
     },
     "execution_count": 213,
     "metadata": {},
     "output_type": "execute_result"
    }
   ],
   "source": [
    "dc_review = dc_data.review #one dimensional - count vectorizer takes one dimensional text and makes it two\n",
    "vect = CountVectorizer(ngram_range=(1,2), min_df=0.25)\n",
    "predictions = multiclass_test(vect, dc_review)\n",
    "dc_data['stars'] = predictions\n",
    "print(dc_data.stars.value_counts().sort_index())\n",
    "dc_data_only_stars =dc_data[dc_data.stars>0]\n",
    "dc_data_only_stars[['Name','stars']].to_csv('output_final2.csv')\n",
    "dc_data_only_stars\n"
   ]
  }
 ],
 "metadata": {
  "kernelspec": {
   "display_name": "Python [Root]",
   "language": "python",
   "name": "Python [Root]"
  },
  "language_info": {
   "codemirror_mode": {
    "name": "ipython",
    "version": 3
   },
   "file_extension": ".py",
   "mimetype": "text/x-python",
   "name": "python",
   "nbconvert_exporter": "python",
   "pygments_lexer": "ipython3",
   "version": "3.5.2"
  }
 },
 "nbformat": 4,
 "nbformat_minor": 0
}
