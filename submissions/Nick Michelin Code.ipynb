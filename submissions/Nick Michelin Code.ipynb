{
 "cells": [
  {
   "cell_type": "code",
   "execution_count": 1,
   "metadata": {
    "collapsed": true
   },
   "outputs": [],
   "source": [
    "import requests\n",
    "import pandas as pd\n",
    "import json\n",
    "import numpy as np\n",
    "import requests\n",
    "import json\n",
    "import re\n",
    "import matplotlib.pyplot as plt\n",
    "%matplotlib inline\n",
    "import unicodedata"
   ]
  },
  {
   "cell_type": "markdown",
   "metadata": {},
   "source": [
    "### Using yelp API, collect data from Chicago, New York, San Francisco (all Michelin reviewed cities) & DC."
   ]
  },
  {
   "cell_type": "code",
   "execution_count": 2,
   "metadata": {
    "collapsed": true
   },
   "outputs": [],
   "source": [
    "authorization = {'Authorization': ***** }"
   ]
  },
  {
   "cell_type": "code",
   "execution_count": 14,
   "metadata": {
    "collapsed": false
   },
   "outputs": [],
   "source": [
    "dc_yelp = []\n",
    "\n",
    "for offset in range(0, 300, 20):\n",
    "    try:\n",
    "        response = requests.get('https://api.yelp.com/v3/businesses/search?term=restaurants&location=Washington,+DC&offset={}&sort_by=rating&price=2,3,4'.format(offset), headers=authorization)\n",
    "        dc_yelp.append(json.loads(response.text))\n",
    "    except:\n",
    "        pass"
   ]
  },
  {
   "cell_type": "code",
   "execution_count": 19,
   "metadata": {
    "collapsed": false
   },
   "outputs": [],
   "source": [
    "chicago_yelp = []\n",
    "\n",
    "for offset in range(0, 300, 20):\n",
    "    try:\n",
    "        response = requests.get('https://api.yelp.com/v3/businesses/search?term=restaurants&location=Chicago&offset={}&sort_by=rating&price=2,3,4'.format(offset), headers=authorization)\n",
    "        chicago_yelp.append(json.loads(response.text))\n",
    "    except:\n",
    "        pass"
   ]
  },
  {
   "cell_type": "code",
   "execution_count": 20,
   "metadata": {
    "collapsed": true
   },
   "outputs": [],
   "source": [
    "ny_yelp = []\n",
    "\n",
    "for offset in range(0, 300, 20):\n",
    "    try:\n",
    "        response = requests.get('https://api.yelp.com/v3/businesses/search?term=restaurants&location=New+York&offset={}&sort_by=rating&price=2,3,4'.format(offset), headers=authorization)\n",
    "        ny_yelp.append(json.loads(response.text))\n",
    "    except:\n",
    "        pass"
   ]
  },
  {
   "cell_type": "code",
   "execution_count": 21,
   "metadata": {
    "collapsed": true
   },
   "outputs": [],
   "source": [
    "sf_yelp = []\n",
    "\n",
    "for offset in range(0, 300, 20):\n",
    "    try:\n",
    "        response = requests.get('https://api.yelp.com/v3/businesses/search?term=restaurants&location=San+Francisco&offset={}&sort_by=rating&price=2,3,4'.format(offset), headers=authorization)\n",
    "        sf_yelp.append(json.loads(response.text))\n",
    "    except:\n",
    "        pass"
   ]
  },
  {
   "cell_type": "markdown",
   "metadata": {},
   "source": [
    "### Read data into dataframes."
   ]
  },
  {
   "cell_type": "code",
   "execution_count": 9,
   "metadata": {
    "collapsed": true
   },
   "outputs": [],
   "source": [
    "def df_maker(yelp):\n",
    "    rest_id = []\n",
    "    name = []\n",
    "    rating = []\n",
    "    review_count = []\n",
    "    price = []\n",
    "    categories = []\n",
    "    for dict in yelp:\n",
    "        for k, v in dict.iteritems():\n",
    "            if k == 'businesses':\n",
    "                for dict in v:\n",
    "                    for inner_k, inner_v in dict.iteritems():\n",
    "                        if inner_k == 'id':\n",
    "                            rest_id.append(inner_v)\n",
    "                        elif inner_k == 'name':\n",
    "                            name.append(inner_v)\n",
    "                        elif inner_k == 'rating':\n",
    "                            rating.append(inner_v)\n",
    "                        elif inner_k == 'review_count':\n",
    "                            review_count.append(inner_v)\n",
    "                        elif inner_k == 'price':\n",
    "                            price.append(inner_v)\n",
    "                        elif inner_k == 'categories':\n",
    "                            aliases = []\n",
    "                            for dict in inner_v:\n",
    "                                for deep_k, deep_v in dict.iteritems():\n",
    "                                    if deep_k == 'alias':\n",
    "                                        aliases.append(deep_v)\n",
    "                            categories.append(\" \".join(aliases))\n",
    "                                        \n",
    "                            \n",
    "    df = pd.DataFrame({ 'num_reviews': review_count, \n",
    "                        'price': price, \n",
    "                        'rating': rating,\n",
    "                        'restaurant': name,\n",
    "                        'rest_id': rest_id,\n",
    "                        'category': categories })\n",
    "\n",
    "    df = df[['restaurant', 'rest_id', 'rating', 'price', 'num_reviews', 'category']]\n",
    "    return df"
   ]
  },
  {
   "cell_type": "code",
   "execution_count": 273,
   "metadata": {
    "collapsed": true
   },
   "outputs": [],
   "source": [
    "dc = df_maker(dc_yelp)\n",
    "chi = df_maker(chicago_yelp)\n",
    "sf = df_maker(sf_yelp)\n",
    "ny = df_maker(ny_yelp)"
   ]
  },
  {
   "cell_type": "code",
   "execution_count": 27,
   "metadata": {
    "collapsed": true
   },
   "outputs": [],
   "source": [
    "dc.restaurant = dc.restaurant.apply(lambda x: unicodedata.normalize('NFKD', x).encode('ascii', 'ignore'))\n",
    "sf.restaurant = sf.restaurant.apply(lambda x: unicodedata.normalize('NFKD', x).encode('ascii', 'ignore'))\n",
    "ny.restaurant = ny.restaurant.apply(lambda x: unicodedata.normalize('NFKD', x).encode('ascii', 'ignore'))\n",
    "chi.restaurant = chi.restaurant.apply(lambda x: unicodedata.normalize('NFKD', x).encode('ascii', 'ignore'))"
   ]
  },
  {
   "cell_type": "markdown",
   "metadata": {},
   "source": [
    "### I prepared (manually) a list of all US Michelin starred restaurants. Since only some were picked on the first   sweep of yelp's API,  I'll need to do a second request, this time asking for specific restaurant names. If this creates duplicates (it will), I'll deal with them later.\n"
   ]
  },
  {
   "cell_type": "code",
   "execution_count": 249,
   "metadata": {
    "collapsed": false
   },
   "outputs": [],
   "source": [
    "stars = pd.read_csv('/users/nick/desktop/michelin_stars.csv')"
   ]
  },
  {
   "cell_type": "code",
   "execution_count": 250,
   "metadata": {
    "collapsed": false
   },
   "outputs": [],
   "source": [
    "sf_stars = []\n",
    "for i in stars.loc[stars.SanFran.notnull()].SanFran:\n",
    "    sf_stars.append(i)\n",
    "    \n",
    "ny_stars = []\n",
    "for i in stars.loc[stars.NewYork.notnull()].NewYork:\n",
    "    ny_stars.append(i)\n",
    "    \n",
    "chi_stars = []\n",
    "for i in stars.loc[stars.Chicago.notnull()].Chicago:\n",
    "    chi_stars.append(i)"
   ]
  },
  {
   "cell_type": "code",
   "execution_count": 251,
   "metadata": {
    "collapsed": false
   },
   "outputs": [],
   "source": [
    "sf_michelin = []\n",
    "\n",
    "for i in stars.loc[stars.SanFran.notnull()].SanFran:\n",
    "    response = requests.get('https://api.yelp.com/v3/businesses/search?term={}&location=San+Francisco&categories=restaurants'.format(i.replace(' ', '+')), headers=authorization)\n",
    "    try:\n",
    "        for r in range(response.json()['total']):\n",
    "            if (response.json()['businesses'][r]['name'] in i.decode('utf-8') or i.decode('utf-8') in response.json()['businesses'][r]['name']):\n",
    "                sf_michelin.append([response.json()['businesses'][r]])\n",
    "    except:\n",
    "        pass"
   ]
  },
  {
   "cell_type": "code",
   "execution_count": 237,
   "metadata": {
    "collapsed": false
   },
   "outputs": [],
   "source": [
    "ny_michelin = []\n",
    "\n",
    "for i in stars.loc[stars.NewYork.notnull()].NewYork:\n",
    "    response = requests.get('https://api.yelp.com/v3/businesses/search?term={}&location=New+York&categories=restaurants'.format(i.replace(' ', '+')), headers=authorization)\n",
    "    try:\n",
    "        for r in range(response.json()['total']):\n",
    "            if (response.json()['businesses'][r]['name'] in i.decode('utf-8') or i.decode('utf-8') in response.json()['businesses'][r]['name']):\n",
    "                if response.json()['businesses'][r]['review_count'] > 15:\n",
    "                    ny_michelin.append([response.json()['businesses'][r]])\n",
    "    except:\n",
    "        pass"
   ]
  },
  {
   "cell_type": "code",
   "execution_count": 238,
   "metadata": {
    "collapsed": false
   },
   "outputs": [],
   "source": [
    "chi_michelin = []\n",
    "\n",
    "for i in stars.loc[stars.Chicago.notnull()].Chicago:\n",
    "    response = requests.get('https://api.yelp.com/v3/businesses/search?term={}&location=Chicago&categories=restaurants'.format(i.replace(' ', '+')), headers=authorization)\n",
    "    try:\n",
    "        for r in range(response.json()['total']):\n",
    "            if (response.json()['businesses'][r]['name'] in i.decode('utf-8') or i.decode('utf-8') in response.json()['businesses'][r]['name']):\n",
    "                chi_michelin.append([response.json()['businesses'][r]])\n",
    "    except:\n",
    "        pass\n"
   ]
  },
  {
   "cell_type": "code",
   "execution_count": 244,
   "metadata": {
    "collapsed": true
   },
   "outputs": [],
   "source": [
    "def df_maker_v2(reviews):\n",
    "    rest_id = []\n",
    "    name = []\n",
    "    rating = []\n",
    "    review_count = []\n",
    "    price = []\n",
    "    categories = []\n",
    "    for list in reviews:\n",
    "        for dict in list:\n",
    "            for k, v in dict.iteritems():\n",
    "                if k == 'id':\n",
    "                    rest_id.append(v)\n",
    "                elif k == 'name':\n",
    "                    name.append(v)\n",
    "                elif k == 'rating':\n",
    "                    rating.append(v)\n",
    "                elif k == 'review_count':\n",
    "                    review_count.append(v)\n",
    "                elif k == 'price':\n",
    "                    price.append(v)\n",
    "                elif k == 'categories':\n",
    "                            aliases = []\n",
    "                            for dict in v:\n",
    "                                for inner_k, inner_v in dict.iteritems():\n",
    "                                    if inner_k == 'alias':\n",
    "                                        aliases.append(inner_v)\n",
    "                            categories.append(\" \".join(aliases))\n",
    "                            \n",
    "    df = pd.DataFrame({ 'num_reviews': review_count, \n",
    "                        'price': price, \n",
    "                        'rating': rating,\n",
    "                        'restaurant': name,\n",
    "                        'rest_id': rest_id,\n",
    "                        'category': categories })\n",
    "\n",
    "    df = df[['restaurant', 'rest_id', 'rating', 'price', 'num_reviews', 'category']]\n",
    "    return df"
   ]
  },
  {
   "cell_type": "code",
   "execution_count": 252,
   "metadata": {
    "collapsed": false
   },
   "outputs": [],
   "source": [
    "sf_stars = df_maker_v2(sf_michelin)\n",
    "ny_stars = df_maker_v2(ny_michelin)\n",
    "chi_stars = df_maker_v2(chi_michelin)"
   ]
  },
  {
   "cell_type": "markdown",
   "metadata": {},
   "source": [
    "### Updating dataframe with known Michelin star counts (from manually created list of Michelin starred restaurants)."
   ]
  },
  {
   "cell_type": "code",
   "execution_count": 255,
   "metadata": {
    "collapsed": false
   },
   "outputs": [],
   "source": [
    "for a, b in enumerate(sf_stars.restaurant):\n",
    "    try:\n",
    "        for x, y in enumerate(stars.loc[stars.SanFran.notnull()].SanFran):\n",
    "            if (b.encode('utf-8') in y or y in b.encode('utf-8')):\n",
    "                sf_stars.loc[a, 'stars'] = stars.loc[x, 'sf_stars']\n",
    "    except:\n",
    "        sf_stars.loc[a, 'stars'] = 0"
   ]
  },
  {
   "cell_type": "code",
   "execution_count": 256,
   "metadata": {
    "collapsed": false
   },
   "outputs": [],
   "source": [
    "for a, b in enumerate(ny_stars.restaurant):\n",
    "    try:\n",
    "        for x, y in enumerate(stars.loc[stars.NewYork.notnull()].NewYork):\n",
    "            if (b.encode('utf-8') in y or y in b.encode('utf-8')):\n",
    "                ny_stars.loc[a, 'stars'] = stars.loc[x, 'ny_stars']\n",
    "    except:\n",
    "        ny_stars.loc[a, 'stars'] = 0"
   ]
  },
  {
   "cell_type": "code",
   "execution_count": 257,
   "metadata": {
    "collapsed": false
   },
   "outputs": [],
   "source": [
    "for a, b in enumerate(chi_stars.restaurant):\n",
    "    try:\n",
    "        for x, y in enumerate(stars.loc[stars.Chicago.notnull()].Chicago):\n",
    "            if (b.encode('utf-8') in y or y in b.encode('utf-8')):\n",
    "                chi_stars.loc[a, 'stars'] = stars.loc[x, 'chi_stars']\n",
    "    except:\n",
    "        chi_stars.loc[a, 'stars'] = 0"
   ]
  },
  {
   "cell_type": "code",
   "execution_count": 274,
   "metadata": {
    "collapsed": false
   },
   "outputs": [],
   "source": [
    "ny = pd.concat([ny, ny_stars])\n",
    "ny.reset_index(drop=True, inplace=True)\n",
    "ny.stars.replace(np.nan, 0, inplace=True)"
   ]
  },
  {
   "cell_type": "code",
   "execution_count": 275,
   "metadata": {
    "collapsed": false
   },
   "outputs": [],
   "source": [
    "chi = pd.concat([chi, chi_stars])\n",
    "chi.reset_index(drop=True, inplace=True)\n",
    "chi.stars.replace(np.nan, 0, inplace=True)"
   ]
  },
  {
   "cell_type": "code",
   "execution_count": 276,
   "metadata": {
    "collapsed": true
   },
   "outputs": [],
   "source": [
    "sf = pd.concat([sf, sf_stars])\n",
    "sf.reset_index(drop=True, inplace=True)\n",
    "sf.stars.replace(np.nan, 0, inplace=True)"
   ]
  },
  {
   "cell_type": "markdown",
   "metadata": {},
   "source": [
    "### DC touch-ups"
   ]
  },
  {
   "cell_type": "code",
   "execution_count": 1679,
   "metadata": {
    "collapsed": false
   },
   "outputs": [],
   "source": [
    "# Looking through the DC restaurants pulled from yelp, many were missing that I think will be Michelin contenders. \n",
    "# So, as above, I'll return to yelp's API. \n",
    "contenders = [\"Kinship\", \"Marcel's\", \"Masseria\", \"Riggsby\", \"Garrison\", \"Mintwood\", \"Red Hen\", \"G by Mike Isabella\", \"Fiola Mare\", \"Le Diplomate\", \"Boss Shepherd's\", \"minibar\", \"The Dabney\", \"Metier\", \"Little Serow\", \"Source\", \"Obelisk\", \"Plume\"]"
   ]
  },
  {
   "cell_type": "code",
   "execution_count": 1680,
   "metadata": {
    "collapsed": false
   },
   "outputs": [],
   "source": [
    "dc_contenders = []\n",
    "\n",
    "for i in contenders:\n",
    "    response = requests.get('https://api.yelp.com/v3/businesses/search?term={}&location=Washington,+DC&categories=restaurants'.format(i.replace(' ', '+')), headers=authorization)\n",
    "    try:\n",
    "        for r in range(response.json()['total']):\n",
    "            if (response.json()['businesses'][r]['name'] in i.decode('utf-8') or i.decode('utf-8') in response.json()['businesses'][r]['name']):\n",
    "                dc_contenders.append([response.json()['businesses'][r]])\n",
    "    except:\n",
    "        pass"
   ]
  },
  {
   "cell_type": "code",
   "execution_count": 2511,
   "metadata": {
    "collapsed": false
   },
   "outputs": [],
   "source": [
    "dc_contenders = df_maker_v2(dc_contenders)\n",
    "dc = pd.concat([dc, dc_contenders])\n",
    "dc.reset_index(drop=True, inplace=True)"
   ]
  },
  {
   "cell_type": "markdown",
   "metadata": {},
   "source": [
    "### Because I made two passes through yelp's API, there are duplicates. Need to get rid of those. Also, some restaurants have multiple yelp pages. I want only those with the highest number of reviews."
   ]
  },
  {
   "cell_type": "code",
   "execution_count": 277,
   "metadata": {
    "collapsed": false
   },
   "outputs": [],
   "source": [
    "def duplicate_dropper(city):\n",
    "    \n",
    "    for i, e in enumerate(city.restaurant):\n",
    "        if e in city.loc[city.duplicated(subset='restaurant') & (city.stars > 0)].restaurant.values:\n",
    "            if city.loc[i, 'stars'] == 0:\n",
    "                city.drop(i, axis=0, inplace=True) \n",
    "            \n",
    "    city.reset_index(drop=True, inplace=True)\n",
    "            \n",
    "    for i, e in enumerate(city.restaurant):\n",
    "        for r in range(len(city)):\n",
    "            try:\n",
    "                if (e == city.loc[r, 'restaurant'] and i != r):\n",
    "                    if city.loc[i, 'num_reviews'] > city.loc[r, 'num_reviews']:\n",
    "                        city.drop(r, axis=0, inplace=True)\n",
    "                    else:\n",
    "                        city.drop(i, axis=0, inplace=True)\n",
    "            except:\n",
    "                pass\n",
    "            \n",
    "    city.reset_index(drop=True, inplace=True)"
   ]
  },
  {
   "cell_type": "code",
   "execution_count": 278,
   "metadata": {
    "collapsed": true
   },
   "outputs": [],
   "source": [
    "duplicate_dropper(chi)\n",
    "duplicate_dropper(ny)\n",
    "duplicate_dropper(sf)"
   ]
  },
  {
   "cell_type": "code",
   "execution_count": 1688,
   "metadata": {
    "collapsed": false
   },
   "outputs": [],
   "source": [
    "# Since 'dc' doesn't have a 'stars' columns, I'll need to its duplicate check separately.\n",
    "for i, e in enumerate(dc.restaurant):\n",
    "    for r in range(len(dc)):\n",
    "        try:\n",
    "            if (e == dc.loc[r, 'restaurant'] and i != r):\n",
    "                if dc.loc[i, 'num_reviews'] > dc.loc[r, 'num_reviews']:\n",
    "                    dc.drop(r, axis=0, inplace=True)\n",
    "                else:\n",
    "                    dc.drop(i, axis=0, inplace=True)\n",
    "        except:\n",
    "            pass\n",
    "            \n",
    "dc.reset_index(drop=True, inplace=True)"
   ]
  },
  {
   "cell_type": "markdown",
   "metadata": {},
   "source": [
    "### I want review text, which requires another (tailored) API request."
   ]
  },
  {
   "cell_type": "code",
   "execution_count": 280,
   "metadata": {
    "collapsed": false
   },
   "outputs": [],
   "source": [
    "ny_reviews = []\n",
    "\n",
    "for i in ny.rest_id:\n",
    "    response = requests.get('https://api.yelp.com/v3/businesses/{}/reviews'.format(i.encode('utf-8')), headers=authorization)\n",
    "    store_reviews = []\n",
    "    for r in range(response.json()['total']):\n",
    "            store_reviews.append(response.json()['reviews'][r]['text'])\n",
    "    ny_reviews.append(\" \".join(store_reviews))"
   ]
  },
  {
   "cell_type": "code",
   "execution_count": 283,
   "metadata": {
    "collapsed": true
   },
   "outputs": [],
   "source": [
    "sf_reviews = []\n",
    "\n",
    "for i in sf.rest_id:\n",
    "    response = requests.get('https://api.yelp.com/v3/businesses/{}/reviews'.format(i.encode('utf-8')), headers=authorization)\n",
    "    store_reviews = []\n",
    "    for r in range(response.json()['total']):\n",
    "            store_reviews.append(response.json()['reviews'][r]['text'])\n",
    "    sf_reviews.append(\" \".join(store_reviews))"
   ]
  },
  {
   "cell_type": "code",
   "execution_count": 286,
   "metadata": {
    "collapsed": true
   },
   "outputs": [],
   "source": [
    "chi_reviews = []\n",
    "\n",
    "for i in chi.rest_id:\n",
    "    response = requests.get('https://api.yelp.com/v3/businesses/{}/reviews'.format(i.encode('utf-8')), headers=authorization)\n",
    "    store_reviews = []\n",
    "    for r in range(response.json()['total']):\n",
    "            store_reviews.append(response.json()['reviews'][r]['text'])\n",
    "    chi_reviews.append(\" \".join(store_reviews))"
   ]
  },
  {
   "cell_type": "code",
   "execution_count": 287,
   "metadata": {
    "collapsed": true
   },
   "outputs": [],
   "source": [
    "dc_reviews = []\n",
    "\n",
    "for i in dc.rest_id:\n",
    "    response = requests.get('https://api.yelp.com/v3/businesses/{}/reviews'.format(i.encode('utf-8')), headers=authorization)\n",
    "    store_reviews = []\n",
    "    for r in range(response.json()['total']):\n",
    "            store_reviews.append(response.json()['reviews'][r]['text'])\n",
    "    dc_reviews.append(\" \".join(store_reviews))"
   ]
  },
  {
   "cell_type": "code",
   "execution_count": 289,
   "metadata": {
    "collapsed": true
   },
   "outputs": [],
   "source": [
    "chi['text'] = chi.category + ' ' + chi_reviews\n",
    "ny['text'] = ny.category + ' ' + ny_reviews\n",
    "sf['text'] = sf.category + ' ' + sf_reviews\n",
    "dc['text'] = dc.category + ' ' + dc_reviews"
   ]
  },
  {
   "cell_type": "code",
   "execution_count": 294,
   "metadata": {
    "collapsed": false
   },
   "outputs": [],
   "source": [
    "# Change dollar signs to integers so price can be used for modeling.\n",
    "\n",
    "price_map = { '$$': 1,\n",
    "              '$$$': 2,\n",
    "              '$$$$': 3 }\n",
    "\n",
    "chi.price = chi.price.map(price_map)\n",
    "sf.price = sf.price.map(price_map)\n",
    "dc.price = dc.price.map(price_map)\n",
    "ny.price = ny.price.map(price_map)"
   ]
  },
  {
   "cell_type": "markdown",
   "metadata": {},
   "source": [
    "## DONE WITH DATA CLEANING"
   ]
  },
  {
   "cell_type": "markdown",
   "metadata": {},
   "source": [
    "### I will be modeling on San Francisco and New York data, and testing against Chicago data. "
   ]
  },
  {
   "cell_type": "markdown",
   "metadata": {},
   "source": [
    "#### Some light text analysis. "
   ]
  },
  {
   "cell_type": "code",
   "execution_count": 2024,
   "metadata": {
    "collapsed": false
   },
   "outputs": [],
   "source": [
    "from sklearn.feature_extraction.text import TfidfVectorizer\n",
    "tvec = TfidfVectorizer(ngram_range=(1,2), stop_words='english')"
   ]
  },
  {
   "cell_type": "code",
   "execution_count": 1044,
   "metadata": {
    "collapsed": false
   },
   "outputs": [],
   "source": [
    "sf_ny = pd.concat([sf, ny])"
   ]
  },
  {
   "cell_type": "code",
   "execution_count": 1045,
   "metadata": {
    "collapsed": false
   },
   "outputs": [],
   "source": [
    "sf_ny.reset_index(drop=True, inplace=True)"
   ]
  },
  {
   "cell_type": "code",
   "execution_count": 2040,
   "metadata": {
    "collapsed": false
   },
   "outputs": [
    {
     "data": {
      "text/plain": [
       "TfidfVectorizer(analyzer=u'word', binary=False, decode_error=u'strict',\n",
       "        dtype=<type 'numpy.int64'>, encoding=u'utf-8', input=u'content',\n",
       "        lowercase=True, max_df=1.0, max_features=None, min_df=1,\n",
       "        ngram_range=(1, 2), norm=u'l2', preprocessor=None, smooth_idf=True,\n",
       "        stop_words='english', strip_accents=None, sublinear_tf=False,\n",
       "        token_pattern=u'(?u)\\\\b\\\\w\\\\w+\\\\b', tokenizer=None, use_idf=True,\n",
       "        vocabulary=None)"
      ]
     },
     "execution_count": 2040,
     "metadata": {},
     "output_type": "execute_result"
    }
   ],
   "source": [
    "tvec.fit(sf_ny.text)"
   ]
  },
  {
   "cell_type": "code",
   "execution_count": 2041,
   "metadata": {
    "collapsed": true
   },
   "outputs": [],
   "source": [
    "text_train = pd.DataFrame(tvec.transform(sf_ny.text).todense(),\n",
    "                   columns=tvec.get_feature_names())"
   ]
  },
  {
   "cell_type": "code",
   "execution_count": 2042,
   "metadata": {
    "collapsed": true
   },
   "outputs": [],
   "source": [
    "y_train = sf_ny.stars\n",
    "text_test = pd.DataFrame(tvec.transform(chi.text).todense(),\n",
    "                   columns=tvec.get_feature_names())\n",
    "y_test = chi.stars"
   ]
  },
  {
   "cell_type": "markdown",
   "metadata": {},
   "source": [
    "#### Quick check of the predictive power of text."
   ]
  },
  {
   "cell_type": "code",
   "execution_count": null,
   "metadata": {
    "collapsed": true
   },
   "outputs": [],
   "source": [
    "from sklearn.ensemble import RandomForestClassifier\n",
    "from sklearn.metrics import confusion_matrix"
   ]
  },
  {
   "cell_type": "code",
   "execution_count": 2043,
   "metadata": {
    "collapsed": true
   },
   "outputs": [],
   "source": [
    "rfc.fit(text_train, y_train)\n",
    "y_pred = rfc.predict(text_test)"
   ]
  },
  {
   "cell_type": "code",
   "execution_count": 2044,
   "metadata": {
    "collapsed": false
   },
   "outputs": [
    {
     "data": {
      "text/plain": [
       "0.88601036269430056"
      ]
     },
     "execution_count": 2044,
     "metadata": {},
     "output_type": "execute_result"
    }
   ],
   "source": [
    "metrics.accuracy_score(y_test, y_pred)"
   ]
  },
  {
   "cell_type": "code",
   "execution_count": 2045,
   "metadata": {
    "collapsed": false
   },
   "outputs": [
    {
     "data": {
      "text/plain": [
       "array([[169,   2,   0,   0],\n",
       "       [ 15,   2,   0,   0],\n",
       "       [  0,   3,   0,   0],\n",
       "       [  2,   0,   0,   0]])"
      ]
     },
     "execution_count": 2045,
     "metadata": {},
     "output_type": "execute_result"
    }
   ],
   "source": [
    "from sklearn.metrics import confusion_matrix\n",
    "confusion_matrix(y_test, y_pred)"
   ]
  },
  {
   "cell_type": "markdown",
   "metadata": {},
   "source": [
    "### Text wound up not being useful. Yelp's API clips access to user reviews to three per restaurant, AND ~ one sentence per review. And while \"star restaurant\", \"michelin\", \"michelin star\", were (somewhat) predictive in Chicago, those are words unlikely to appear in DC reviews. Still, ever optimistic, I decided to create one column, 'natm', that registers whether 'newamerican' or 'tasting menu' appeared in category/review text. The thinking being that new american really means cutting edge fine dining, which describes many  of DC's most hyped restaurants."
   ]
  },
  {
   "cell_type": "code",
   "execution_count": 2046,
   "metadata": {
    "collapsed": false
   },
   "outputs": [
    {
     "data": {
      "text/html": [
       "<div>\n",
       "<table border=\"1\" class=\"dataframe\">\n",
       "  <thead>\n",
       "    <tr style=\"text-align: right;\">\n",
       "      <th></th>\n",
       "      <th>importance</th>\n",
       "    </tr>\n",
       "  </thead>\n",
       "  <tbody>\n",
       "    <tr>\n",
       "      <th>star restaurant</th>\n",
       "      <td>0.022965</td>\n",
       "    </tr>\n",
       "    <tr>\n",
       "      <th>michelin</th>\n",
       "      <td>0.015069</td>\n",
       "    </tr>\n",
       "    <tr>\n",
       "      <th>michelin star</th>\n",
       "      <td>0.014005</td>\n",
       "    </tr>\n",
       "    <tr>\n",
       "      <th>japanese</th>\n",
       "      <td>0.013715</td>\n",
       "    </tr>\n",
       "    <tr>\n",
       "      <th>newamerican</th>\n",
       "      <td>0.013113</td>\n",
       "    </tr>\n",
       "    <tr>\n",
       "      <th>tasting menu</th>\n",
       "      <td>0.008954</td>\n",
       "    </tr>\n",
       "    <tr>\n",
       "      <th>long</th>\n",
       "      <td>0.007266</td>\n",
       "    </tr>\n",
       "    <tr>\n",
       "      <th>michelin stars</th>\n",
       "      <td>0.007159</td>\n",
       "    </tr>\n",
       "    <tr>\n",
       "      <th>course</th>\n",
       "      <td>0.007152</td>\n",
       "    </tr>\n",
       "    <tr>\n",
       "      <th>best meals</th>\n",
       "      <td>0.006795</td>\n",
       "    </tr>\n",
       "  </tbody>\n",
       "</table>\n",
       "</div>"
      ],
      "text/plain": [
       "                 importance\n",
       "star restaurant    0.022965\n",
       "michelin           0.015069\n",
       "michelin star      0.014005\n",
       "japanese           0.013715\n",
       "newamerican        0.013113\n",
       "tasting menu       0.008954\n",
       "long               0.007266\n",
       "michelin stars     0.007159\n",
       "course             0.007152\n",
       "best meals         0.006795"
      ]
     },
     "execution_count": 2046,
     "metadata": {},
     "output_type": "execute_result"
    }
   ],
   "source": [
    "feature_importances = pd.DataFrame(rfc.feature_importances_,\n",
    "                                   index = text_train.columns,\n",
    "                                    columns=['importance']).sort_values('importance',\n",
    "                                                                        ascending=False).head(10)\n",
    "feature_importances"
   ]
  },
  {
   "cell_type": "code",
   "execution_count": 2047,
   "metadata": {
    "collapsed": true
   },
   "outputs": [],
   "source": [
    "sf_ny['natm'] = sf_ny.category.apply(lambda x: 1 if ('newamerican' in x) or ('tasting menu' in x) else 0)\n",
    "chi['natm'] = chi.category.apply(lambda x: 1 if ('newamerican' in x) or ('tasting menu' in x) else 0)\n",
    "dc['natm'] = dc.category.apply(lambda x: 1 if ('newamerican' in x) or ('tasting menu' in x) else 0)"
   ]
  },
  {
   "cell_type": "markdown",
   "metadata": {},
   "source": [
    "# Modeling"
   ]
  },
  {
   "cell_type": "markdown",
   "metadata": {},
   "source": [
    "## Random Forest"
   ]
  },
  {
   "cell_type": "code",
   "execution_count": 2228,
   "metadata": {
    "collapsed": false
   },
   "outputs": [],
   "source": [
    "from sklearn.grid_search import GridSearchCV\n",
    "from sklearn.preprocessing import StandardScaler\n",
    "\n",
    "rfc = RandomForestClassifier()"
   ]
  },
  {
   "cell_type": "code",
   "execution_count": 2397,
   "metadata": {
    "collapsed": false
   },
   "outputs": [],
   "source": [
    "X_train = sf_ny.loc[:, ['num_reviews', 'price', 'rating', 'natm']]\n",
    "y_train = sf_ny.loc[:, 'stars']"
   ]
  },
  {
   "cell_type": "code",
   "execution_count": 2398,
   "metadata": {
    "collapsed": true
   },
   "outputs": [],
   "source": [
    "X_test = chi.loc[:, ['num_reviews', 'price', 'rating', 'natm']]\n",
    "y_test = chi.loc[:, 'stars']"
   ]
  },
  {
   "cell_type": "code",
   "execution_count": 2399,
   "metadata": {
    "collapsed": true
   },
   "outputs": [],
   "source": [
    "X_train = StandardScaler().fit_transform(X_train)\n",
    "X_test = StandardScaler().fit_transform(X_test)"
   ]
  },
  {
   "cell_type": "code",
   "execution_count": 2402,
   "metadata": {
    "collapsed": false
   },
   "outputs": [
    {
     "data": {
      "text/plain": [
       "{'class_weight': None, 'criterion': 'entropy', 'min_samples_leaf': 2}"
      ]
     },
     "execution_count": 2402,
     "metadata": {},
     "output_type": "execute_result"
    }
   ],
   "source": [
    "param_grid = {'class_weight': [None, 'balanced'],\n",
    "              'criterion': ['gini', 'entropy'],\n",
    "              'min_samples_leaf': [1, 2]}\n",
    "\n",
    "gs = GridSearchCV(rfc, param_grid).fit(X_train, y_train)\n",
    "gs.best_params_"
   ]
  },
  {
   "cell_type": "code",
   "execution_count": 2403,
   "metadata": {
    "collapsed": false
   },
   "outputs": [
    {
     "data": {
      "text/plain": [
       "0.91191709844559588"
      ]
     },
     "execution_count": 2403,
     "metadata": {},
     "output_type": "execute_result"
    }
   ],
   "source": [
    "gs.score(X_test, y_test)"
   ]
  },
  {
   "cell_type": "code",
   "execution_count": 2404,
   "metadata": {
    "collapsed": false
   },
   "outputs": [
    {
     "data": {
      "text/plain": [
       "array([ 0.24916662,  0.60702133,  0.11709332,  0.02671872])"
      ]
     },
     "execution_count": 2404,
     "metadata": {},
     "output_type": "execute_result"
    }
   ],
   "source": [
    "gs.best_estimator_.feature_importances_"
   ]
  },
  {
   "cell_type": "code",
   "execution_count": 2406,
   "metadata": {
    "collapsed": false
   },
   "outputs": [
    {
     "data": {
      "text/plain": [
       "array([[166,   5,   0,   0],\n",
       "       [  5,  10,   2,   0],\n",
       "       [  0,   3,   0,   0],\n",
       "       [  0,   2,   0,   0]])"
      ]
     },
     "execution_count": 2406,
     "metadata": {},
     "output_type": "execute_result"
    }
   ],
   "source": [
    "y_pred = gs.predict(X_test)\n",
    "confusion_matrix(y_test, y_pred)"
   ]
  },
  {
   "cell_type": "markdown",
   "metadata": {},
   "source": [
    "## GBC"
   ]
  },
  {
   "cell_type": "code",
   "execution_count": 2006,
   "metadata": {
    "collapsed": true
   },
   "outputs": [],
   "source": [
    "from sklearn.ensemble import GradientBoostingClassifier\n",
    "gbc = GradientBoostingClassifier()"
   ]
  },
  {
   "cell_type": "code",
   "execution_count": 2303,
   "metadata": {
    "collapsed": false
   },
   "outputs": [
    {
     "data": {
      "text/plain": [
       "{'max_features': 0.4, 'min_samples_leaf': 2}"
      ]
     },
     "execution_count": 2303,
     "metadata": {},
     "output_type": "execute_result"
    }
   ],
   "source": [
    "param_grid = {'min_samples_leaf': [1, 2, 3],\n",
    "              'max_features': [.2, .3, .4, .6, .8, None]}\n",
    "\n",
    "gs = GridSearchCV(gbc, param_grid, cv = 5).fit(X_train, y_train)\n",
    "gs.best_params_"
   ]
  },
  {
   "cell_type": "code",
   "execution_count": 2304,
   "metadata": {
    "collapsed": false
   },
   "outputs": [
    {
     "data": {
      "text/plain": [
       "0.92227979274611394"
      ]
     },
     "execution_count": 2304,
     "metadata": {},
     "output_type": "execute_result"
    }
   ],
   "source": [
    "gs.score(X_test, y_test)"
   ]
  },
  {
   "cell_type": "code",
   "execution_count": 2305,
   "metadata": {
    "collapsed": false
   },
   "outputs": [
    {
     "data": {
      "text/plain": [
       "array([[167,   4,   0,   0],\n",
       "       [  6,  11,   0,   0],\n",
       "       [  0,   3,   0,   0],\n",
       "       [  0,   2,   0,   0]])"
      ]
     },
     "execution_count": 2305,
     "metadata": {},
     "output_type": "execute_result"
    }
   ],
   "source": [
    "y_pred = gs.predict(X_test)\n",
    "confusion_matrix(y_test, y_pred)"
   ]
  },
  {
   "cell_type": "markdown",
   "metadata": {},
   "source": [
    "## KNN"
   ]
  },
  {
   "cell_type": "code",
   "execution_count": 2306,
   "metadata": {
    "collapsed": true
   },
   "outputs": [],
   "source": [
    "from sklearn.neighbors import KNeighborsClassifier\n",
    "knn = KNeighborsClassifier()"
   ]
  },
  {
   "cell_type": "code",
   "execution_count": 2312,
   "metadata": {
    "collapsed": false
   },
   "outputs": [
    {
     "data": {
      "text/plain": [
       "{'metric': 'braycurtis', 'weights': 'uniform'}"
      ]
     },
     "execution_count": 2312,
     "metadata": {},
     "output_type": "execute_result"
    }
   ],
   "source": [
    "param_grid = {'weights': ['uniform', 'distance'],\n",
    "              'metric': ['braycurtis', 'minkowski']}\n",
    "\n",
    "gs = GridSearchCV(knn, param_grid, cv=5).fit(X_train, y_train)\n",
    "gs.best_params_"
   ]
  },
  {
   "cell_type": "code",
   "execution_count": 2314,
   "metadata": {
    "collapsed": false
   },
   "outputs": [
    {
     "data": {
      "text/plain": [
       "0.91191709844559588"
      ]
     },
     "execution_count": 2314,
     "metadata": {},
     "output_type": "execute_result"
    }
   ],
   "source": [
    "gs.score(X_test, y_test)"
   ]
  },
  {
   "cell_type": "code",
   "execution_count": 2315,
   "metadata": {
    "collapsed": false
   },
   "outputs": [
    {
     "data": {
      "text/plain": [
       "array([[165,   6,   0,   0],\n",
       "       [  5,  11,   1,   0],\n",
       "       [  0,   3,   0,   0],\n",
       "       [  0,   2,   0,   0]])"
      ]
     },
     "execution_count": 2315,
     "metadata": {},
     "output_type": "execute_result"
    }
   ],
   "source": [
    "y_pred = gs.predict(X_test)\n",
    "confusion_matrix(y_test, y_pred)"
   ]
  },
  {
   "cell_type": "markdown",
   "metadata": {},
   "source": [
    "## SVM"
   ]
  },
  {
   "cell_type": "code",
   "execution_count": 1350,
   "metadata": {
    "collapsed": true
   },
   "outputs": [],
   "source": [
    "from sklearn import svm\n",
    "svm = SVC()"
   ]
  },
  {
   "cell_type": "code",
   "execution_count": 2325,
   "metadata": {
    "collapsed": false
   },
   "outputs": [
    {
     "data": {
      "text/plain": [
       "GridSearchCV(cv=5, error_score='raise',\n",
       "       estimator=SVC(C=1.0, cache_size=200, class_weight=None, coef0=0.0,\n",
       "  decision_function_shape=None, degree=3, gamma='auto', kernel='rbf',\n",
       "  max_iter=-1, probability=False, random_state=None, shrinking=True,\n",
       "  tol=0.001, verbose=False),\n",
       "       fit_params={}, iid=True, n_jobs=1,\n",
       "       param_grid={'C': array([  1.00000e-03,   1.00000e-02,   1.00000e-01,   1.00000e+00,\n",
       "         1.00000e+01,   1.00000e+02,   1.00000e+03]), 'gamma': array([  1.00000e-03,   1.00000e-02,   1.00000e-01,   1.00000e+00,\n",
       "         1.00000e+01,   1.00000e+02,   1.00000e+03]), 'class_weight': [None, 'balanced']},\n",
       "       pre_dispatch='2*n_jobs', refit=True, scoring=None, verbose=0)"
      ]
     },
     "execution_count": 2325,
     "metadata": {},
     "output_type": "execute_result"
    }
   ],
   "source": [
    "param_grid = {'C': np.logspace(-3,3,7),\n",
    "              'gamma': np.logspace(-3,3,7),\n",
    "              'class_weight': [None, 'balanced']}\n",
    "\n",
    "gs = GridSearchCV(svm, param_grid, cv=5).fit(X_train, y_train)"
   ]
  },
  {
   "cell_type": "code",
   "execution_count": 2326,
   "metadata": {
    "collapsed": false
   },
   "outputs": [
    {
     "data": {
      "text/plain": [
       "{'C': 1.0, 'class_weight': None, 'gamma': 0.01}"
      ]
     },
     "execution_count": 2326,
     "metadata": {},
     "output_type": "execute_result"
    }
   ],
   "source": [
    "gs.best_params_"
   ]
  },
  {
   "cell_type": "code",
   "execution_count": 2327,
   "metadata": {
    "collapsed": false
   },
   "outputs": [
    {
     "data": {
      "text/plain": [
       "0.92746113989637302"
      ]
     },
     "execution_count": 2327,
     "metadata": {},
     "output_type": "execute_result"
    }
   ],
   "source": [
    "gs.score(X_test, y_test)"
   ]
  },
  {
   "cell_type": "code",
   "execution_count": 2329,
   "metadata": {
    "collapsed": false
   },
   "outputs": [
    {
     "data": {
      "text/plain": [
       "array([[164,   7,   0,   0],\n",
       "       [  2,  15,   0,   0],\n",
       "       [  0,   3,   0,   0],\n",
       "       [  0,   2,   0,   0]])"
      ]
     },
     "execution_count": 2329,
     "metadata": {},
     "output_type": "execute_result"
    }
   ],
   "source": [
    "y_pred = gs.predict(X_test)\n",
    "confusion_matrix(y_test, y_pred)"
   ]
  },
  {
   "cell_type": "markdown",
   "metadata": {},
   "source": [
    "## Voting Ensemble"
   ]
  },
  {
   "cell_type": "markdown",
   "metadata": {},
   "source": [
    "### Using a voting ensembler as added 'regularization'. Only those restaurants that were consistently (across-model) identified as Michelin material get the nod."
   ]
  },
  {
   "cell_type": "code",
   "execution_count": 2520,
   "metadata": {
    "collapsed": false
   },
   "outputs": [],
   "source": [
    "svm = SVC(gamma=0.01, probability=True)\n",
    "rfc = RandomForestClassifier(criterion='entropy', min_samples_leaf=2)\n",
    "gbc = GradientBoostingClassifier(max_features=0.4, min_samples_leaf=2)\n",
    "knn = KNeighborsClassifier(metric='braycurtis')"
   ]
  },
  {
   "cell_type": "code",
   "execution_count": 2522,
   "metadata": {
    "collapsed": false
   },
   "outputs": [
    {
     "data": {
      "text/plain": [
       "VotingClassifier(estimators=[('svm', SVC(C=1.0, cache_size=200, class_weight=None, coef0=0.0,\n",
       "  decision_function_shape=None, degree=3, gamma=0.01, kernel='rbf',\n",
       "  max_iter=-1, probability=True, random_state=None, shrinking=True,\n",
       "  tol=0.001, verbose=False)), ('knn', KNeighborsClassifier(algorithm='auto', leaf_size=...      presort='auto', random_state=None, subsample=1.0, verbose=0,\n",
       "              warm_start=False))],\n",
       "         voting='soft', weights=None)"
      ]
     },
     "execution_count": 2522,
     "metadata": {},
     "output_type": "execute_result"
    }
   ],
   "source": [
    "voter = VotingClassifier(estimators=[ ('svm', svm), ('knn', knn), ('rfc', rfc), ('gbc', gbc)],\n",
    "                              voting='soft')\n",
    "\n",
    "voter.fit(X_train, y_train)"
   ]
  },
  {
   "cell_type": "code",
   "execution_count": 2523,
   "metadata": {
    "collapsed": false
   },
   "outputs": [
    {
     "data": {
      "text/plain": [
       "0.92227979274611394"
      ]
     },
     "execution_count": 2523,
     "metadata": {},
     "output_type": "execute_result"
    }
   ],
   "source": [
    "voter.score(X_test, y_test)"
   ]
  },
  {
   "cell_type": "code",
   "execution_count": 2351,
   "metadata": {
    "collapsed": false
   },
   "outputs": [
    {
     "data": {
      "text/plain": [
       "array([[167,   4,   0,   0],\n",
       "       [  5,  11,   1,   0],\n",
       "       [  0,   3,   0,   0],\n",
       "       [  0,   2,   0,   0]])"
      ]
     },
     "execution_count": 2351,
     "metadata": {},
     "output_type": "execute_result"
    }
   ],
   "source": [
    "y_pred = voter.predict(X_test)\n",
    "confusion_matrix(y_test, y_pred)"
   ]
  },
  {
   "cell_type": "markdown",
   "metadata": {},
   "source": [
    "## DC Predictions"
   ]
  },
  {
   "cell_type": "code",
   "execution_count": 2524,
   "metadata": {
    "collapsed": true
   },
   "outputs": [],
   "source": [
    "dc_X = dc.loc[:, ['num_reviews', 'price', 'rating', 'natm']]\n",
    "dc_X = StandardScaler().fit_transform(dc_X)"
   ]
  },
  {
   "cell_type": "code",
   "execution_count": 2525,
   "metadata": {
    "collapsed": false
   },
   "outputs": [],
   "source": [
    "dc_pred = voter.predict(dc_X)\n",
    "dc['predictions'] = dc_pred"
   ]
  },
  {
   "cell_type": "code",
   "execution_count": 2526,
   "metadata": {
    "collapsed": false
   },
   "outputs": [],
   "source": [
    "dc['none'] = voter.predict_proba(dc_X)[:, 0]\n",
    "dc['one'] = voter.predict_proba(dc_X)[:, 1]\n",
    "dc['two'] = voter.predict_proba(dc_X)[:, 2]\n",
    "dc['three'] = voter.predict_proba(dc_X)[:, 3]"
   ]
  },
  {
   "cell_type": "markdown",
   "metadata": {},
   "source": [
    "### Look at the cluster of points around the origin. Not the entirety of the cell defined by 0. and 0.1 on the 'two' axis and 0.0 and 0.02 on the 'three' axis -- just the bottom left corner of that cell. That cluster represents ~180 restaurants, and among them 9 restaurants that my algorithm predicts. That seems to me very fluky, a coincidence of review count equalling the review count of a Michelin starred restaurant, for instance. So I'm going to drop predictions from within that cluster."
   ]
  },
  {
   "cell_type": "code",
   "execution_count": 2529,
   "metadata": {
    "collapsed": false
   },
   "outputs": [
    {
     "data": {
      "text/plain": [
       "<seaborn.axisgrid.FacetGrid at 0x144a34350>"
      ]
     },
     "execution_count": 2529,
     "metadata": {},
     "output_type": "execute_result"
    },
    {
     "data": {
      "image/png": "[encoded data removed]",
      "text/plain": [
       "<matplotlib.figure.Figure at 0x15e6c2cd0>"
      ]
     },
     "metadata": {},
     "output_type": "display_data"
    }
   ],
   "source": [
    "sns.lmplot('two', 'three', data=dc, hue='predictions', fit_reg=False)"
   ]
  },
  {
   "cell_type": "code",
   "execution_count": 2550,
   "metadata": {
    "collapsed": false
   },
   "outputs": [
    {
     "data": {
      "text/html": [
       "<div>\n",
       "<table border=\"1\" class=\"dataframe\">\n",
       "  <thead>\n",
       "    <tr style=\"text-align: right;\">\n",
       "      <th></th>\n",
       "      <th>restaurant</th>\n",
       "      <th>rest_id</th>\n",
       "      <th>rating</th>\n",
       "      <th>price</th>\n",
       "      <th>num_reviews</th>\n",
       "      <th>category</th>\n",
       "      <th>text</th>\n",
       "      <th>natm</th>\n",
       "      <th>predictions</th>\n",
       "      <th>none</th>\n",
       "      <th>one</th>\n",
       "      <th>two</th>\n",
       "      <th>three</th>\n",
       "      <th>svm</th>\n",
       "      <th>rfc</th>\n",
       "      <th>gbc</th>\n",
       "      <th>knn</th>\n",
       "    </tr>\n",
       "  </thead>\n",
       "  <tbody>\n",
       "    <tr>\n",
       "      <th>2</th>\n",
       "      <td>Komi</td>\n",
       "      <td>komi-washington</td>\n",
       "      <td>4.5</td>\n",
       "      <td>3</td>\n",
       "      <td>644</td>\n",
       "      <td>greek mediterranean</td>\n",
       "      <td>greek mediterranean Fantastic. I hope they get...</td>\n",
       "      <td>0</td>\n",
       "      <td>2.0</td>\n",
       "      <td>0.007659</td>\n",
       "      <td>0.410651</td>\n",
       "      <td>0.431709</td>\n",
       "      <td>0.149980</td>\n",
       "      <td>1.0</td>\n",
       "      <td>2.0</td>\n",
       "      <td>1.0</td>\n",
       "      <td>2.0</td>\n",
       "    </tr>\n",
       "    <tr>\n",
       "      <th>15</th>\n",
       "      <td>Pineapple &amp; Pearls</td>\n",
       "      <td>pineapple-and-pearls-washington-3</td>\n",
       "      <td>4.5</td>\n",
       "      <td>3</td>\n",
       "      <td>78</td>\n",
       "      <td>breakfast_brunch cafes sandwiches</td>\n",
       "      <td>breakfast_brunch cafes sandwiches FYI: This re...</td>\n",
       "      <td>0</td>\n",
       "      <td>1.0</td>\n",
       "      <td>0.011342</td>\n",
       "      <td>0.771841</td>\n",
       "      <td>0.187754</td>\n",
       "      <td>0.029063</td>\n",
       "      <td>1.0</td>\n",
       "      <td>1.0</td>\n",
       "      <td>1.0</td>\n",
       "      <td>1.0</td>\n",
       "    </tr>\n",
       "    <tr>\n",
       "      <th>29</th>\n",
       "      <td>Makoto Restaurant</td>\n",
       "      <td>makoto-restaurant-washington</td>\n",
       "      <td>4.5</td>\n",
       "      <td>3</td>\n",
       "      <td>354</td>\n",
       "      <td>japanese</td>\n",
       "      <td>japanese My friend David and I came here for a...</td>\n",
       "      <td>0</td>\n",
       "      <td>2.0</td>\n",
       "      <td>0.004785</td>\n",
       "      <td>0.475842</td>\n",
       "      <td>0.484431</td>\n",
       "      <td>0.034942</td>\n",
       "      <td>1.0</td>\n",
       "      <td>2.0</td>\n",
       "      <td>2.0</td>\n",
       "      <td>1.0</td>\n",
       "    </tr>\n",
       "    <tr>\n",
       "      <th>32</th>\n",
       "      <td>1789 Restaurant</td>\n",
       "      <td>1789-restaurant-washington-4</td>\n",
       "      <td>4.0</td>\n",
       "      <td>3</td>\n",
       "      <td>538</td>\n",
       "      <td>tradamerican</td>\n",
       "      <td>tradamerican President Barack Obama.\\nChancell...</td>\n",
       "      <td>0</td>\n",
       "      <td>1.0</td>\n",
       "      <td>0.026278</td>\n",
       "      <td>0.702296</td>\n",
       "      <td>0.248159</td>\n",
       "      <td>0.023267</td>\n",
       "      <td>1.0</td>\n",
       "      <td>2.0</td>\n",
       "      <td>1.0</td>\n",
       "      <td>1.0</td>\n",
       "    </tr>\n",
       "    <tr>\n",
       "      <th>44</th>\n",
       "      <td>Filomena Ristorante</td>\n",
       "      <td>filomena-ristorante-washington</td>\n",
       "      <td>4.0</td>\n",
       "      <td>2</td>\n",
       "      <td>1521</td>\n",
       "      <td>italian</td>\n",
       "      <td>italian I haven't given 5 stars in a long time...</td>\n",
       "      <td>0</td>\n",
       "      <td>1.0</td>\n",
       "      <td>0.400926</td>\n",
       "      <td>0.567899</td>\n",
       "      <td>0.018052</td>\n",
       "      <td>0.013124</td>\n",
       "      <td>1.0</td>\n",
       "      <td>1.0</td>\n",
       "      <td>1.0</td>\n",
       "      <td>1.0</td>\n",
       "    </tr>\n",
       "    <tr>\n",
       "      <th>75</th>\n",
       "      <td>Off The Record</td>\n",
       "      <td>off-the-record-washington</td>\n",
       "      <td>4.0</td>\n",
       "      <td>2</td>\n",
       "      <td>178</td>\n",
       "      <td>bars newamerican</td>\n",
       "      <td>bars newamerican Located inside of the Hay Ada...</td>\n",
       "      <td>1</td>\n",
       "      <td>1.0</td>\n",
       "      <td>0.463842</td>\n",
       "      <td>0.505450</td>\n",
       "      <td>0.018153</td>\n",
       "      <td>0.012554</td>\n",
       "      <td>1.0</td>\n",
       "      <td>0.0</td>\n",
       "      <td>0.0</td>\n",
       "      <td>1.0</td>\n",
       "    </tr>\n",
       "    <tr>\n",
       "      <th>85</th>\n",
       "      <td>Osteria Morini</td>\n",
       "      <td>osteria-morini-washington</td>\n",
       "      <td>4.0</td>\n",
       "      <td>2</td>\n",
       "      <td>358</td>\n",
       "      <td>italian</td>\n",
       "      <td>italian Osteria Morini is advertised on google...</td>\n",
       "      <td>0</td>\n",
       "      <td>1.0</td>\n",
       "      <td>0.429213</td>\n",
       "      <td>0.482556</td>\n",
       "      <td>0.075914</td>\n",
       "      <td>0.012317</td>\n",
       "      <td>1.0</td>\n",
       "      <td>0.0</td>\n",
       "      <td>0.0</td>\n",
       "      <td>1.0</td>\n",
       "    </tr>\n",
       "    <tr>\n",
       "      <th>89</th>\n",
       "      <td>Unum</td>\n",
       "      <td>unum-washington-2</td>\n",
       "      <td>4.0</td>\n",
       "      <td>2</td>\n",
       "      <td>272</td>\n",
       "      <td>newamerican cocktailbars</td>\n",
       "      <td>newamerican cocktailbars Wandered in here on a...</td>\n",
       "      <td>1</td>\n",
       "      <td>1.0</td>\n",
       "      <td>0.357294</td>\n",
       "      <td>0.611792</td>\n",
       "      <td>0.018294</td>\n",
       "      <td>0.012620</td>\n",
       "      <td>1.0</td>\n",
       "      <td>1.0</td>\n",
       "      <td>1.0</td>\n",
       "      <td>0.0</td>\n",
       "    </tr>\n",
       "    <tr>\n",
       "      <th>171</th>\n",
       "      <td>Hazel</td>\n",
       "      <td>hazel-washington</td>\n",
       "      <td>4.0</td>\n",
       "      <td>2</td>\n",
       "      <td>46</td>\n",
       "      <td>newamerican</td>\n",
       "      <td>newamerican Although there's a lot of good foo...</td>\n",
       "      <td>1</td>\n",
       "      <td>1.0</td>\n",
       "      <td>0.178759</td>\n",
       "      <td>0.790605</td>\n",
       "      <td>0.018145</td>\n",
       "      <td>0.012491</td>\n",
       "      <td>1.0</td>\n",
       "      <td>1.0</td>\n",
       "      <td>1.0</td>\n",
       "      <td>1.0</td>\n",
       "    </tr>\n",
       "    <tr>\n",
       "      <th>190</th>\n",
       "      <td>Kinship</td>\n",
       "      <td>kinship-washington</td>\n",
       "      <td>4.0</td>\n",
       "      <td>3</td>\n",
       "      <td>106</td>\n",
       "      <td>newamerican desserts diners</td>\n",
       "      <td>newamerican desserts diners Everything you've ...</td>\n",
       "      <td>1</td>\n",
       "      <td>1.0</td>\n",
       "      <td>0.001470</td>\n",
       "      <td>0.817402</td>\n",
       "      <td>0.154532</td>\n",
       "      <td>0.026595</td>\n",
       "      <td>1.0</td>\n",
       "      <td>1.0</td>\n",
       "      <td>1.0</td>\n",
       "      <td>1.0</td>\n",
       "    </tr>\n",
       "    <tr>\n",
       "      <th>191</th>\n",
       "      <td>Marcel's by Robert Wiedmaier</td>\n",
       "      <td>marcels-by-robert-wiedmaier-washington</td>\n",
       "      <td>4.5</td>\n",
       "      <td>3</td>\n",
       "      <td>375</td>\n",
       "      <td>french belgian</td>\n",
       "      <td>french belgian Excellent brunch (reasonably pr...</td>\n",
       "      <td>0</td>\n",
       "      <td>2.0</td>\n",
       "      <td>0.017155</td>\n",
       "      <td>0.443560</td>\n",
       "      <td>0.504555</td>\n",
       "      <td>0.034730</td>\n",
       "      <td>1.0</td>\n",
       "      <td>2.0</td>\n",
       "      <td>2.0</td>\n",
       "      <td>1.0</td>\n",
       "    </tr>\n",
       "    <tr>\n",
       "      <th>192</th>\n",
       "      <td>Masseria</td>\n",
       "      <td>masseria-washington-2</td>\n",
       "      <td>4.0</td>\n",
       "      <td>3</td>\n",
       "      <td>112</td>\n",
       "      <td>italian</td>\n",
       "      <td>italian Cyndy's Bottom Line:  Well excited dis...</td>\n",
       "      <td>0</td>\n",
       "      <td>1.0</td>\n",
       "      <td>0.000864</td>\n",
       "      <td>0.816483</td>\n",
       "      <td>0.089361</td>\n",
       "      <td>0.093292</td>\n",
       "      <td>1.0</td>\n",
       "      <td>1.0</td>\n",
       "      <td>1.0</td>\n",
       "      <td>1.0</td>\n",
       "    </tr>\n",
       "    <tr>\n",
       "      <th>194</th>\n",
       "      <td>Garrison</td>\n",
       "      <td>garrison-washington</td>\n",
       "      <td>3.5</td>\n",
       "      <td>2</td>\n",
       "      <td>117</td>\n",
       "      <td>newamerican</td>\n",
       "      <td>newamerican *Brunch review*\\n\\nMy roommate sug...</td>\n",
       "      <td>1</td>\n",
       "      <td>1.0</td>\n",
       "      <td>0.068526</td>\n",
       "      <td>0.873515</td>\n",
       "      <td>0.046625</td>\n",
       "      <td>0.011334</td>\n",
       "      <td>1.0</td>\n",
       "      <td>1.0</td>\n",
       "      <td>1.0</td>\n",
       "      <td>1.0</td>\n",
       "    </tr>\n",
       "    <tr>\n",
       "      <th>199</th>\n",
       "      <td>Fiola</td>\n",
       "      <td>fiola-washington</td>\n",
       "      <td>4.0</td>\n",
       "      <td>3</td>\n",
       "      <td>480</td>\n",
       "      <td>italian</td>\n",
       "      <td>italian Brought my wife here for her birthday....</td>\n",
       "      <td>0</td>\n",
       "      <td>1.0</td>\n",
       "      <td>0.026044</td>\n",
       "      <td>0.564633</td>\n",
       "      <td>0.386689</td>\n",
       "      <td>0.022634</td>\n",
       "      <td>1.0</td>\n",
       "      <td>2.0</td>\n",
       "      <td>2.0</td>\n",
       "      <td>1.0</td>\n",
       "    </tr>\n",
       "    <tr>\n",
       "      <th>201</th>\n",
       "      <td>minibar by José Andrés</td>\n",
       "      <td>minibar-by-josé-andrés-washington-7</td>\n",
       "      <td>4.5</td>\n",
       "      <td>3</td>\n",
       "      <td>253</td>\n",
       "      <td>newamerican cocktailbars</td>\n",
       "      <td>newamerican cocktailbars Have to echo many of ...</td>\n",
       "      <td>1</td>\n",
       "      <td>1.0</td>\n",
       "      <td>0.106478</td>\n",
       "      <td>0.653328</td>\n",
       "      <td>0.115741</td>\n",
       "      <td>0.124453</td>\n",
       "      <td>1.0</td>\n",
       "      <td>1.0</td>\n",
       "      <td>1.0</td>\n",
       "      <td>1.0</td>\n",
       "    </tr>\n",
       "    <tr>\n",
       "      <th>202</th>\n",
       "      <td>The Dabney</td>\n",
       "      <td>the-dabney-washington</td>\n",
       "      <td>4.0</td>\n",
       "      <td>2</td>\n",
       "      <td>170</td>\n",
       "      <td>newamerican</td>\n",
       "      <td>newamerican Yes, yes, yes. Just so much YES.\\n...</td>\n",
       "      <td>1</td>\n",
       "      <td>1.0</td>\n",
       "      <td>0.463787</td>\n",
       "      <td>0.505522</td>\n",
       "      <td>0.018142</td>\n",
       "      <td>0.012549</td>\n",
       "      <td>1.0</td>\n",
       "      <td>0.0</td>\n",
       "      <td>0.0</td>\n",
       "      <td>1.0</td>\n",
       "    </tr>\n",
       "    <tr>\n",
       "      <th>203</th>\n",
       "      <td>Metier</td>\n",
       "      <td>metier-washington-3</td>\n",
       "      <td>4.5</td>\n",
       "      <td>3</td>\n",
       "      <td>6</td>\n",
       "      <td>newamerican</td>\n",
       "      <td>newamerican My wife and I thoroughly enjoyed E...</td>\n",
       "      <td>1</td>\n",
       "      <td>1.0</td>\n",
       "      <td>0.015528</td>\n",
       "      <td>0.689161</td>\n",
       "      <td>0.200657</td>\n",
       "      <td>0.094654</td>\n",
       "      <td>1.0</td>\n",
       "      <td>1.0</td>\n",
       "      <td>1.0</td>\n",
       "      <td>1.0</td>\n",
       "    </tr>\n",
       "    <tr>\n",
       "      <th>206</th>\n",
       "      <td>Obelisk</td>\n",
       "      <td>obelisk-washington</td>\n",
       "      <td>4.0</td>\n",
       "      <td>3</td>\n",
       "      <td>310</td>\n",
       "      <td>italian</td>\n",
       "      <td>italian I finally visited here last night afte...</td>\n",
       "      <td>1</td>\n",
       "      <td>1.0</td>\n",
       "      <td>0.003310</td>\n",
       "      <td>0.808069</td>\n",
       "      <td>0.167324</td>\n",
       "      <td>0.021297</td>\n",
       "      <td>1.0</td>\n",
       "      <td>1.0</td>\n",
       "      <td>1.0</td>\n",
       "      <td>1.0</td>\n",
       "    </tr>\n",
       "    <tr>\n",
       "      <th>207</th>\n",
       "      <td>Plume</td>\n",
       "      <td>plume-washington</td>\n",
       "      <td>4.0</td>\n",
       "      <td>3</td>\n",
       "      <td>150</td>\n",
       "      <td>tradamerican</td>\n",
       "      <td>tradamerican It's a fantastic place to be wine...</td>\n",
       "      <td>0</td>\n",
       "      <td>1.0</td>\n",
       "      <td>0.001859</td>\n",
       "      <td>0.816342</td>\n",
       "      <td>0.088425</td>\n",
       "      <td>0.093374</td>\n",
       "      <td>1.0</td>\n",
       "      <td>1.0</td>\n",
       "      <td>1.0</td>\n",
       "      <td>1.0</td>\n",
       "    </tr>\n",
       "  </tbody>\n",
       "</table>\n",
       "</div>"
      ],
      "text/plain": [
       "                       restaurant                                 rest_id  \\\n",
       "2                            Komi                         komi-washington   \n",
       "15             Pineapple & Pearls       pineapple-and-pearls-washington-3   \n",
       "29              Makoto Restaurant            makoto-restaurant-washington   \n",
       "32                1789 Restaurant            1789-restaurant-washington-4   \n",
       "44            Filomena Ristorante          filomena-ristorante-washington   \n",
       "75                 Off The Record               off-the-record-washington   \n",
       "85                 Osteria Morini               osteria-morini-washington   \n",
       "89                           Unum                       unum-washington-2   \n",
       "171                         Hazel                        hazel-washington   \n",
       "190                       Kinship                      kinship-washington   \n",
       "191  Marcel's by Robert Wiedmaier  marcels-by-robert-wiedmaier-washington   \n",
       "192                      Masseria                   masseria-washington-2   \n",
       "194                      Garrison                     garrison-washington   \n",
       "199                         Fiola                        fiola-washington   \n",
       "201        minibar by José Andrés     minibar-by-josé-andrés-washington-7   \n",
       "202                    The Dabney                   the-dabney-washington   \n",
       "203                        Metier                     metier-washington-3   \n",
       "206                       Obelisk                      obelisk-washington   \n",
       "207                         Plume                        plume-washington   \n",
       "\n",
       "     rating  price  num_reviews                           category  \\\n",
       "2       4.5      3          644                greek mediterranean   \n",
       "15      4.5      3           78  breakfast_brunch cafes sandwiches   \n",
       "29      4.5      3          354                           japanese   \n",
       "32      4.0      3          538                       tradamerican   \n",
       "44      4.0      2         1521                            italian   \n",
       "75      4.0      2          178                   bars newamerican   \n",
       "85      4.0      2          358                            italian   \n",
       "89      4.0      2          272           newamerican cocktailbars   \n",
       "171     4.0      2           46                        newamerican   \n",
       "190     4.0      3          106        newamerican desserts diners   \n",
       "191     4.5      3          375                     french belgian   \n",
       "192     4.0      3          112                            italian   \n",
       "194     3.5      2          117                        newamerican   \n",
       "199     4.0      3          480                            italian   \n",
       "201     4.5      3          253           newamerican cocktailbars   \n",
       "202     4.0      2          170                        newamerican   \n",
       "203     4.5      3            6                        newamerican   \n",
       "206     4.0      3          310                            italian   \n",
       "207     4.0      3          150                       tradamerican   \n",
       "\n",
       "                                                  text  natm  predictions  \\\n",
       "2    greek mediterranean Fantastic. I hope they get...     0          2.0   \n",
       "15   breakfast_brunch cafes sandwiches FYI: This re...     0          1.0   \n",
       "29   japanese My friend David and I came here for a...     0          2.0   \n",
       "32   tradamerican President Barack Obama.\\nChancell...     0          1.0   \n",
       "44   italian I haven't given 5 stars in a long time...     0          1.0   \n",
       "75   bars newamerican Located inside of the Hay Ada...     1          1.0   \n",
       "85   italian Osteria Morini is advertised on google...     0          1.0   \n",
       "89   newamerican cocktailbars Wandered in here on a...     1          1.0   \n",
       "171  newamerican Although there's a lot of good foo...     1          1.0   \n",
       "190  newamerican desserts diners Everything you've ...     1          1.0   \n",
       "191  french belgian Excellent brunch (reasonably pr...     0          2.0   \n",
       "192  italian Cyndy's Bottom Line:  Well excited dis...     0          1.0   \n",
       "194  newamerican *Brunch review*\\n\\nMy roommate sug...     1          1.0   \n",
       "199  italian Brought my wife here for her birthday....     0          1.0   \n",
       "201  newamerican cocktailbars Have to echo many of ...     1          1.0   \n",
       "202  newamerican Yes, yes, yes. Just so much YES.\\n...     1          1.0   \n",
       "203  newamerican My wife and I thoroughly enjoyed E...     1          1.0   \n",
       "206  italian I finally visited here last night afte...     1          1.0   \n",
       "207  tradamerican It's a fantastic place to be wine...     0          1.0   \n",
       "\n",
       "         none       one       two     three  svm  rfc  gbc  knn  \n",
       "2    0.007659  0.410651  0.431709  0.149980  1.0  2.0  1.0  2.0  \n",
       "15   0.011342  0.771841  0.187754  0.029063  1.0  1.0  1.0  1.0  \n",
       "29   0.004785  0.475842  0.484431  0.034942  1.0  2.0  2.0  1.0  \n",
       "32   0.026278  0.702296  0.248159  0.023267  1.0  2.0  1.0  1.0  \n",
       "44   0.400926  0.567899  0.018052  0.013124  1.0  1.0  1.0  1.0  \n",
       "75   0.463842  0.505450  0.018153  0.012554  1.0  0.0  0.0  1.0  \n",
       "85   0.429213  0.482556  0.075914  0.012317  1.0  0.0  0.0  1.0  \n",
       "89   0.357294  0.611792  0.018294  0.012620  1.0  1.0  1.0  0.0  \n",
       "171  0.178759  0.790605  0.018145  0.012491  1.0  1.0  1.0  1.0  \n",
       "190  0.001470  0.817402  0.154532  0.026595  1.0  1.0  1.0  1.0  \n",
       "191  0.017155  0.443560  0.504555  0.034730  1.0  2.0  2.0  1.0  \n",
       "192  0.000864  0.816483  0.089361  0.093292  1.0  1.0  1.0  1.0  \n",
       "194  0.068526  0.873515  0.046625  0.011334  1.0  1.0  1.0  1.0  \n",
       "199  0.026044  0.564633  0.386689  0.022634  1.0  2.0  2.0  1.0  \n",
       "201  0.106478  0.653328  0.115741  0.124453  1.0  1.0  1.0  1.0  \n",
       "202  0.463787  0.505522  0.018142  0.012549  1.0  0.0  0.0  1.0  \n",
       "203  0.015528  0.689161  0.200657  0.094654  1.0  1.0  1.0  1.0  \n",
       "206  0.003310  0.808069  0.167324  0.021297  1.0  1.0  1.0  1.0  \n",
       "207  0.001859  0.816342  0.088425  0.093374  1.0  1.0  1.0  1.0  "
      ]
     },
     "execution_count": 2550,
     "metadata": {},
     "output_type": "execute_result"
    }
   ],
   "source": [
    "# Won't include Off the Record because it is a bar -- not a restaurant.\n",
    "dc.loc[(dc.predictions > 0) & (dc.two + dc.three > 0.03)]"
   ]
  }
 ],
 "metadata": {
  "anaconda-cloud": {},
  "kernelspec": {
   "display_name": "Python [Root]",
   "language": "python",
   "name": "Python [Root]"
  },
  "language_info": {
   "codemirror_mode": {
    "name": "ipython",
    "version": 2
   },
   "file_extension": ".py",
   "mimetype": "text/x-python",
   "name": "python",
   "nbconvert_exporter": "python",
   "pygments_lexer": "ipython2",
   "version": "2.7.12"
  }
 },
 "nbformat": 4,
 "nbformat_minor": 0
}
