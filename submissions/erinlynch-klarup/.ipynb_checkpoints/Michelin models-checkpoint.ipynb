{
 "cells": [
  {
   "cell_type": "markdown",
   "metadata": {},
   "source": [
    "Both my features and target are ordinal data. For instance, Michelin stars have an order, but they're categorical data not numeric (there's no reason to expect the difference between 1 star and 2 stars is the same as the difference between 2 and 3 stars). Same goes for data like Zagat ratings and Yelp reviews.\n",
    "If my feature data (independent variables) were numeric, I might consider ordered logistic regression, or a clustering technique that relies on distance - maybe SVM, KNN or DBScan.\n",
    "Since my features are also ordinal... random forest seems the most logical."
   ]
  },
  {
   "cell_type": "code",
   "execution_count": 42,
   "metadata": {
    "collapsed": true
   },
   "outputs": [],
   "source": [
    "import pandas as pd\n",
    "import numpy as np\n",
    "%matplotlib inline"
   ]
  },
  {
   "cell_type": "code",
   "execution_count": 43,
   "metadata": {
    "collapsed": true
   },
   "outputs": [],
   "source": [
    "from sklearn.ensemble import RandomForestRegressor\n",
    "from sklearn.ensemble import RandomForestClassifier\n",
    "from sklearn import preprocessing\n",
    "from sklearn.preprocessing import Imputer\n",
    "from sklearn.metrics import accuracy_score\n",
    "from sklearn.metrics import confusion_matrix\n",
    "from sklearn.preprocessing import normalize\n",
    "from sklearn.linear_model import LogisticRegression\n",
    "from sklearn.preprocessing import LabelEncoder\n",
    "from sklearn.metrics import roc_auc_score"
   ]
  },
  {
   "cell_type": "code",
   "execution_count": 44,
   "metadata": {
    "collapsed": true
   },
   "outputs": [],
   "source": [
    "pd.options.mode.chained_assignment = None\n",
    "import warnings\n",
    "warnings.filterwarnings(\"ignore\", category=DeprecationWarning) "
   ]
  },
  {
   "cell_type": "code",
   "execution_count": 45,
   "metadata": {
    "collapsed": false
   },
   "outputs": [],
   "source": [
    "# Reading in the merged data\n",
    "nyc_zm = pd.read_pickle('../nyc_zm.pkl')\n",
    "sf_zm = pd.read_pickle('../sf_zm.pkl')\n",
    "chicago_zm = pd.read_pickle('../chicago_zm.pkl')\n",
    "dc = pd.read_pickle('../dc.pkl')\n",
    "dc_prop = pd.read_pickle('../dc_prop_clean.pkl') "
   ]
  },
  {
   "cell_type": "code",
   "execution_count": 46,
   "metadata": {
    "collapsed": false
   },
   "outputs": [
    {
     "name": "stdout",
     "output_type": "stream",
     "text": [
      "(2771, 15)\n",
      "(2029, 15)\n",
      "(1376, 15)\n",
      "(1199, 13)\n"
     ]
    }
   ],
   "source": [
    "li = [nyc_zm, sf_zm, chicago_zm, dc]\n",
    "for i in li: \n",
    "    print i.shape"
   ]
  },
  {
   "cell_type": "code",
   "execution_count": 47,
   "metadata": {
    "collapsed": false
   },
   "outputs": [
    {
     "name": "stdout",
     "output_type": "stream",
     "text": [
      "(2767, 15)\n",
      "(2023, 15)\n",
      "(1376, 15)\n"
     ]
    }
   ],
   "source": [
    "#Dropping michelin restaurants with no Zagat data\n",
    "ntrain = nyc_zm[np.isfinite(nyc_zm['food'])]\n",
    "strain = sf_zm[np.isfinite(sf_zm['food'])]\n",
    "ctest = chicago_zm[np.isfinite(chicago_zm['food'])]\n",
    "\n",
    "li = [ntrain, strain, ctest]\n",
    "for i in li:\n",
    "    print i.shape"
   ]
  },
  {
   "cell_type": "code",
   "execution_count": 48,
   "metadata": {
    "collapsed": true
   },
   "outputs": [],
   "source": [
    "# Function for dummy variable for whether there is an open table link\n",
    "def ot_dum(X):\n",
    "    if X.open_table != '':\n",
    "        return 1\n",
    "    else:\n",
    "        return 0"
   ]
  },
  {
   "cell_type": "code",
   "execution_count": 49,
   "metadata": {
    "collapsed": true
   },
   "outputs": [],
   "source": [
    "#Imputer to replace missing values with mean of the column\n",
    "\n",
    "imp = Imputer(missing_values=np.nan, strategy='mean', axis=0)"
   ]
  },
  {
   "cell_type": "code",
   "execution_count": 50,
   "metadata": {
    "collapsed": true
   },
   "outputs": [],
   "source": [
    "# set up labelencoder for restaurants - I'm training the encoder on all restaurants\n",
    "\n",
    "le = LabelEncoder()"
   ]
  },
  {
   "cell_type": "code",
   "execution_count": 51,
   "metadata": {
    "collapsed": true
   },
   "outputs": [],
   "source": [
    "m = ntrain.cuisine.append(strain.cuisine).append(dc.cuisine).append(ctest.cuisine)"
   ]
  },
  {
   "cell_type": "code",
   "execution_count": 52,
   "metadata": {
    "collapsed": false
   },
   "outputs": [
    {
     "data": {
      "text/plain": [
       "LabelEncoder()"
      ]
     },
     "execution_count": 52,
     "metadata": {},
     "output_type": "execute_result"
    }
   ],
   "source": [
    "m = m.as_matrix()\n",
    "le.fit(m)"
   ]
  },
  {
   "cell_type": "code",
   "execution_count": 823,
   "metadata": {
    "collapsed": true
   },
   "outputs": [],
   "source": [
    "# Function to transform the data for analysis - I want to do this as a function both to tweak it, and to keep the datasets\n",
    "# separate. If I add normalization that needs to be within cities.\n",
    "def engineer_data(X_data):\n",
    "    X2 = X_data[['cost','cuisine','open_table', 'price_level', 'food', 'decor', 'service', 'stars']]\n",
    "    X2['ot_dummy'] = X2.apply(ot_dum, axis=1)\n",
    "    X2['stars'].replace(np.nan,0, inplace=True)\n",
    "    X2.drop('open_table', axis=1, inplace=True)\n",
    "    X2['price_lev_map'] = X2.price_level.map({'VE':4,'E':3,'M':2,'I':1})\n",
    "    X2.drop('price_level', axis=1, inplace=True)\n",
    "    X2['cuisine_code'] = le.transform(X2.cuisine)\n",
    "    X2.drop('cuisine', axis=1, inplace=True)\n",
    "    X2 = imp.fit_transform(X2)\n",
    "    X2 = pd.DataFrame(X2, columns = ['cost','food', 'decor', 'service', 'stars', 'ot_dummy', 'price_lev_map','cuisine_code'])\n",
    "    return X2"
   ]
  },
  {
   "cell_type": "code",
   "execution_count": 824,
   "metadata": {
    "collapsed": false
   },
   "outputs": [],
   "source": [
    "ntrain1 = engineer_data(ntrain)\n",
    "strain1 = engineer_data(strain)\n",
    "ctest1 = engineer_data(ctest)"
   ]
  },
  {
   "cell_type": "code",
   "execution_count": 825,
   "metadata": {
    "collapsed": false
   },
   "outputs": [
    {
     "data": {
      "text/html": [
       "<div>\n",
       "<table border=\"1\" class=\"dataframe\">\n",
       "  <thead>\n",
       "    <tr style=\"text-align: right;\">\n",
       "      <th></th>\n",
       "      <th>cost</th>\n",
       "      <th>food</th>\n",
       "      <th>decor</th>\n",
       "      <th>service</th>\n",
       "      <th>stars</th>\n",
       "      <th>ot_dummy</th>\n",
       "      <th>price_lev_map</th>\n",
       "      <th>cuisine_code</th>\n",
       "    </tr>\n",
       "  </thead>\n",
       "  <tbody>\n",
       "    <tr>\n",
       "      <th>0</th>\n",
       "      <td>176.0</td>\n",
       "      <td>4.9</td>\n",
       "      <td>4.8</td>\n",
       "      <td>4.9</td>\n",
       "      <td>2.0</td>\n",
       "      <td>0.0</td>\n",
       "      <td>4.0</td>\n",
       "      <td>60.0</td>\n",
       "    </tr>\n",
       "    <tr>\n",
       "      <th>1</th>\n",
       "      <td>141.0</td>\n",
       "      <td>4.9</td>\n",
       "      <td>4.8</td>\n",
       "      <td>4.8</td>\n",
       "      <td>1.0</td>\n",
       "      <td>1.0</td>\n",
       "      <td>4.0</td>\n",
       "      <td>60.0</td>\n",
       "    </tr>\n",
       "    <tr>\n",
       "      <th>2</th>\n",
       "      <td>182.0</td>\n",
       "      <td>4.9</td>\n",
       "      <td>4.8</td>\n",
       "      <td>4.9</td>\n",
       "      <td>3.0</td>\n",
       "      <td>1.0</td>\n",
       "      <td>4.0</td>\n",
       "      <td>119.0</td>\n",
       "    </tr>\n",
       "    <tr>\n",
       "      <th>3</th>\n",
       "      <td>341.0</td>\n",
       "      <td>4.8</td>\n",
       "      <td>4.7</td>\n",
       "      <td>4.8</td>\n",
       "      <td>3.0</td>\n",
       "      <td>1.0</td>\n",
       "      <td>4.0</td>\n",
       "      <td>97.0</td>\n",
       "    </tr>\n",
       "    <tr>\n",
       "      <th>4</th>\n",
       "      <td>58.0</td>\n",
       "      <td>4.8</td>\n",
       "      <td>4.3</td>\n",
       "      <td>4.7</td>\n",
       "      <td>0.0</td>\n",
       "      <td>0.0</td>\n",
       "      <td>3.0</td>\n",
       "      <td>5.0</td>\n",
       "    </tr>\n",
       "  </tbody>\n",
       "</table>\n",
       "</div>"
      ],
      "text/plain": [
       "    cost  food  decor  service  stars  ot_dummy  price_lev_map  cuisine_code\n",
       "0  176.0   4.9    4.8      4.9    2.0       0.0            4.0          60.0\n",
       "1  141.0   4.9    4.8      4.8    1.0       1.0            4.0          60.0\n",
       "2  182.0   4.9    4.8      4.9    3.0       1.0            4.0         119.0\n",
       "3  341.0   4.8    4.7      4.8    3.0       1.0            4.0          97.0\n",
       "4   58.0   4.8    4.3      4.7    0.0       0.0            3.0           5.0"
      ]
     },
     "execution_count": 825,
     "metadata": {},
     "output_type": "execute_result"
    }
   ],
   "source": [
    "ntrain1.head()"
   ]
  },
  {
   "cell_type": "code",
   "execution_count": 729,
   "metadata": {
    "collapsed": true
   },
   "outputs": [],
   "source": [
    "# ROUND 1: No normalization on anything\n",
    "training1 = ntrain1.append(strain1)"
   ]
  },
  {
   "cell_type": "code",
   "execution_count": 751,
   "metadata": {
    "collapsed": true
   },
   "outputs": [],
   "source": [
    "X_train = training1.drop(['stars'], axis=1)\n",
    "y_train = training1.stars\n",
    "X_test = ctest1.drop(['stars'], axis=1)\n",
    "y_test = ctest1.stars"
   ]
  },
  {
   "cell_type": "code",
   "execution_count": 752,
   "metadata": {
    "collapsed": true
   },
   "outputs": [],
   "source": [
    "rfg = RandomForestRegressor(100, max_depth=5, min_samples_leaf=3)"
   ]
  },
  {
   "cell_type": "code",
   "execution_count": 753,
   "metadata": {
    "collapsed": false
   },
   "outputs": [
    {
     "data": {
      "text/plain": [
       "RandomForestRegressor(bootstrap=True, criterion='mse', max_depth=5,\n",
       "           max_features='auto', max_leaf_nodes=None, min_samples_leaf=3,\n",
       "           min_samples_split=2, min_weight_fraction_leaf=0.0,\n",
       "           n_estimators=100, n_jobs=1, oob_score=False, random_state=None,\n",
       "           verbose=0, warm_start=False)"
      ]
     },
     "execution_count": 753,
     "metadata": {},
     "output_type": "execute_result"
    }
   ],
   "source": [
    "rfg.fit(X_train, y_train)"
   ]
  },
  {
   "cell_type": "code",
   "execution_count": 754,
   "metadata": {
    "collapsed": true
   },
   "outputs": [],
   "source": [
    "pred = rfg.predict(X_test).round()"
   ]
  },
  {
   "cell_type": "code",
   "execution_count": 756,
   "metadata": {
    "collapsed": false
   },
   "outputs": [
    {
     "data": {
      "text/html": [
       "<div>\n",
       "<table border=\"1\" class=\"dataframe\">\n",
       "  <thead>\n",
       "    <tr style=\"text-align: right;\">\n",
       "      <th></th>\n",
       "      <th>pred0</th>\n",
       "      <th>pred1</th>\n",
       "      <th>pred2</th>\n",
       "      <th>pred3</th>\n",
       "    </tr>\n",
       "  </thead>\n",
       "  <tbody>\n",
       "    <tr>\n",
       "      <th>actual0</th>\n",
       "      <td>1351</td>\n",
       "      <td>3</td>\n",
       "      <td>1</td>\n",
       "      <td>0</td>\n",
       "    </tr>\n",
       "    <tr>\n",
       "      <th>actual1</th>\n",
       "      <td>10</td>\n",
       "      <td>5</td>\n",
       "      <td>1</td>\n",
       "      <td>0</td>\n",
       "    </tr>\n",
       "    <tr>\n",
       "      <th>actual2</th>\n",
       "      <td>1</td>\n",
       "      <td>2</td>\n",
       "      <td>0</td>\n",
       "      <td>0</td>\n",
       "    </tr>\n",
       "    <tr>\n",
       "      <th>actual3</th>\n",
       "      <td>1</td>\n",
       "      <td>0</td>\n",
       "      <td>0</td>\n",
       "      <td>1</td>\n",
       "    </tr>\n",
       "  </tbody>\n",
       "</table>\n",
       "</div>"
      ],
      "text/plain": [
       "         pred0  pred1  pred2  pred3\n",
       "actual0   1351      3      1      0\n",
       "actual1     10      5      1      0\n",
       "actual2      1      2      0      0\n",
       "actual3      1      0      0      1"
      ]
     },
     "execution_count": 756,
     "metadata": {},
     "output_type": "execute_result"
    }
   ],
   "source": [
    "# I tried changing max_depth, and adjusting min_samples_leaf, but nothing made a difference\n",
    "result1 = pd.DataFrame(confusion_matrix(y_test, pred), columns = ['pred0', 'pred1', 'pred2', 'pred3'], index = ['actual0', 'actual1', 'actual2', 'actual3'])\n",
    "result1"
   ]
  },
  {
   "cell_type": "code",
   "execution_count": 518,
   "metadata": {
    "collapsed": false
   },
   "outputs": [
    {
     "data": {
      "text/plain": [
       "array([ 0.84449215,  0.04993122,  0.02429525,  0.03879858,  0.00449126,\n",
       "        0.00913733,  0.02885421])"
      ]
     },
     "execution_count": 518,
     "metadata": {},
     "output_type": "execute_result"
    }
   ],
   "source": [
    "# Price is crazy important\n",
    "rfg.feature_importances_"
   ]
  },
  {
   "cell_type": "markdown",
   "metadata": {},
   "source": [
    "Let's try a second round, normalizing price (cost) this time"
   ]
  },
  {
   "cell_type": "code",
   "execution_count": 963,
   "metadata": {
    "collapsed": true
   },
   "outputs": [],
   "source": [
    "def engineer_data2(X_data):\n",
    "    X2 = X_data[['cost','cuisine','open_table', 'price_level', 'food', 'decor', 'service', 'stars']]\n",
    "    X2['ot_dummy'] = X2.apply(ot_dum, axis=1)\n",
    "    X2['stars'].replace(np.nan,0, inplace=True)\n",
    "    X2.drop('open_table', axis=1, inplace=True)\n",
    "    X2['price_lev_map'] = X2.price_level.map({'VE':4,'E':3,'M':2,'I':1})\n",
    "    X2.drop('price_level', axis=1, inplace=True)\n",
    "    X2['cuisine_code'] = le.transform(X2.cuisine)\n",
    "    X2.drop('cuisine', axis=1, inplace=True)\n",
    "    X2 = imp.fit_transform(X2)\n",
    "    X2 = pd.DataFrame(X2, columns = ['cost','food', 'decor', 'service', 'stars', 'ot_dummy', 'price_lev_map','cuisine_code'])\n",
    "    X2['cost'] = preprocessing.StandardScaler().fit_transform(X2.cost)\n",
    "    return X2"
   ]
  },
  {
   "cell_type": "code",
   "execution_count": 964,
   "metadata": {
    "collapsed": false
   },
   "outputs": [],
   "source": [
    "ntrain2 = engineer_data2(ntrain)\n",
    "strain2 = engineer_data2(strain)\n",
    "ctest2 = engineer_data2(ctest)"
   ]
  },
  {
   "cell_type": "code",
   "execution_count": 965,
   "metadata": {
    "collapsed": true
   },
   "outputs": [],
   "source": [
    "training2 = ntrain2.append(strain2)\n",
    "X_train = training2.drop(['stars'], axis=1)\n",
    "y_train = training2.stars\n",
    "X_test = ctest2.drop(['stars'], axis=1)\n",
    "y_test = ctest2.stars"
   ]
  },
  {
   "cell_type": "code",
   "execution_count": 977,
   "metadata": {
    "collapsed": false
   },
   "outputs": [
    {
     "data": {
      "text/html": [
       "<div>\n",
       "<table border=\"1\" class=\"dataframe\">\n",
       "  <thead>\n",
       "    <tr style=\"text-align: right;\">\n",
       "      <th></th>\n",
       "      <th>pred0</th>\n",
       "      <th>pred1</th>\n",
       "      <th>pred2</th>\n",
       "      <th>pred3</th>\n",
       "    </tr>\n",
       "  </thead>\n",
       "  <tbody>\n",
       "    <tr>\n",
       "      <th>actual0</th>\n",
       "      <td>743</td>\n",
       "      <td>7</td>\n",
       "      <td>2</td>\n",
       "      <td>0</td>\n",
       "    </tr>\n",
       "    <tr>\n",
       "      <th>actual1</th>\n",
       "      <td>6</td>\n",
       "      <td>9</td>\n",
       "      <td>1</td>\n",
       "      <td>0</td>\n",
       "    </tr>\n",
       "    <tr>\n",
       "      <th>actual2</th>\n",
       "      <td>1</td>\n",
       "      <td>1</td>\n",
       "      <td>1</td>\n",
       "      <td>0</td>\n",
       "    </tr>\n",
       "    <tr>\n",
       "      <th>actual3</th>\n",
       "      <td>0</td>\n",
       "      <td>0</td>\n",
       "      <td>0</td>\n",
       "      <td>1</td>\n",
       "    </tr>\n",
       "  </tbody>\n",
       "</table>\n",
       "</div>"
      ],
      "text/plain": [
       "         pred0  pred1  pred2  pred3\n",
       "actual0    743      7      2      0\n",
       "actual1      6      9      1      0\n",
       "actual2      1      1      1      0\n",
       "actual3      0      0      0      1"
      ]
     },
     "execution_count": 977,
     "metadata": {},
     "output_type": "execute_result"
    }
   ],
   "source": [
    "# Normalizing price within these datasets increased false positives a ton, until I set max_depth\n",
    "# Normalizing price looks helpful\n",
    "\n",
    "rfg2 = RandomForestRegressor(100, max_depth=5, min_samples_leaf=3)\n",
    "rfg2.fit(X_train, y_train)\n",
    "pred = rfg2.predict(X_test).round()\n",
    "best = pd.DataFrame(confusion_matrix(y_test, pred), columns = ['pred0', 'pred1', 'pred2', 'pred3'], index = ['actual0', 'actual1', 'actual2', 'actual3'])\n",
    "best"
   ]
  },
  {
   "cell_type": "code",
   "execution_count": 967,
   "metadata": {
    "collapsed": false
   },
   "outputs": [
    {
     "data": {
      "text/plain": [
       "array([ 0.88020743,  0.0238489 ,  0.02371696,  0.02389785,  0.00452905,\n",
       "        0.00514243,  0.03865738])"
      ]
     },
     "execution_count": 967,
     "metadata": {},
     "output_type": "execute_result"
    }
   ],
   "source": [
    "# Even normalized, price is crazy-important -- actually more important\n",
    "rfg2.feature_importances_"
   ]
  },
  {
   "cell_type": "code",
   "execution_count": 968,
   "metadata": {
    "collapsed": false
   },
   "outputs": [
    {
     "name": "stdout",
     "output_type": "stream",
     "text": [
      "         pred0  pred1\n",
      "actual0   1287     68\n",
      "actual1      4     17\n"
     ]
    },
    {
     "data": {
      "text/plain": [
       "0.94751361799332279"
      ]
     },
     "execution_count": 968,
     "metadata": {},
     "output_type": "execute_result"
    }
   ],
   "source": [
    "#Try a classifier just on stars or no -- good roc_auc, would need to move the probability cutoff to avoid all the false\n",
    "#positives\n",
    "y_train = trainingc.stars.map({0:0, 1:1, 2:1, 3:1})\n",
    "y_test = ctestc.stars.map({0:0, 1:1, 2:1, 3:1})\n",
    "\n",
    "rfc = RandomForestClassifier(n_estimators = 100,class_weight = 'balanced', min_samples_leaf = 3, max_depth=5)\n",
    "rfc.fit(X_train, y_train)\n",
    "pred = rfc.predict(X_test)\n",
    "print pd.DataFrame(confusion_matrix(y_test, pred), columns = ['pred0', 'pred1'], index = ['actual0', 'actual1'])\n",
    "\n",
    "proba = rfc.predict_proba(X_test)\n",
    "proba = pd.DataFrame(proba, columns=['zero', 'one'])\n",
    "roc_auc_score(y_test, proba.one)"
   ]
  },
  {
   "cell_type": "markdown",
   "metadata": {},
   "source": [
    "What if instead I adjust cost for relative restaurant meal costs across cities? \n",
    "https://www.numbeo.com/cost-of-living/\n",
    "NYC: 80.00\n",
    "Chicago: 66.50\n",
    "San Francisco: 75.00\n",
    "Washington, DC: 72.50"
   ]
  },
  {
   "cell_type": "code",
   "execution_count": 860,
   "metadata": {
    "collapsed": false
   },
   "outputs": [],
   "source": [
    "ntrainc = ntrain1.copy(deep=True)\n",
    "ntrainc['cost'] = ntrainc['cost']/80.00"
   ]
  },
  {
   "cell_type": "code",
   "execution_count": 861,
   "metadata": {
    "collapsed": false
   },
   "outputs": [],
   "source": [
    "strainc = strain1.copy(deep=True)\n",
    "strainc['cost'] = strainc['cost']/75.00"
   ]
  },
  {
   "cell_type": "code",
   "execution_count": 862,
   "metadata": {
    "collapsed": true
   },
   "outputs": [],
   "source": [
    "ctestc = ctest1.copy(deep=True)\n",
    "ctestc['cost'] = ctestc['cost']/66.50"
   ]
  },
  {
   "cell_type": "code",
   "execution_count": 863,
   "metadata": {
    "collapsed": true
   },
   "outputs": [],
   "source": [
    "trainingc = ntrainc.append(strainc)\n",
    "X_train = trainingc.drop(['stars'], axis=1)\n",
    "y_train = trainingc.stars\n",
    "X_test = ctestc.drop(['stars'], axis=1)\n",
    "y_test = ctestc.stars"
   ]
  },
  {
   "cell_type": "code",
   "execution_count": 864,
   "metadata": {
    "collapsed": false
   },
   "outputs": [
    {
     "data": {
      "text/html": [
       "<div>\n",
       "<table border=\"1\" class=\"dataframe\">\n",
       "  <thead>\n",
       "    <tr style=\"text-align: right;\">\n",
       "      <th></th>\n",
       "      <th>pred0</th>\n",
       "      <th>pred1</th>\n",
       "      <th>pred2</th>\n",
       "      <th>pred3</th>\n",
       "    </tr>\n",
       "  </thead>\n",
       "  <tbody>\n",
       "    <tr>\n",
       "      <th>actual0</th>\n",
       "      <td>1346</td>\n",
       "      <td>7</td>\n",
       "      <td>2</td>\n",
       "      <td>0</td>\n",
       "    </tr>\n",
       "    <tr>\n",
       "      <th>actual1</th>\n",
       "      <td>8</td>\n",
       "      <td>7</td>\n",
       "      <td>1</td>\n",
       "      <td>0</td>\n",
       "    </tr>\n",
       "    <tr>\n",
       "      <th>actual2</th>\n",
       "      <td>1</td>\n",
       "      <td>1</td>\n",
       "      <td>1</td>\n",
       "      <td>0</td>\n",
       "    </tr>\n",
       "    <tr>\n",
       "      <th>actual3</th>\n",
       "      <td>1</td>\n",
       "      <td>0</td>\n",
       "      <td>0</td>\n",
       "      <td>1</td>\n",
       "    </tr>\n",
       "  </tbody>\n",
       "</table>\n",
       "</div>"
      ],
      "text/plain": [
       "         pred0  pred1  pred2  pred3\n",
       "actual0   1346      7      2      0\n",
       "actual1      8      7      1      0\n",
       "actual2      1      1      1      0\n",
       "actual3      1      0      0      1"
      ]
     },
     "execution_count": 864,
     "metadata": {},
     "output_type": "execute_result"
    }
   ],
   "source": [
    "#This doesn't seem better than normalizing price\n",
    "\n",
    "rfgc = RandomForestRegressor(100,max_depth=8, min_samples_leaf=3)\n",
    "rfgc.fit(X_train, y_train)\n",
    "pred = rfgc.predict(X_test).round()\n",
    "pd.DataFrame(confusion_matrix(y_test, pred), columns = ['pred0', 'pred1', 'pred2', 'pred3'], index = ['actual0', 'actual1', 'actual2', 'actual3'])"
   ]
  },
  {
   "cell_type": "code",
   "execution_count": 865,
   "metadata": {
    "collapsed": false
   },
   "outputs": [
    {
     "data": {
      "text/html": [
       "<div>\n",
       "<table border=\"1\" class=\"dataframe\">\n",
       "  <thead>\n",
       "    <tr style=\"text-align: right;\">\n",
       "      <th></th>\n",
       "      <th>pred0</th>\n",
       "      <th>pred1</th>\n",
       "      <th>pred2</th>\n",
       "      <th>pred3</th>\n",
       "    </tr>\n",
       "  </thead>\n",
       "  <tbody>\n",
       "    <tr>\n",
       "      <th>actual0</th>\n",
       "      <td>1343</td>\n",
       "      <td>10</td>\n",
       "      <td>0</td>\n",
       "      <td>2</td>\n",
       "    </tr>\n",
       "    <tr>\n",
       "      <th>actual1</th>\n",
       "      <td>6</td>\n",
       "      <td>8</td>\n",
       "      <td>1</td>\n",
       "      <td>1</td>\n",
       "    </tr>\n",
       "    <tr>\n",
       "      <th>actual2</th>\n",
       "      <td>0</td>\n",
       "      <td>2</td>\n",
       "      <td>1</td>\n",
       "      <td>0</td>\n",
       "    </tr>\n",
       "    <tr>\n",
       "      <th>actual3</th>\n",
       "      <td>1</td>\n",
       "      <td>0</td>\n",
       "      <td>0</td>\n",
       "      <td>1</td>\n",
       "    </tr>\n",
       "  </tbody>\n",
       "</table>\n",
       "</div>"
      ],
      "text/plain": [
       "         pred0  pred1  pred2  pred3\n",
       "actual0   1343     10      0      2\n",
       "actual1      6      8      1      1\n",
       "actual2      0      2      1      0\n",
       "actual3      1      0      0      1"
      ]
     },
     "execution_count": 865,
     "metadata": {},
     "output_type": "execute_result"
    }
   ],
   "source": [
    "#Trying with classifier... not really better\n",
    "\n",
    "rfc = RandomForestClassifier(n_estimators = 100,class_weight = 'balanced', min_samples_leaf = 3)\n",
    "rfc.fit(X_train, y_train)\n",
    "pred = rfc.predict(X_test)\n",
    "pd.DataFrame(confusion_matrix(y_test, pred), columns = ['pred0', 'pred1', 'pred2', 'pred3'], index = ['actual0', 'actual1', 'actual2', 'actual3'])"
   ]
  },
  {
   "cell_type": "code",
   "execution_count": 866,
   "metadata": {
    "collapsed": false
   },
   "outputs": [
    {
     "data": {
      "text/plain": [
       "array([ 0.33985302,  0.12110115,  0.12034092,  0.18248442,  0.03619662,\n",
       "        0.11638105,  0.08364282])"
      ]
     },
     "execution_count": 866,
     "metadata": {},
     "output_type": "execute_result"
    }
   ],
   "source": [
    "# I do really like that importance of cost goes down here\n",
    "rfc.feature_importances_"
   ]
  },
  {
   "cell_type": "code",
   "execution_count": 867,
   "metadata": {
    "collapsed": false
   },
   "outputs": [
    {
     "data": {
      "text/plain": [
       "0.94269899841855542"
      ]
     },
     "execution_count": 867,
     "metadata": {},
     "output_type": "execute_result"
    }
   ],
   "source": [
    "# Trying to just predict stars (not number of stars) so that I can produce ROC_AUC\n",
    "y_train = trainingc.stars.map({0:0, 1:1, 2:1, 3:1})\n",
    "y_test = ctestc.stars.map({0:0, 1:1, 2:1, 3:1})\n",
    "\n",
    "rfc = RandomForestClassifier(n_estimators = 100,class_weight = 'balanced', min_samples_leaf = 3)\n",
    "rfc.fit(X_train, y_train)\n",
    "pred = rfc.predict(X_test)\n",
    "pd.DataFrame(confusion_matrix(y_test, pred), columns = ['pred0', 'pred1'], index = ['actual0', 'actual1'])\n",
    "\n",
    "proba = rfc.predict_proba(X_test)\n",
    "proba = pd.DataFrame(proba, columns=['zero', 'one'])\n",
    "roc_auc_score(y_test, proba.one)"
   ]
  },
  {
   "cell_type": "code",
   "execution_count": 868,
   "metadata": {
    "collapsed": false
   },
   "outputs": [
    {
     "data": {
      "text/html": [
       "<div>\n",
       "<table border=\"1\" class=\"dataframe\">\n",
       "  <thead>\n",
       "    <tr style=\"text-align: right;\">\n",
       "      <th></th>\n",
       "      <th>pred0</th>\n",
       "      <th>pred1</th>\n",
       "    </tr>\n",
       "  </thead>\n",
       "  <tbody>\n",
       "    <tr>\n",
       "      <th>actual0</th>\n",
       "      <td>1342</td>\n",
       "      <td>13</td>\n",
       "    </tr>\n",
       "    <tr>\n",
       "      <th>actual1</th>\n",
       "      <td>6</td>\n",
       "      <td>15</td>\n",
       "    </tr>\n",
       "  </tbody>\n",
       "</table>\n",
       "</div>"
      ],
      "text/plain": [
       "         pred0  pred1\n",
       "actual0   1342     13\n",
       "actual1      6     15"
      ]
     },
     "execution_count": 868,
     "metadata": {},
     "output_type": "execute_result"
    }
   ],
   "source": [
    "rfc = RandomForestClassifier(n_estimators = 100,class_weight = 'balanced', min_samples_leaf = 3)\n",
    "rfc.fit(X_train, y_train)\n",
    "pred = rfc.predict(X_test)\n",
    "pd.DataFrame(confusion_matrix(y_test, pred), columns = ['pred0', 'pred1'], index = ['actual0', 'actual1'])"
   ]
  },
  {
   "cell_type": "code",
   "execution_count": 969,
   "metadata": {
    "collapsed": true
   },
   "outputs": [],
   "source": [
    "# What about keeping normalized cost and normalizing the Zagat ratings? \n",
    "# I have to use min_max because normal distribution doesn't make sense with a cutoff\n",
    "# of 5\n",
    "\n",
    "def engineer_data4(X_data):\n",
    "    X2 = X_data[['cost', 'cuisine', 'open_table', 'price_level', 'food', 'decor', 'service', 'stars']]\n",
    "    X2['ot_dummy'] = X2.apply(ot_dum, axis=1)\n",
    "    X2['stars'].replace(np.nan,0, inplace=True)\n",
    "    X2.drop('open_table', axis=1, inplace=True)\n",
    "    X2['price_lev_map'] = X2.price_level.map({'VE':4,'E':3,'M':2,'I':1})\n",
    "    X2.drop('price_level', axis=1, inplace=True)\n",
    "    X2['cuisine_code'] = le.transform(X2.cuisine)\n",
    "    X2.drop('cuisine', axis=1, inplace=True)\n",
    "    X2 = imp.fit_transform(X2)\n",
    "    X2 = pd.DataFrame(X2, columns = ['cost','food', 'decor', 'service', 'stars', 'ot_dummy', 'price_lev_map', 'cuisine_code'])\n",
    "    X2['food'] = preprocessing.MinMaxScaler().fit_transform(X2.food)\n",
    "    X2['service'] = preprocessing.MinMaxScaler().fit_transform(X2.service)\n",
    "    X2['decor'] = preprocessing.MinMaxScaler().fit_transform(X2.decor)\n",
    "    X2['cost'] = preprocessing.StandardScaler().fit_transform(X2.cost)\n",
    "    return X2"
   ]
  },
  {
   "cell_type": "code",
   "execution_count": 970,
   "metadata": {
    "collapsed": false
   },
   "outputs": [],
   "source": [
    "ntrain4 = engineer_data4(ntrain)\n",
    "strain4 = engineer_data4(strain)\n",
    "ctest4 = engineer_data4(ctest)\n",
    "\n",
    "training4 = ntrain4.append(strain4)\n",
    "X_train = training4.drop(['stars'], axis=1)\n",
    "y_train = training4.stars\n",
    "X_test = ctest4.drop(['stars'], axis=1)\n",
    "y_test = ctest4.stars"
   ]
  },
  {
   "cell_type": "code",
   "execution_count": 971,
   "metadata": {
    "collapsed": false
   },
   "outputs": [
    {
     "data": {
      "text/html": [
       "<div>\n",
       "<table border=\"1\" class=\"dataframe\">\n",
       "  <thead>\n",
       "    <tr style=\"text-align: right;\">\n",
       "      <th></th>\n",
       "      <th>cost</th>\n",
       "      <th>food</th>\n",
       "      <th>decor</th>\n",
       "      <th>service</th>\n",
       "      <th>stars</th>\n",
       "      <th>ot_dummy</th>\n",
       "      <th>price_lev_map</th>\n",
       "      <th>cuisine_code</th>\n",
       "    </tr>\n",
       "  </thead>\n",
       "  <tbody>\n",
       "    <tr>\n",
       "      <th>0</th>\n",
       "      <td>5.021430</td>\n",
       "      <td>1.000000</td>\n",
       "      <td>1.000000</td>\n",
       "      <td>1.000000</td>\n",
       "      <td>2.0</td>\n",
       "      <td>0.0</td>\n",
       "      <td>4.0</td>\n",
       "      <td>60.0</td>\n",
       "    </tr>\n",
       "    <tr>\n",
       "      <th>1</th>\n",
       "      <td>3.684074</td>\n",
       "      <td>1.000000</td>\n",
       "      <td>1.000000</td>\n",
       "      <td>0.979592</td>\n",
       "      <td>1.0</td>\n",
       "      <td>1.0</td>\n",
       "      <td>4.0</td>\n",
       "      <td>60.0</td>\n",
       "    </tr>\n",
       "    <tr>\n",
       "      <th>2</th>\n",
       "      <td>5.250691</td>\n",
       "      <td>1.000000</td>\n",
       "      <td>1.000000</td>\n",
       "      <td>1.000000</td>\n",
       "      <td>3.0</td>\n",
       "      <td>1.0</td>\n",
       "      <td>4.0</td>\n",
       "      <td>119.0</td>\n",
       "    </tr>\n",
       "    <tr>\n",
       "      <th>3</th>\n",
       "      <td>11.326105</td>\n",
       "      <td>0.979592</td>\n",
       "      <td>0.979167</td>\n",
       "      <td>0.979592</td>\n",
       "      <td>3.0</td>\n",
       "      <td>1.0</td>\n",
       "      <td>4.0</td>\n",
       "      <td>97.0</td>\n",
       "    </tr>\n",
       "    <tr>\n",
       "      <th>4</th>\n",
       "      <td>0.512632</td>\n",
       "      <td>0.979592</td>\n",
       "      <td>0.895833</td>\n",
       "      <td>0.959184</td>\n",
       "      <td>0.0</td>\n",
       "      <td>0.0</td>\n",
       "      <td>3.0</td>\n",
       "      <td>5.0</td>\n",
       "    </tr>\n",
       "  </tbody>\n",
       "</table>\n",
       "</div>"
      ],
      "text/plain": [
       "        cost      food     decor   service  stars  ot_dummy  price_lev_map  \\\n",
       "0   5.021430  1.000000  1.000000  1.000000    2.0       0.0            4.0   \n",
       "1   3.684074  1.000000  1.000000  0.979592    1.0       1.0            4.0   \n",
       "2   5.250691  1.000000  1.000000  1.000000    3.0       1.0            4.0   \n",
       "3  11.326105  0.979592  0.979167  0.979592    3.0       1.0            4.0   \n",
       "4   0.512632  0.979592  0.895833  0.959184    0.0       0.0            3.0   \n",
       "\n",
       "   cuisine_code  \n",
       "0          60.0  \n",
       "1          60.0  \n",
       "2         119.0  \n",
       "3          97.0  \n",
       "4           5.0  "
      ]
     },
     "execution_count": 971,
     "metadata": {},
     "output_type": "execute_result"
    }
   ],
   "source": [
    "ntrain4.head()"
   ]
  },
  {
   "cell_type": "code",
   "execution_count": 972,
   "metadata": {
    "collapsed": false
   },
   "outputs": [
    {
     "data": {
      "text/html": [
       "<div>\n",
       "<table border=\"1\" class=\"dataframe\">\n",
       "  <thead>\n",
       "    <tr style=\"text-align: right;\">\n",
       "      <th></th>\n",
       "      <th>pred0</th>\n",
       "      <th>pred1</th>\n",
       "      <th>pred2</th>\n",
       "      <th>pred3</th>\n",
       "    </tr>\n",
       "  </thead>\n",
       "  <tbody>\n",
       "    <tr>\n",
       "      <th>actual0</th>\n",
       "      <td>1343</td>\n",
       "      <td>11</td>\n",
       "      <td>1</td>\n",
       "      <td>0</td>\n",
       "    </tr>\n",
       "    <tr>\n",
       "      <th>actual1</th>\n",
       "      <td>7</td>\n",
       "      <td>8</td>\n",
       "      <td>1</td>\n",
       "      <td>0</td>\n",
       "    </tr>\n",
       "    <tr>\n",
       "      <th>actual2</th>\n",
       "      <td>1</td>\n",
       "      <td>1</td>\n",
       "      <td>1</td>\n",
       "      <td>0</td>\n",
       "    </tr>\n",
       "    <tr>\n",
       "      <th>actual3</th>\n",
       "      <td>1</td>\n",
       "      <td>0</td>\n",
       "      <td>1</td>\n",
       "      <td>0</td>\n",
       "    </tr>\n",
       "  </tbody>\n",
       "</table>\n",
       "</div>"
      ],
      "text/plain": [
       "         pred0  pred1  pred2  pred3\n",
       "actual0   1343     11      1      0\n",
       "actual1      7      8      1      0\n",
       "actual2      1      1      1      0\n",
       "actual3      1      0      1      0"
      ]
     },
     "execution_count": 972,
     "metadata": {},
     "output_type": "execute_result"
    }
   ],
   "source": [
    "#Played around with parameters, but there's no real benefit from the scaling\n",
    "\n",
    "rfg4 = RandomForestRegressor(max_depth=20, min_samples_leaf=10)\n",
    "rfg4.fit(X_train, y_train)\n",
    "pred = rfg4.predict(X_test).round()\n",
    "pd.DataFrame(confusion_matrix(y_test, pred), columns = ['pred0', 'pred1', 'pred2', 'pred3'], index = ['actual0', 'actual1', 'actual2', 'actual3'])"
   ]
  },
  {
   "cell_type": "code",
   "execution_count": 24,
   "metadata": {
    "collapsed": false
   },
   "outputs": [],
   "source": [
    "#What if I omit restaurants with a food score less than 4.2? Note, normalizing cost before\n",
    "def engineer_data5(X_data):\n",
    "    X2 = X_data[['cost','cuisine', 'open_table', 'price_level', 'food', 'decor', 'service', 'stars']]\n",
    "    X2['ot_dummy'] = X2.apply(ot_dum, axis=1)\n",
    "    X2['stars'].replace(np.nan,0, inplace=True)\n",
    "    X2.drop('open_table', axis=1, inplace=True)\n",
    "    X2['price_lev_map'] = X2.price_level.map({'VE':4,'E':3,'M':2,'I':1})\n",
    "    X2.drop('price_level', axis=1, inplace=True)\n",
    "    X2['cuisine_code'] = le.transform(X2.cuisine)\n",
    "    X2.drop('cuisine', axis=1, inplace=True)\n",
    "    X2 = imp.fit_transform(X2)\n",
    "    X2 = pd.DataFrame(X2, columns = ['cost','food', 'decor', 'service', 'stars', 'ot_dummy', 'price_lev_map','cuisine_code'])\n",
    "    X2['cost'] = preprocessing.StandardScaler().fit_transform(X2.cost)\n",
    "    X3 = X2[X2.food>4.2]\n",
    "    return X3"
   ]
  },
  {
   "cell_type": "code",
   "execution_count": 1000,
   "metadata": {
    "collapsed": false
   },
   "outputs": [],
   "source": [
    "ntrain5 = engineer_data5(ntrain)\n",
    "strain5 = engineer_data5(strain)\n",
    "ctest5 = engineer_data5(ctest)\n",
    "\n",
    "training = ntrain5.append(strain5)\n",
    "X_train = training.drop(['stars'], axis=1)\n",
    "y_train = training.stars\n",
    "X_test = ctest5.drop(['stars'], axis=1)\n",
    "y_test = ctest5.stars"
   ]
  },
  {
   "cell_type": "code",
   "execution_count": 975,
   "metadata": {
    "collapsed": false
   },
   "outputs": [
    {
     "data": {
      "text/html": [
       "<div>\n",
       "<table border=\"1\" class=\"dataframe\">\n",
       "  <thead>\n",
       "    <tr style=\"text-align: right;\">\n",
       "      <th></th>\n",
       "      <th>cost</th>\n",
       "      <th>food</th>\n",
       "      <th>decor</th>\n",
       "      <th>service</th>\n",
       "      <th>stars</th>\n",
       "      <th>ot_dummy</th>\n",
       "      <th>price_lev_map</th>\n",
       "      <th>cuisine_code</th>\n",
       "    </tr>\n",
       "  </thead>\n",
       "  <tbody>\n",
       "    <tr>\n",
       "      <th>0</th>\n",
       "      <td>5.021430</td>\n",
       "      <td>4.9</td>\n",
       "      <td>4.8</td>\n",
       "      <td>4.9</td>\n",
       "      <td>2.0</td>\n",
       "      <td>0.0</td>\n",
       "      <td>4.0</td>\n",
       "      <td>60.0</td>\n",
       "    </tr>\n",
       "    <tr>\n",
       "      <th>1</th>\n",
       "      <td>3.684074</td>\n",
       "      <td>4.9</td>\n",
       "      <td>4.8</td>\n",
       "      <td>4.8</td>\n",
       "      <td>1.0</td>\n",
       "      <td>1.0</td>\n",
       "      <td>4.0</td>\n",
       "      <td>60.0</td>\n",
       "    </tr>\n",
       "    <tr>\n",
       "      <th>2</th>\n",
       "      <td>5.250691</td>\n",
       "      <td>4.9</td>\n",
       "      <td>4.8</td>\n",
       "      <td>4.9</td>\n",
       "      <td>3.0</td>\n",
       "      <td>1.0</td>\n",
       "      <td>4.0</td>\n",
       "      <td>119.0</td>\n",
       "    </tr>\n",
       "    <tr>\n",
       "      <th>3</th>\n",
       "      <td>11.326105</td>\n",
       "      <td>4.8</td>\n",
       "      <td>4.7</td>\n",
       "      <td>4.8</td>\n",
       "      <td>3.0</td>\n",
       "      <td>1.0</td>\n",
       "      <td>4.0</td>\n",
       "      <td>97.0</td>\n",
       "    </tr>\n",
       "    <tr>\n",
       "      <th>4</th>\n",
       "      <td>0.512632</td>\n",
       "      <td>4.8</td>\n",
       "      <td>4.3</td>\n",
       "      <td>4.7</td>\n",
       "      <td>0.0</td>\n",
       "      <td>0.0</td>\n",
       "      <td>3.0</td>\n",
       "      <td>5.0</td>\n",
       "    </tr>\n",
       "  </tbody>\n",
       "</table>\n",
       "</div>"
      ],
      "text/plain": [
       "        cost  food  decor  service  stars  ot_dummy  price_lev_map  \\\n",
       "0   5.021430   4.9    4.8      4.9    2.0       0.0            4.0   \n",
       "1   3.684074   4.9    4.8      4.8    1.0       1.0            4.0   \n",
       "2   5.250691   4.9    4.8      4.9    3.0       1.0            4.0   \n",
       "3  11.326105   4.8    4.7      4.8    3.0       1.0            4.0   \n",
       "4   0.512632   4.8    4.3      4.7    0.0       0.0            3.0   \n",
       "\n",
       "   cuisine_code  \n",
       "0          60.0  \n",
       "1          60.0  \n",
       "2         119.0  \n",
       "3          97.0  \n",
       "4           5.0  "
      ]
     },
     "execution_count": 975,
     "metadata": {},
     "output_type": "execute_result"
    }
   ],
   "source": [
    "ntrain5.head()"
   ]
  },
  {
   "cell_type": "code",
   "execution_count": 1001,
   "metadata": {
    "collapsed": false
   },
   "outputs": [
    {
     "data": {
      "text/html": [
       "<div>\n",
       "<table border=\"1\" class=\"dataframe\">\n",
       "  <thead>\n",
       "    <tr style=\"text-align: right;\">\n",
       "      <th></th>\n",
       "      <th>Predicted 0</th>\n",
       "      <th>Predicted 1</th>\n",
       "      <th>Predicted 2</th>\n",
       "      <th>Predicted 3</th>\n",
       "    </tr>\n",
       "  </thead>\n",
       "  <tbody>\n",
       "    <tr>\n",
       "      <th>0 stars</th>\n",
       "      <td>743</td>\n",
       "      <td>7</td>\n",
       "      <td>2</td>\n",
       "      <td>0</td>\n",
       "    </tr>\n",
       "    <tr>\n",
       "      <th>1 star</th>\n",
       "      <td>5</td>\n",
       "      <td>9</td>\n",
       "      <td>2</td>\n",
       "      <td>0</td>\n",
       "    </tr>\n",
       "    <tr>\n",
       "      <th>2 star</th>\n",
       "      <td>1</td>\n",
       "      <td>1</td>\n",
       "      <td>1</td>\n",
       "      <td>0</td>\n",
       "    </tr>\n",
       "    <tr>\n",
       "      <th>3 star</th>\n",
       "      <td>0</td>\n",
       "      <td>0</td>\n",
       "      <td>0</td>\n",
       "      <td>1</td>\n",
       "    </tr>\n",
       "  </tbody>\n",
       "</table>\n",
       "</div>"
      ],
      "text/plain": [
       "         Predicted 0  Predicted 1  Predicted 2  Predicted 3\n",
       "0 stars          743            7            2            0\n",
       "1 star             5            9            2            0\n",
       "2 star             1            1            1            0\n",
       "3 star             0            0            0            1"
      ]
     },
     "execution_count": 1001,
     "metadata": {},
     "output_type": "execute_result"
    }
   ],
   "source": [
    "#Looks good - but only very slightly better due to cutting off data at food scores of 4.2\n",
    "rfg = RandomForestRegressor(100, max_depth=8)\n",
    "rfg.fit(X_train, y_train)\n",
    "pred = (rfg.predict(X_test)).round()\n",
    "pd.DataFrame(confusion_matrix(y_test, pred), columns = ['Predicted 0', 'Predicted 1', 'Predicted 2', 'Predicted 3'], index = ['0 stars', '1 star', '2 star', '3 star'])"
   ]
  },
  {
   "cell_type": "code",
   "execution_count": 992,
   "metadata": {
    "collapsed": false
   },
   "outputs": [
    {
     "data": {
      "text/plain": [
       "array([ 0.78672429,  0.03754881,  0.04733046,  0.04078128,  0.01284803,\n",
       "        0.01114307,  0.06362405])"
      ]
     },
     "execution_count": 992,
     "metadata": {},
     "output_type": "execute_result"
    }
   ],
   "source": [
    "rfg.feature_importances_"
   ]
  },
  {
   "cell_type": "code",
   "execution_count": 1014,
   "metadata": {
    "collapsed": false
   },
   "outputs": [],
   "source": [
    "featimp = pd.DataFrame(zip(X_test.columns, rfg.feature_importances_), columns=['Feature', 'Importance'])"
   ]
  },
  {
   "cell_type": "code",
   "execution_count": 1023,
   "metadata": {
    "collapsed": false
   },
   "outputs": [
    {
     "data": {
      "text/html": [
       "<div>\n",
       "<table border=\"1\" class=\"dataframe\">\n",
       "  <thead>\n",
       "    <tr style=\"text-align: right;\">\n",
       "      <th></th>\n",
       "      <th>Feature</th>\n",
       "      <th>Importance</th>\n",
       "    </tr>\n",
       "  </thead>\n",
       "  <tbody>\n",
       "    <tr>\n",
       "      <th>5</th>\n",
       "      <td>price_lev_map</td>\n",
       "      <td>0.008971</td>\n",
       "    </tr>\n",
       "    <tr>\n",
       "      <th>4</th>\n",
       "      <td>ot_dummy</td>\n",
       "      <td>0.011915</td>\n",
       "    </tr>\n",
       "    <tr>\n",
       "      <th>1</th>\n",
       "      <td>food</td>\n",
       "      <td>0.033330</td>\n",
       "    </tr>\n",
       "    <tr>\n",
       "      <th>3</th>\n",
       "      <td>service</td>\n",
       "      <td>0.045291</td>\n",
       "    </tr>\n",
       "    <tr>\n",
       "      <th>2</th>\n",
       "      <td>decor</td>\n",
       "      <td>0.050029</td>\n",
       "    </tr>\n",
       "    <tr>\n",
       "      <th>6</th>\n",
       "      <td>cuisine_code</td>\n",
       "      <td>0.068189</td>\n",
       "    </tr>\n",
       "    <tr>\n",
       "      <th>0</th>\n",
       "      <td>cost</td>\n",
       "      <td>0.782274</td>\n",
       "    </tr>\n",
       "  </tbody>\n",
       "</table>\n",
       "</div>"
      ],
      "text/plain": [
       "         Feature  Importance\n",
       "5  price_lev_map    0.008971\n",
       "4       ot_dummy    0.011915\n",
       "1           food    0.033330\n",
       "3        service    0.045291\n",
       "2          decor    0.050029\n",
       "6   cuisine_code    0.068189\n",
       "0           cost    0.782274"
      ]
     },
     "execution_count": 1023,
     "metadata": {},
     "output_type": "execute_result"
    }
   ],
   "source": [
    "featimp"
   ]
  },
  {
   "cell_type": "code",
   "execution_count": 919,
   "metadata": {
    "collapsed": false
   },
   "outputs": [
    {
     "data": {
      "text/html": [
       "<div>\n",
       "<table border=\"1\" class=\"dataframe\">\n",
       "  <thead>\n",
       "    <tr style=\"text-align: right;\">\n",
       "      <th></th>\n",
       "      <th>pred0</th>\n",
       "      <th>pred1</th>\n",
       "      <th>pred2</th>\n",
       "      <th>pred3</th>\n",
       "    </tr>\n",
       "  </thead>\n",
       "  <tbody>\n",
       "    <tr>\n",
       "      <th>actual0</th>\n",
       "      <td>744</td>\n",
       "      <td>7</td>\n",
       "      <td>0</td>\n",
       "      <td>1</td>\n",
       "    </tr>\n",
       "    <tr>\n",
       "      <th>actual1</th>\n",
       "      <td>11</td>\n",
       "      <td>4</td>\n",
       "      <td>1</td>\n",
       "      <td>0</td>\n",
       "    </tr>\n",
       "    <tr>\n",
       "      <th>actual2</th>\n",
       "      <td>1</td>\n",
       "      <td>1</td>\n",
       "      <td>1</td>\n",
       "      <td>0</td>\n",
       "    </tr>\n",
       "    <tr>\n",
       "      <th>actual3</th>\n",
       "      <td>0</td>\n",
       "      <td>0</td>\n",
       "      <td>0</td>\n",
       "      <td>1</td>\n",
       "    </tr>\n",
       "  </tbody>\n",
       "</table>\n",
       "</div>"
      ],
      "text/plain": [
       "         pred0  pred1  pred2  pred3\n",
       "actual0    744      7      0      1\n",
       "actual1     11      4      1      0\n",
       "actual2      1      1      1      0\n",
       "actual3      0      0      0      1"
      ]
     },
     "execution_count": 919,
     "metadata": {},
     "output_type": "execute_result"
    }
   ],
   "source": [
    "# Try random forest classifier - not looking great\n",
    "rfc = RandomForestClassifier(n_estimators = 100,class_weight = 'balanced')\n",
    "rfc.fit(X_train, y_train)\n",
    "pred = rfc.predict(X_test)\n",
    "pd.DataFrame(confusion_matrix(y_test, pred), columns = ['pred0', 'pred1', 'pred2', 'pred3'], index = ['actual0', 'actual1', 'actual2', 'actual3'])"
   ]
  },
  {
   "cell_type": "code",
   "execution_count": 893,
   "metadata": {
    "collapsed": true
   },
   "outputs": [],
   "source": [
    "#Try adaboost - actually, seems too conservative\n",
    "from sklearn.ensemble import AdaBoostClassifier"
   ]
  },
  {
   "cell_type": "code",
   "execution_count": 894,
   "metadata": {
    "collapsed": true
   },
   "outputs": [],
   "source": [
    "adb = AdaBoostClassifier(rfc)"
   ]
  },
  {
   "cell_type": "code",
   "execution_count": 895,
   "metadata": {
    "collapsed": false
   },
   "outputs": [
    {
     "data": {
      "text/html": [
       "<div>\n",
       "<table border=\"1\" class=\"dataframe\">\n",
       "  <thead>\n",
       "    <tr style=\"text-align: right;\">\n",
       "      <th></th>\n",
       "      <th>pred0</th>\n",
       "      <th>pred1</th>\n",
       "      <th>pred2</th>\n",
       "      <th>pred3</th>\n",
       "    </tr>\n",
       "  </thead>\n",
       "  <tbody>\n",
       "    <tr>\n",
       "      <th>actual0</th>\n",
       "      <td>745</td>\n",
       "      <td>6</td>\n",
       "      <td>0</td>\n",
       "      <td>1</td>\n",
       "    </tr>\n",
       "    <tr>\n",
       "      <th>actual1</th>\n",
       "      <td>9</td>\n",
       "      <td>3</td>\n",
       "      <td>4</td>\n",
       "      <td>0</td>\n",
       "    </tr>\n",
       "    <tr>\n",
       "      <th>actual2</th>\n",
       "      <td>0</td>\n",
       "      <td>2</td>\n",
       "      <td>1</td>\n",
       "      <td>0</td>\n",
       "    </tr>\n",
       "    <tr>\n",
       "      <th>actual3</th>\n",
       "      <td>0</td>\n",
       "      <td>0</td>\n",
       "      <td>0</td>\n",
       "      <td>1</td>\n",
       "    </tr>\n",
       "  </tbody>\n",
       "</table>\n",
       "</div>"
      ],
      "text/plain": [
       "         pred0  pred1  pred2  pred3\n",
       "actual0    745      6      0      1\n",
       "actual1      9      3      4      0\n",
       "actual2      0      2      1      0\n",
       "actual3      0      0      0      1"
      ]
     },
     "execution_count": 895,
     "metadata": {},
     "output_type": "execute_result"
    }
   ],
   "source": [
    "adb.fit(X_train, y_train)\n",
    "pred = adb.predict(X_test)\n",
    "pd.DataFrame(confusion_matrix(y_test, pred), columns = ['pred0', 'pred1', 'pred2', 'pred3'], index = ['actual0', 'actual1', 'actual2', 'actual3'])"
   ]
  },
  {
   "cell_type": "code",
   "execution_count": 559,
   "metadata": {
    "collapsed": true
   },
   "outputs": [],
   "source": [
    "from sklearn.ensemble import AdaBoostRegressor"
   ]
  },
  {
   "cell_type": "code",
   "execution_count": 896,
   "metadata": {
    "collapsed": false
   },
   "outputs": [],
   "source": [
    "adr = AdaBoostRegressor(rfg)"
   ]
  },
  {
   "cell_type": "code",
   "execution_count": 897,
   "metadata": {
    "collapsed": false
   },
   "outputs": [
    {
     "data": {
      "text/html": [
       "<div>\n",
       "<table border=\"1\" class=\"dataframe\">\n",
       "  <thead>\n",
       "    <tr style=\"text-align: right;\">\n",
       "      <th></th>\n",
       "      <th>pred0</th>\n",
       "      <th>pred1</th>\n",
       "      <th>pred2</th>\n",
       "      <th>pred3</th>\n",
       "    </tr>\n",
       "  </thead>\n",
       "  <tbody>\n",
       "    <tr>\n",
       "      <th>actual0</th>\n",
       "      <td>730</td>\n",
       "      <td>19</td>\n",
       "      <td>3</td>\n",
       "      <td>0</td>\n",
       "    </tr>\n",
       "    <tr>\n",
       "      <th>actual1</th>\n",
       "      <td>4</td>\n",
       "      <td>8</td>\n",
       "      <td>4</td>\n",
       "      <td>0</td>\n",
       "    </tr>\n",
       "    <tr>\n",
       "      <th>actual2</th>\n",
       "      <td>0</td>\n",
       "      <td>2</td>\n",
       "      <td>1</td>\n",
       "      <td>0</td>\n",
       "    </tr>\n",
       "    <tr>\n",
       "      <th>actual3</th>\n",
       "      <td>0</td>\n",
       "      <td>0</td>\n",
       "      <td>0</td>\n",
       "      <td>1</td>\n",
       "    </tr>\n",
       "  </tbody>\n",
       "</table>\n",
       "</div>"
      ],
      "text/plain": [
       "         pred0  pred1  pred2  pred3\n",
       "actual0    730     19      3      0\n",
       "actual1      4      8      4      0\n",
       "actual2      0      2      1      0\n",
       "actual3      0      0      0      1"
      ]
     },
     "execution_count": 897,
     "metadata": {},
     "output_type": "execute_result"
    }
   ],
   "source": [
    "#...and this isn't conservative enough\n",
    "adr.fit(X_train, y_train)\n",
    "pred = adr.predict(X_test).round()\n",
    "pd.DataFrame(confusion_matrix(y_test, pred), columns = ['pred0', 'pred1', 'pred2', 'pred3'], index = ['actual0', 'actual1', 'actual2', 'actual3'])"
   ]
  },
  {
   "cell_type": "code",
   "execution_count": 924,
   "metadata": {
    "collapsed": true
   },
   "outputs": [],
   "source": [
    "def engineer_data_dc5(X_data):\n",
    "    X2 = X_data[['cost','cuisine', 'open_table', 'price_level', 'food', 'decor', 'service']]\n",
    "    X2['ot_dummy'] = X2.apply(ot_dum, axis=1)\n",
    "    X2.drop('open_table', axis=1, inplace=True)\n",
    "    X2['price_lev_map'] = X2.price_level.map({'VE':4,'E':3,'M':2,'I':1})\n",
    "    X2.drop('price_level', axis=1, inplace=True)\n",
    "    X2['cuisine_code'] = le.transform(X2.cuisine)\n",
    "    X2.drop('cuisine', axis=1, inplace=True)\n",
    "    X2 = imp.fit_transform(X2)\n",
    "    X2 = pd.DataFrame(X2, columns = ['cost','food', 'decor', 'service', 'ot_dummy', 'price_lev_map', 'cuisine_code'])\n",
    "    X2['cost'] = preprocessing.StandardScaler().fit_transform(X2.cost)\n",
    "    X3 = X2[X2.food>4.2]\n",
    "    return X3"
   ]
  },
  {
   "cell_type": "code",
   "execution_count": 951,
   "metadata": {
    "collapsed": false
   },
   "outputs": [],
   "source": [
    "dctest = engineer_data_dc5(dc_prop)"
   ]
  },
  {
   "cell_type": "code",
   "execution_count": 952,
   "metadata": {
    "collapsed": false
   },
   "outputs": [],
   "source": [
    "dc_prop = dc_prop[dc_prop.food>4.2]"
   ]
  },
  {
   "cell_type": "code",
   "execution_count": 993,
   "metadata": {
    "collapsed": false
   },
   "outputs": [],
   "source": [
    "dc_prop['pred_stars_rf'] = (rfg.predict(dctest)).round()"
   ]
  },
  {
   "cell_type": "code",
   "execution_count": 994,
   "metadata": {
    "collapsed": false
   },
   "outputs": [
    {
     "data": {
      "text/html": [
       "<div>\n",
       "<table border=\"1\" class=\"dataframe\">\n",
       "  <thead>\n",
       "    <tr style=\"text-align: right;\">\n",
       "      <th></th>\n",
       "      <th>addr_city</th>\n",
       "      <th>cost</th>\n",
       "      <th>cuisine</th>\n",
       "      <th>latitude</th>\n",
       "      <th>longitude</th>\n",
       "      <th>neighborhood</th>\n",
       "      <th>open_table</th>\n",
       "      <th>price_level</th>\n",
       "      <th>title</th>\n",
       "      <th>url</th>\n",
       "      <th>food</th>\n",
       "      <th>decor</th>\n",
       "      <th>service</th>\n",
       "      <th>pred_stars_rf</th>\n",
       "    </tr>\n",
       "  </thead>\n",
       "  <tbody>\n",
       "    <tr>\n",
       "      <th>1</th>\n",
       "      <td>Washington</td>\n",
       "      <td>89</td>\n",
       "      <td>Italian</td>\n",
       "      <td>38.8939056</td>\n",
       "      <td>-77.0208435</td>\n",
       "      <td>Penn Quarter/Chinatown</td>\n",
       "      <td></td>\n",
       "      <td>E</td>\n",
       "      <td>fiola</td>\n",
       "      <td>https://www.zagat.com/r/fiola-washington</td>\n",
       "      <td>4.8</td>\n",
       "      <td>4.7</td>\n",
       "      <td>4.7</td>\n",
       "      <td>1.0</td>\n",
       "    </tr>\n",
       "    <tr>\n",
       "      <th>3</th>\n",
       "      <td>Washington</td>\n",
       "      <td>89</td>\n",
       "      <td>None</td>\n",
       "      <td>38.9050827</td>\n",
       "      <td>-77.0242615</td>\n",
       "      <td>Mount Vernon Square</td>\n",
       "      <td>http://www.opentable.com/restaurant/profile/10...</td>\n",
       "      <td>E</td>\n",
       "      <td>corduroy</td>\n",
       "      <td>https://www.zagat.com/r/corduroy-washington</td>\n",
       "      <td>4.8</td>\n",
       "      <td>4.5</td>\n",
       "      <td>4.6</td>\n",
       "      <td>1.0</td>\n",
       "    </tr>\n",
       "    <tr>\n",
       "      <th>5</th>\n",
       "      <td>Washington</td>\n",
       "      <td>325</td>\n",
       "      <td>Eclectic</td>\n",
       "      <td>38.8963737</td>\n",
       "      <td>-77.0235977</td>\n",
       "      <td>Penn Quarter/Chinatown</td>\n",
       "      <td></td>\n",
       "      <td>VE</td>\n",
       "      <td>minibar by jose andres</td>\n",
       "      <td>https://www.zagat.com/r/minibar-by-jose-andres...</td>\n",
       "      <td>4.7</td>\n",
       "      <td>4.7</td>\n",
       "      <td>4.7</td>\n",
       "      <td>3.0</td>\n",
       "    </tr>\n",
       "    <tr>\n",
       "      <th>10</th>\n",
       "      <td>Washington</td>\n",
       "      <td>103</td>\n",
       "      <td>Belgian</td>\n",
       "      <td>38.9034767</td>\n",
       "      <td>-77.0521851</td>\n",
       "      <td>West End</td>\n",
       "      <td></td>\n",
       "      <td>VE</td>\n",
       "      <td>marcel's by robert wiedmaier</td>\n",
       "      <td>https://www.zagat.com/r/marcels-washington</td>\n",
       "      <td>4.7</td>\n",
       "      <td>4.6</td>\n",
       "      <td>4.6</td>\n",
       "      <td>1.0</td>\n",
       "    </tr>\n",
       "    <tr>\n",
       "      <th>14</th>\n",
       "      <td>Washington</td>\n",
       "      <td>180</td>\n",
       "      <td>None</td>\n",
       "      <td>38.7136040</td>\n",
       "      <td>-78.1595459</td>\n",
       "      <td>None</td>\n",
       "      <td>http://www.opentable.com/restaurant/profile/19...</td>\n",
       "      <td>VE</td>\n",
       "      <td>inn at little washington</td>\n",
       "      <td>https://www.zagat.com/r/the-inn-at-little-wash...</td>\n",
       "      <td>4.7</td>\n",
       "      <td>4.8</td>\n",
       "      <td>4.7</td>\n",
       "      <td>2.0</td>\n",
       "    </tr>\n",
       "    <tr>\n",
       "      <th>16</th>\n",
       "      <td>Washington</td>\n",
       "      <td>109</td>\n",
       "      <td>None</td>\n",
       "      <td>38.9059944</td>\n",
       "      <td>-77.0369720</td>\n",
       "      <td>White House/World Bank</td>\n",
       "      <td>http://www.opentable.com/restaurant/profile/30...</td>\n",
       "      <td>VE</td>\n",
       "      <td>plume</td>\n",
       "      <td>https://www.zagat.com/r/plume-washington</td>\n",
       "      <td>4.6</td>\n",
       "      <td>4.8</td>\n",
       "      <td>4.9</td>\n",
       "      <td>1.0</td>\n",
       "    </tr>\n",
       "    <tr>\n",
       "      <th>35</th>\n",
       "      <td>Washington</td>\n",
       "      <td>176</td>\n",
       "      <td>Greek</td>\n",
       "      <td>38.9100838</td>\n",
       "      <td>-77.0382767</td>\n",
       "      <td>Dupont Circle</td>\n",
       "      <td></td>\n",
       "      <td>VE</td>\n",
       "      <td>komi</td>\n",
       "      <td>https://www.zagat.com/r/komi-washington</td>\n",
       "      <td>4.6</td>\n",
       "      <td>4.2</td>\n",
       "      <td>4.6</td>\n",
       "      <td>2.0</td>\n",
       "    </tr>\n",
       "    <tr>\n",
       "      <th>36</th>\n",
       "      <td>Washington</td>\n",
       "      <td>97</td>\n",
       "      <td>Seafood</td>\n",
       "      <td>38.9016228</td>\n",
       "      <td>-77.0609970</td>\n",
       "      <td>Georgetown</td>\n",
       "      <td></td>\n",
       "      <td>E</td>\n",
       "      <td>fiola mare</td>\n",
       "      <td>https://www.zagat.com/r/fiola-mare-washington</td>\n",
       "      <td>4.6</td>\n",
       "      <td>4.7</td>\n",
       "      <td>4.6</td>\n",
       "      <td>1.0</td>\n",
       "    </tr>\n",
       "    <tr>\n",
       "      <th>39</th>\n",
       "      <td>Washington</td>\n",
       "      <td>90</td>\n",
       "      <td>Japanese</td>\n",
       "      <td>38.9099731</td>\n",
       "      <td>-77.0381851</td>\n",
       "      <td>Dupont Circle</td>\n",
       "      <td>http://www.opentable.com/restaurant/profile/32...</td>\n",
       "      <td>E</td>\n",
       "      <td>sushi taro</td>\n",
       "      <td>https://www.zagat.com/r/sushi-taro-washington</td>\n",
       "      <td>4.6</td>\n",
       "      <td>4.2</td>\n",
       "      <td>4.4</td>\n",
       "      <td>1.0</td>\n",
       "    </tr>\n",
       "    <tr>\n",
       "      <th>44</th>\n",
       "      <td>Washington</td>\n",
       "      <td>80</td>\n",
       "      <td>Organic</td>\n",
       "      <td>38.9127617</td>\n",
       "      <td>-77.0472641</td>\n",
       "      <td>Dupont Circle</td>\n",
       "      <td>http://www.opentable.com/restaurant/profile/66...</td>\n",
       "      <td>E</td>\n",
       "      <td>nora</td>\n",
       "      <td>https://www.zagat.com/r/restaurant-nora-washin...</td>\n",
       "      <td>4.5</td>\n",
       "      <td>4.3</td>\n",
       "      <td>4.4</td>\n",
       "      <td>1.0</td>\n",
       "    </tr>\n",
       "    <tr>\n",
       "      <th>59</th>\n",
       "      <td>Washington</td>\n",
       "      <td>87</td>\n",
       "      <td>Italian</td>\n",
       "      <td>38.9098778</td>\n",
       "      <td>-77.0462265</td>\n",
       "      <td>Dupont Circle</td>\n",
       "      <td></td>\n",
       "      <td>VE</td>\n",
       "      <td>obelisk</td>\n",
       "      <td>https://www.zagat.com/r/obelisk-washington</td>\n",
       "      <td>4.5</td>\n",
       "      <td>3.9</td>\n",
       "      <td>4.5</td>\n",
       "      <td>1.0</td>\n",
       "    </tr>\n",
       "    <tr>\n",
       "      <th>93</th>\n",
       "      <td>Washington</td>\n",
       "      <td>115</td>\n",
       "      <td>Japanese</td>\n",
       "      <td>38.9167252</td>\n",
       "      <td>-77.0963516</td>\n",
       "      <td>Palisades</td>\n",
       "      <td></td>\n",
       "      <td>E</td>\n",
       "      <td>sakedokoro makoto</td>\n",
       "      <td>https://www.zagat.com/r/makoto-restaurant-dc-w...</td>\n",
       "      <td>4.4</td>\n",
       "      <td>4.0</td>\n",
       "      <td>4.1</td>\n",
       "      <td>1.0</td>\n",
       "    </tr>\n",
       "  </tbody>\n",
       "</table>\n",
       "</div>"
      ],
      "text/plain": [
       "     addr_city cost   cuisine    latitude    longitude  \\\n",
       "1   Washington   89   Italian  38.8939056  -77.0208435   \n",
       "3   Washington   89      None  38.9050827  -77.0242615   \n",
       "5   Washington  325  Eclectic  38.8963737  -77.0235977   \n",
       "10  Washington  103   Belgian  38.9034767  -77.0521851   \n",
       "14  Washington  180      None  38.7136040  -78.1595459   \n",
       "16  Washington  109      None  38.9059944  -77.0369720   \n",
       "35  Washington  176     Greek  38.9100838  -77.0382767   \n",
       "36  Washington   97   Seafood  38.9016228  -77.0609970   \n",
       "39  Washington   90  Japanese  38.9099731  -77.0381851   \n",
       "44  Washington   80   Organic  38.9127617  -77.0472641   \n",
       "59  Washington   87   Italian  38.9098778  -77.0462265   \n",
       "93  Washington  115  Japanese  38.9167252  -77.0963516   \n",
       "\n",
       "              neighborhood                                         open_table  \\\n",
       "1   Penn Quarter/Chinatown                                                      \n",
       "3      Mount Vernon Square  http://www.opentable.com/restaurant/profile/10...   \n",
       "5   Penn Quarter/Chinatown                                                      \n",
       "10                West End                                                      \n",
       "14                    None  http://www.opentable.com/restaurant/profile/19...   \n",
       "16  White House/World Bank  http://www.opentable.com/restaurant/profile/30...   \n",
       "35           Dupont Circle                                                      \n",
       "36              Georgetown                                                      \n",
       "39           Dupont Circle  http://www.opentable.com/restaurant/profile/32...   \n",
       "44           Dupont Circle  http://www.opentable.com/restaurant/profile/66...   \n",
       "59           Dupont Circle                                                      \n",
       "93               Palisades                                                      \n",
       "\n",
       "   price_level                         title  \\\n",
       "1            E                         fiola   \n",
       "3            E                      corduroy   \n",
       "5           VE        minibar by jose andres   \n",
       "10          VE  marcel's by robert wiedmaier   \n",
       "14          VE      inn at little washington   \n",
       "16          VE                         plume   \n",
       "35          VE                          komi   \n",
       "36           E                    fiola mare   \n",
       "39           E                    sushi taro   \n",
       "44           E                          nora   \n",
       "59          VE                       obelisk   \n",
       "93           E             sakedokoro makoto   \n",
       "\n",
       "                                                  url  food  decor  service  \\\n",
       "1            https://www.zagat.com/r/fiola-washington   4.8    4.7      4.7   \n",
       "3         https://www.zagat.com/r/corduroy-washington   4.8    4.5      4.6   \n",
       "5   https://www.zagat.com/r/minibar-by-jose-andres...   4.7    4.7      4.7   \n",
       "10         https://www.zagat.com/r/marcels-washington   4.7    4.6      4.6   \n",
       "14  https://www.zagat.com/r/the-inn-at-little-wash...   4.7    4.8      4.7   \n",
       "16           https://www.zagat.com/r/plume-washington   4.6    4.8      4.9   \n",
       "35            https://www.zagat.com/r/komi-washington   4.6    4.2      4.6   \n",
       "36      https://www.zagat.com/r/fiola-mare-washington   4.6    4.7      4.6   \n",
       "39      https://www.zagat.com/r/sushi-taro-washington   4.6    4.2      4.4   \n",
       "44  https://www.zagat.com/r/restaurant-nora-washin...   4.5    4.3      4.4   \n",
       "59         https://www.zagat.com/r/obelisk-washington   4.5    3.9      4.5   \n",
       "93  https://www.zagat.com/r/makoto-restaurant-dc-w...   4.4    4.0      4.1   \n",
       "\n",
       "    pred_stars_rf  \n",
       "1             1.0  \n",
       "3             1.0  \n",
       "5             3.0  \n",
       "10            1.0  \n",
       "14            2.0  \n",
       "16            1.0  \n",
       "35            2.0  \n",
       "36            1.0  \n",
       "39            1.0  \n",
       "44            1.0  \n",
       "59            1.0  \n",
       "93            1.0  "
      ]
     },
     "execution_count": 994,
     "metadata": {},
     "output_type": "execute_result"
    }
   ],
   "source": [
    "dc_prop[dc_prop.pred_stars_rf>0]"
   ]
  },
  {
   "cell_type": "code",
   "execution_count": 995,
   "metadata": {
    "collapsed": true
   },
   "outputs": [],
   "source": [
    "predictions = dc_prop[dc_prop.pred_stars_rf>0]"
   ]
  },
  {
   "cell_type": "code",
   "execution_count": 996,
   "metadata": {
    "collapsed": false
   },
   "outputs": [],
   "source": [
    "#Removing Inn at Little Washington which somehow is coded as Washington in Zagat\n",
    "predictions = predictions.drop(14, axis = 0)"
   ]
  },
  {
   "cell_type": "code",
   "execution_count": 997,
   "metadata": {
    "collapsed": false
   },
   "outputs": [
    {
     "data": {
      "text/html": [
       "<div>\n",
       "<table border=\"1\" class=\"dataframe\">\n",
       "  <thead>\n",
       "    <tr style=\"text-align: right;\">\n",
       "      <th></th>\n",
       "      <th>restaurant</th>\n",
       "      <th>stars</th>\n",
       "    </tr>\n",
       "  </thead>\n",
       "  <tbody>\n",
       "    <tr>\n",
       "      <th>0</th>\n",
       "      <td>fiola</td>\n",
       "      <td>1.0</td>\n",
       "    </tr>\n",
       "    <tr>\n",
       "      <th>1</th>\n",
       "      <td>corduroy</td>\n",
       "      <td>1.0</td>\n",
       "    </tr>\n",
       "    <tr>\n",
       "      <th>2</th>\n",
       "      <td>minibar by jose andres</td>\n",
       "      <td>3.0</td>\n",
       "    </tr>\n",
       "    <tr>\n",
       "      <th>3</th>\n",
       "      <td>marcel's by robert wiedmaier</td>\n",
       "      <td>1.0</td>\n",
       "    </tr>\n",
       "    <tr>\n",
       "      <th>4</th>\n",
       "      <td>plume</td>\n",
       "      <td>1.0</td>\n",
       "    </tr>\n",
       "    <tr>\n",
       "      <th>5</th>\n",
       "      <td>komi</td>\n",
       "      <td>2.0</td>\n",
       "    </tr>\n",
       "    <tr>\n",
       "      <th>6</th>\n",
       "      <td>fiola mare</td>\n",
       "      <td>1.0</td>\n",
       "    </tr>\n",
       "    <tr>\n",
       "      <th>7</th>\n",
       "      <td>sushi taro</td>\n",
       "      <td>1.0</td>\n",
       "    </tr>\n",
       "    <tr>\n",
       "      <th>8</th>\n",
       "      <td>nora</td>\n",
       "      <td>1.0</td>\n",
       "    </tr>\n",
       "    <tr>\n",
       "      <th>9</th>\n",
       "      <td>obelisk</td>\n",
       "      <td>1.0</td>\n",
       "    </tr>\n",
       "    <tr>\n",
       "      <th>10</th>\n",
       "      <td>sakedokoro makoto</td>\n",
       "      <td>1.0</td>\n",
       "    </tr>\n",
       "  </tbody>\n",
       "</table>\n",
       "</div>"
      ],
      "text/plain": [
       "                      restaurant  stars\n",
       "0                          fiola    1.0\n",
       "1                       corduroy    1.0\n",
       "2         minibar by jose andres    3.0\n",
       "3   marcel's by robert wiedmaier    1.0\n",
       "4                          plume    1.0\n",
       "5                           komi    2.0\n",
       "6                     fiola mare    1.0\n",
       "7                     sushi taro    1.0\n",
       "8                           nora    1.0\n",
       "9                        obelisk    1.0\n",
       "10             sakedokoro makoto    1.0"
      ]
     },
     "execution_count": 997,
     "metadata": {},
     "output_type": "execute_result"
    }
   ],
   "source": [
    "predictions = predictions.reset_index()\n",
    "del predictions['index']\n",
    "predictions = predictions[['title', 'pred_stars_rf']]\n",
    "predictions.columns = ['restaurant', 'stars']\n",
    "predictions"
   ]
  },
  {
   "cell_type": "code",
   "execution_count": 998,
   "metadata": {
    "collapsed": false
   },
   "outputs": [],
   "source": [
    "predictions.to_csv('C:/Users/elynchklarup/Desktop/dc-michelin-challenge/submissions/erinlynch-klarup/submission_lynchkl.csv')"
   ]
  },
  {
   "cell_type": "markdown",
   "metadata": {},
   "source": [
    "In this section, just trying to create a regression tree visualization to explain my model..."
   ]
  },
  {
   "cell_type": "code",
   "execution_count": 53,
   "metadata": {
    "collapsed": true
   },
   "outputs": [],
   "source": [
    "ntrain5 = engineer_data5(ntrain)\n",
    "strain5 = engineer_data5(strain)\n",
    "ctest5 = engineer_data5(ctest)\n",
    "\n",
    "training = ntrain5.append(strain5)\n",
    "X_train = training.drop(['stars'], axis=1)\n",
    "y_train = training.stars\n",
    "X_test = ctest5.drop(['stars'], axis=1)\n",
    "y_test = ctest5.stars"
   ]
  },
  {
   "cell_type": "code",
   "execution_count": 54,
   "metadata": {
    "collapsed": false
   },
   "outputs": [],
   "source": [
    "from sklearn.tree import DecisionTreeRegressor\n",
    "from sklearn.tree import export_graphviz"
   ]
  },
  {
   "cell_type": "code",
   "execution_count": 55,
   "metadata": {
    "collapsed": false
   },
   "outputs": [],
   "source": [
    "r = DecisionTreeRegressor(max_depth=3, min_samples_leaf = 3)\n",
    "r = r.fit(X_train, y_train)\n"
   ]
  },
  {
   "cell_type": "code",
   "execution_count": 56,
   "metadata": {
    "collapsed": false
   },
   "outputs": [],
   "source": [
    "export_graphviz(r, out_file='tree2.dot')"
   ]
  },
  {
   "cell_type": "code",
   "execution_count": 57,
   "metadata": {
    "collapsed": false
   },
   "outputs": [
    {
     "data": {
      "text/plain": [
       "array([ 0.95502306,  0.        ,  0.02535983,  0.        ,  0.00394718,\n",
       "        0.        ,  0.01566993])"
      ]
     },
     "execution_count": 57,
     "metadata": {},
     "output_type": "execute_result"
    }
   ],
   "source": [
    "r.feature_importances_"
   ]
  },
  {
   "cell_type": "code",
   "execution_count": 59,
   "metadata": {
    "collapsed": false
   },
   "outputs": [
    {
     "data": {
      "text/plain": [
       "Index([u'cost', u'food', u'decor', u'service', u'stars', u'ot_dummy',\n",
       "       u'price_lev_map', u'cuisine_code'],\n",
       "      dtype='object')"
      ]
     },
     "execution_count": 59,
     "metadata": {},
     "output_type": "execute_result"
    }
   ],
   "source": [
    "training.columns"
   ]
  },
  {
   "cell_type": "code",
   "execution_count": 60,
   "metadata": {
    "collapsed": false
   },
   "outputs": [
    {
     "data": {
      "text/html": [
       "<div>\n",
       "<table border=\"1\" class=\"dataframe\">\n",
       "  <thead>\n",
       "    <tr style=\"text-align: right;\">\n",
       "      <th></th>\n",
       "      <th>0</th>\n",
       "      <th>1</th>\n",
       "    </tr>\n",
       "  </thead>\n",
       "  <tbody>\n",
       "    <tr>\n",
       "      <th>0</th>\n",
       "      <td>cost</td>\n",
       "      <td>0.955023</td>\n",
       "    </tr>\n",
       "    <tr>\n",
       "      <th>1</th>\n",
       "      <td>food</td>\n",
       "      <td>0.000000</td>\n",
       "    </tr>\n",
       "    <tr>\n",
       "      <th>2</th>\n",
       "      <td>decor</td>\n",
       "      <td>0.025360</td>\n",
       "    </tr>\n",
       "    <tr>\n",
       "      <th>3</th>\n",
       "      <td>service</td>\n",
       "      <td>0.000000</td>\n",
       "    </tr>\n",
       "    <tr>\n",
       "      <th>4</th>\n",
       "      <td>ot_dummy</td>\n",
       "      <td>0.003947</td>\n",
       "    </tr>\n",
       "    <tr>\n",
       "      <th>5</th>\n",
       "      <td>price_lev_map</td>\n",
       "      <td>0.000000</td>\n",
       "    </tr>\n",
       "    <tr>\n",
       "      <th>6</th>\n",
       "      <td>cuisine_code</td>\n",
       "      <td>0.015670</td>\n",
       "    </tr>\n",
       "  </tbody>\n",
       "</table>\n",
       "</div>"
      ],
      "text/plain": [
       "               0         1\n",
       "0           cost  0.955023\n",
       "1           food  0.000000\n",
       "2          decor  0.025360\n",
       "3        service  0.000000\n",
       "4       ot_dummy  0.003947\n",
       "5  price_lev_map  0.000000\n",
       "6   cuisine_code  0.015670"
      ]
     },
     "execution_count": 60,
     "metadata": {},
     "output_type": "execute_result"
    }
   ],
   "source": [
    "pd.DataFrame(zip(X_train.columns, r.feature_importances_))"
   ]
  },
  {
   "cell_type": "code",
   "execution_count": 61,
   "metadata": {
    "collapsed": false
   },
   "outputs": [
    {
     "data": {
      "text/plain": [
       "<matplotlib.axes._subplots.AxesSubplot at 0xb1b2810>"
      ]
     },
     "execution_count": 61,
     "metadata": {},
     "output_type": "execute_result"
    },
    {
     "data": {
      "image/png": "[encoded data removed]",
      "text/plain": [
       "<matplotlib.figure.Figure at 0xb211070>"
      ]
     },
     "metadata": {},
     "output_type": "display_data"
    }
   ],
   "source": [
    "X_train.cost.hist()"
   ]
  },
  {
   "cell_type": "code",
   "execution_count": 63,
   "metadata": {
    "collapsed": false
   },
   "outputs": [
    {
     "data": {
      "text/html": [
       "<div>\n",
       "<table border=\"1\" class=\"dataframe\">\n",
       "  <thead>\n",
       "    <tr style=\"text-align: right;\">\n",
       "      <th></th>\n",
       "      <th>cost</th>\n",
       "      <th>food</th>\n",
       "      <th>decor</th>\n",
       "      <th>service</th>\n",
       "      <th>stars</th>\n",
       "      <th>ot_dummy</th>\n",
       "      <th>price_lev_map</th>\n",
       "      <th>cuisine_code</th>\n",
       "    </tr>\n",
       "  </thead>\n",
       "  <tbody>\n",
       "    <tr>\n",
       "      <th>3</th>\n",
       "      <td>11.326105</td>\n",
       "      <td>4.8</td>\n",
       "      <td>4.7</td>\n",
       "      <td>4.8</td>\n",
       "      <td>3.0</td>\n",
       "      <td>1.0</td>\n",
       "      <td>4.0</td>\n",
       "      <td>97.0</td>\n",
       "    </tr>\n",
       "    <tr>\n",
       "      <th>6</th>\n",
       "      <td>10.714743</td>\n",
       "      <td>4.8</td>\n",
       "      <td>4.8</td>\n",
       "      <td>4.8</td>\n",
       "      <td>3.0</td>\n",
       "      <td>1.0</td>\n",
       "      <td>4.0</td>\n",
       "      <td>0.0</td>\n",
       "    </tr>\n",
       "    <tr>\n",
       "      <th>1</th>\n",
       "      <td>11.142142</td>\n",
       "      <td>4.9</td>\n",
       "      <td>4.7</td>\n",
       "      <td>4.8</td>\n",
       "      <td>3.0</td>\n",
       "      <td>1.0</td>\n",
       "      <td>4.0</td>\n",
       "      <td>60.0</td>\n",
       "    </tr>\n",
       "    <tr>\n",
       "      <th>9</th>\n",
       "      <td>9.817739</td>\n",
       "      <td>4.8</td>\n",
       "      <td>4.6</td>\n",
       "      <td>4.8</td>\n",
       "      <td>3.0</td>\n",
       "      <td>1.0</td>\n",
       "      <td>4.0</td>\n",
       "      <td>97.0</td>\n",
       "    </tr>\n",
       "    <tr>\n",
       "      <th>31</th>\n",
       "      <td>8.689543</td>\n",
       "      <td>4.7</td>\n",
       "      <td>4.7</td>\n",
       "      <td>4.8</td>\n",
       "      <td>3.0</td>\n",
       "      <td>1.0</td>\n",
       "      <td>4.0</td>\n",
       "      <td>3.0</td>\n",
       "    </tr>\n",
       "    <tr>\n",
       "      <th>127</th>\n",
       "      <td>8.738595</td>\n",
       "      <td>4.6</td>\n",
       "      <td>4.8</td>\n",
       "      <td>4.7</td>\n",
       "      <td>3.0</td>\n",
       "      <td>1.0</td>\n",
       "      <td>4.0</td>\n",
       "      <td>0.0</td>\n",
       "    </tr>\n",
       "  </tbody>\n",
       "</table>\n",
       "</div>"
      ],
      "text/plain": [
       "          cost  food  decor  service  stars  ot_dummy  price_lev_map  \\\n",
       "3    11.326105   4.8    4.7      4.8    3.0       1.0            4.0   \n",
       "6    10.714743   4.8    4.8      4.8    3.0       1.0            4.0   \n",
       "1    11.142142   4.9    4.7      4.8    3.0       1.0            4.0   \n",
       "9     9.817739   4.8    4.6      4.8    3.0       1.0            4.0   \n",
       "31    8.689543   4.7    4.7      4.8    3.0       1.0            4.0   \n",
       "127   8.738595   4.6    4.8      4.7    3.0       1.0            4.0   \n",
       "\n",
       "     cuisine_code  \n",
       "3            97.0  \n",
       "6             0.0  \n",
       "1            60.0  \n",
       "9            97.0  \n",
       "31            3.0  \n",
       "127           0.0  "
      ]
     },
     "execution_count": 63,
     "metadata": {},
     "output_type": "execute_result"
    }
   ],
   "source": [
    "#Finding the restuarants in one leaf node -- for demo purposes in presentation\n",
    "\n",
    "training[(training.cost>8.44) & (training.ot_dummy==1)]"
   ]
  },
  {
   "cell_type": "code",
   "execution_count": 74,
   "metadata": {
    "collapsed": false
   },
   "outputs": [],
   "source": [
    "nyc_test = ntrain.loc[[3,6]]\n",
    "sf_test = strain.loc[[1,9,31,127]]"
   ]
  },
  {
   "cell_type": "code",
   "execution_count": 75,
   "metadata": {
    "collapsed": true
   },
   "outputs": [],
   "source": [
    "example = nyc_test.append(sf_test)"
   ]
  },
  {
   "cell_type": "code",
   "execution_count": 80,
   "metadata": {
    "collapsed": false
   },
   "outputs": [
    {
     "data": {
      "text/html": [
       "<div>\n",
       "<table border=\"1\" class=\"dataframe\">\n",
       "  <thead>\n",
       "    <tr style=\"text-align: right;\">\n",
       "      <th></th>\n",
       "      <th>title</th>\n",
       "      <th>cost</th>\n",
       "      <th>food</th>\n",
       "      <th>decor</th>\n",
       "      <th>service</th>\n",
       "      <th>cuisine</th>\n",
       "      <th>open_table</th>\n",
       "      <th>price_level</th>\n",
       "      <th>cuisine</th>\n",
       "      <th>stars</th>\n",
       "    </tr>\n",
       "  </thead>\n",
       "  <tbody>\n",
       "    <tr>\n",
       "      <th>3</th>\n",
       "      <td>per se</td>\n",
       "      <td>341</td>\n",
       "      <td>4.8</td>\n",
       "      <td>4.7</td>\n",
       "      <td>4.8</td>\n",
       "      <td>New American</td>\n",
       "      <td>http://www.opentable.com/restaurant/profile/27...</td>\n",
       "      <td>VE</td>\n",
       "      <td>New American</td>\n",
       "      <td>3.0</td>\n",
       "    </tr>\n",
       "    <tr>\n",
       "      <th>6</th>\n",
       "      <td>eleven madison park</td>\n",
       "      <td>325</td>\n",
       "      <td>4.8</td>\n",
       "      <td>4.8</td>\n",
       "      <td>4.8</td>\n",
       "      <td>None</td>\n",
       "      <td>http://www.opentable.com/restaurant/profile/21...</td>\n",
       "      <td>VE</td>\n",
       "      <td>None</td>\n",
       "      <td>3.0</td>\n",
       "    </tr>\n",
       "    <tr>\n",
       "      <th>1</th>\n",
       "      <td>french laundry</td>\n",
       "      <td>263</td>\n",
       "      <td>4.9</td>\n",
       "      <td>4.7</td>\n",
       "      <td>4.8</td>\n",
       "      <td>French</td>\n",
       "      <td>http://www.opentable.com/restaurant/profile/11...</td>\n",
       "      <td>VE</td>\n",
       "      <td>French</td>\n",
       "      <td>3.0</td>\n",
       "    </tr>\n",
       "    <tr>\n",
       "      <th>9</th>\n",
       "      <td>benu</td>\n",
       "      <td>236</td>\n",
       "      <td>4.8</td>\n",
       "      <td>4.6</td>\n",
       "      <td>4.8</td>\n",
       "      <td>New American</td>\n",
       "      <td>http://www.opentable.com/restaurant/profile/45...</td>\n",
       "      <td>VE</td>\n",
       "      <td>New American</td>\n",
       "      <td>3.0</td>\n",
       "    </tr>\n",
       "    <tr>\n",
       "      <th>31</th>\n",
       "      <td>manresa</td>\n",
       "      <td>213</td>\n",
       "      <td>4.7</td>\n",
       "      <td>4.7</td>\n",
       "      <td>4.8</td>\n",
       "      <td>American</td>\n",
       "      <td>http://www.opentable.com/restaurant/profile/20...</td>\n",
       "      <td>VE</td>\n",
       "      <td>American</td>\n",
       "      <td>3.0</td>\n",
       "    </tr>\n",
       "    <tr>\n",
       "      <th>127</th>\n",
       "      <td>at meadowood</td>\n",
       "      <td>214</td>\n",
       "      <td>4.6</td>\n",
       "      <td>4.8</td>\n",
       "      <td>4.7</td>\n",
       "      <td>None</td>\n",
       "      <td>http://www.opentable.com/restaurant/profile/50...</td>\n",
       "      <td>VE</td>\n",
       "      <td>None</td>\n",
       "      <td>3.0</td>\n",
       "    </tr>\n",
       "  </tbody>\n",
       "</table>\n",
       "</div>"
      ],
      "text/plain": [
       "                   title cost  food  decor  service       cuisine  \\\n",
       "3                 per se  341   4.8    4.7      4.8  New American   \n",
       "6    eleven madison park  325   4.8    4.8      4.8          None   \n",
       "1         french laundry  263   4.9    4.7      4.8        French   \n",
       "9                   benu  236   4.8    4.6      4.8  New American   \n",
       "31               manresa  213   4.7    4.7      4.8      American   \n",
       "127         at meadowood  214   4.6    4.8      4.7          None   \n",
       "\n",
       "                                            open_table price_level  \\\n",
       "3    http://www.opentable.com/restaurant/profile/27...          VE   \n",
       "6    http://www.opentable.com/restaurant/profile/21...          VE   \n",
       "1    http://www.opentable.com/restaurant/profile/11...          VE   \n",
       "9    http://www.opentable.com/restaurant/profile/45...          VE   \n",
       "31   http://www.opentable.com/restaurant/profile/20...          VE   \n",
       "127  http://www.opentable.com/restaurant/profile/50...          VE   \n",
       "\n",
       "          cuisine  stars  \n",
       "3    New American    3.0  \n",
       "6            None    3.0  \n",
       "1          French    3.0  \n",
       "9    New American    3.0  \n",
       "31       American    3.0  \n",
       "127          None    3.0  "
      ]
     },
     "execution_count": 80,
     "metadata": {},
     "output_type": "execute_result"
    }
   ],
   "source": [
    "example[['title', 'cost', 'food', 'decor','service', 'cuisine', 'open_table', 'price_level','cuisine', 'stars']]"
   ]
  }
 ],
 "metadata": {
  "kernelspec": {
   "display_name": "Python [Root]",
   "language": "python",
   "name": "Python [Root]"
  },
  "language_info": {
   "codemirror_mode": {
    "name": "ipython",
    "version": 2
   },
   "file_extension": ".py",
   "mimetype": "text/x-python",
   "name": "python",
   "nbconvert_exporter": "python",
   "pygments_lexer": "ipython2",
   "version": "2.7.12"
  }
 },
 "nbformat": 4,
 "nbformat_minor": 0
}
