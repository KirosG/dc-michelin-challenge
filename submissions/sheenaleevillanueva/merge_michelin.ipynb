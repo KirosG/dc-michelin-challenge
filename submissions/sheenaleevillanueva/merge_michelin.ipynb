{
 "cells": [
  {
   "cell_type": "markdown",
   "metadata": {},
   "source": [
    "## Merge files"
   ]
  },
  {
   "cell_type": "code",
   "execution_count": 419,
   "metadata": {
    "collapsed": true
   },
   "outputs": [],
   "source": [
    "#imports\n",
    "import pandas as pd\n",
    "import numpy as np\n",
    "import re"
   ]
  },
  {
   "cell_type": "markdown",
   "metadata": {},
   "source": [
    "### Google merge and cleaning"
   ]
  },
  {
   "cell_type": "code",
   "execution_count": 420,
   "metadata": {
    "collapsed": false
   },
   "outputs": [],
   "source": [
    "#read test data from Google scraping\n",
    "ny_goog = pd.read_csv(\"ny_goog.csv\")\n",
    "ca_goog = pd.read_csv(\"ca_goog.csv\")\n",
    "ch_goog = pd.read_csv(\"ch_goog.csv\")\n",
    "zagat = pd.read_csv(\"dc_google_zagat.csv\")\n",
    "post = pd.read_csv(\"post_goog.csv\")"
   ]
  },
  {
   "cell_type": "code",
   "execution_count": 421,
   "metadata": {
    "collapsed": true
   },
   "outputs": [],
   "source": [
    "us_goog = pd.concat([ny_goog,ca_goog,ch_goog])\n",
    "dc = pd.concat([zagat,post])"
   ]
  },
  {
   "cell_type": "code",
   "execution_count": 422,
   "metadata": {
    "collapsed": false
   },
   "outputs": [],
   "source": [
    "us_goog = us_goog.reset_index(drop=True)\n",
    "dc = dc.reset_index(drop=True)"
   ]
  },
  {
   "cell_type": "code",
   "execution_count": 423,
   "metadata": {
    "collapsed": false
   },
   "outputs": [],
   "source": [
    "#drop description for this part\n",
    "dc.drop(\"desc\",axis=1,inplace=True)"
   ]
  },
  {
   "cell_type": "code",
   "execution_count": 424,
   "metadata": {
    "collapsed": false
   },
   "outputs": [],
   "source": [
    "us_goog = us_goog.applymap(lambda x: np.nan if x==\"None\" else x)\n",
    "dc = dc.applymap(lambda x: np.nan if x==\"None\" else x)\n",
    "#post = post.applymap(lambda x: np.nan if x==\"None\" else x)"
   ]
  },
  {
   "cell_type": "code",
   "execution_count": 425,
   "metadata": {
    "collapsed": false
   },
   "outputs": [
    {
     "data": {
      "text/plain": [
       "name      17\n",
       "rev      113\n",
       "price     76\n",
       "dtype: int64"
      ]
     },
     "execution_count": 425,
     "metadata": {},
     "output_type": "execute_result"
    }
   ],
   "source": [
    "#now check null values\n",
    "us_goog.isnull().sum()"
   ]
  },
  {
   "cell_type": "code",
   "execution_count": 426,
   "metadata": {
    "collapsed": false
   },
   "outputs": [
    {
     "data": {
      "text/plain": [
       "name     78\n",
       "price    90\n",
       "rev      91\n",
       "dtype: int64"
      ]
     },
     "execution_count": 426,
     "metadata": {},
     "output_type": "execute_result"
    }
   ],
   "source": [
    "dc.isnull().sum()"
   ]
  },
  {
   "cell_type": "code",
   "execution_count": 427,
   "metadata": {
    "collapsed": false
   },
   "outputs": [
    {
     "data": {
      "text/plain": [
       "name     0\n",
       "rev      0\n",
       "price    0\n",
       "dtype: int64"
      ]
     },
     "execution_count": 427,
     "metadata": {},
     "output_type": "execute_result"
    }
   ],
   "source": [
    "post.isnull().sum()"
   ]
  },
  {
   "cell_type": "code",
   "execution_count": 428,
   "metadata": {
    "collapsed": false
   },
   "outputs": [],
   "source": [
    "#drop them\n",
    "us_goog.dropna(inplace=True)\n",
    "dc.dropna(inplace=True)\n",
    "#post.dropna(inplace=True)"
   ]
  },
  {
   "cell_type": "code",
   "execution_count": 429,
   "metadata": {
    "collapsed": true
   },
   "outputs": [],
   "source": [
    "#let's clean the names\n",
    "def cleanName(x):\n",
    "    x = str(x).replace(\"\\n\", \"\")\n",
    "    if x[-17:].lower()=='websitedirections':\n",
    "        return x[:-17]\n",
    "    else:\n",
    "        return x"
   ]
  },
  {
   "cell_type": "code",
   "execution_count": 430,
   "metadata": {
    "collapsed": false
   },
   "outputs": [],
   "source": [
    "us_goog[\"name\"] = us_goog[\"name\"].apply(cleanName)\n",
    "dc[\"name\"] = dc[\"name\"].apply(cleanName)\n",
    "#post[\"name\"] = post[\"name\"].apply(cleanName)"
   ]
  },
  {
   "cell_type": "code",
   "execution_count": 431,
   "metadata": {
    "collapsed": false
   },
   "outputs": [],
   "source": [
    "#separate rev \n",
    "us_goog[\"rating\"] = us_goog[\"rev\"].apply(lambda x: x.split(\"\\n\")[0])\n",
    "dc[\"rating\"] = dc[\"rev\"].apply(lambda x: x.split(\"\\n\")[0])\n",
    "#post[\"rating\"] = post[\"rev\"].apply(lambda x: x.split(\"\\n\")[0])"
   ]
  },
  {
   "cell_type": "code",
   "execution_count": 432,
   "metadata": {
    "collapsed": true
   },
   "outputs": [],
   "source": [
    "#get the reviews if available\n",
    "def getReviews(x):\n",
    "    try:\n",
    "        return x.split(\"\\n\")[1]\n",
    "    except:\n",
    "        return np.nan"
   ]
  },
  {
   "cell_type": "code",
   "execution_count": 433,
   "metadata": {
    "collapsed": true
   },
   "outputs": [],
   "source": [
    "us_goog[\"numrev\"] = us_goog[\"rev\"].apply(getReviews)\n",
    "us_goog.dropna(inplace=True)\n",
    "\n",
    "dc[\"numrev\"] = dc[\"rev\"].apply(getReviews)\n",
    "dc.dropna(inplace=True)\n",
    "\n",
    "# post[\"numrev\"] = post[\"rev\"].apply(getReviews)\n",
    "# post.dropna(inplace=True)"
   ]
  },
  {
   "cell_type": "code",
   "execution_count": 434,
   "metadata": {
    "collapsed": false
   },
   "outputs": [],
   "source": [
    "#let's split up the price to price and cuisine\n",
    "def getPrice(x):\n",
    "    price = x.split(\"·\")[0]\n",
    "    if price[0] == \"$\":\n",
    "        return price.replace(\" \",\"\")\n",
    "    else:\n",
    "        return np.nan"
   ]
  },
  {
   "cell_type": "code",
   "execution_count": 435,
   "metadata": {
    "collapsed": false
   },
   "outputs": [],
   "source": [
    "us_goog[\"goog_price\"] = us_goog[\"price\"].apply(getPrice)\n",
    "us_goog.dropna(inplace=True)\n",
    "\n",
    "dc[\"goog_price\"] = dc[\"price\"].apply(getPrice)\n",
    "dc.dropna(inplace=True)\n",
    "\n",
    "# post[\"goog_price\"] = post[\"price\"].apply(getPrice)\n",
    "# post.dropna(inplace=True)"
   ]
  },
  {
   "cell_type": "code",
   "execution_count": 436,
   "metadata": {
    "collapsed": true
   },
   "outputs": [],
   "source": [
    "def getCuisine(x):\n",
    "    try:\n",
    "        cuisine = x.split(\"·\")[1]\n",
    "        if cuisine[0] != \"$\":\n",
    "            if \"Restaurant\" in cuisine:\n",
    "                return cuisine.replace(\"Restaurant\",\"\")\n",
    "            else:\n",
    "                return cuisine\n",
    "        else:\n",
    "            if x.split(\"·\")[0][0] != \"$\": \n",
    "                return x.split(\"·\")[0].replace(\"Restaurant\",\"\")\n",
    "    except:\n",
    "        return np.nan\n",
    "        "
   ]
  },
  {
   "cell_type": "code",
   "execution_count": 437,
   "metadata": {
    "collapsed": false
   },
   "outputs": [],
   "source": [
    "us_goog[\"cuisine\"] = us_goog[\"price\"].apply(getCuisine)\n",
    "us_goog.dropna(inplace=True)\n",
    "\n",
    "dc[\"cuisine\"] = dc[\"price\"].apply(getCuisine)\n",
    "dc.dropna(inplace=True)\n",
    "\n",
    "# post[\"cuisine\"] = post[\"price\"].apply(getCuisine)\n",
    "# post.dropna(inplace=True)"
   ]
  },
  {
   "cell_type": "code",
   "execution_count": 438,
   "metadata": {
    "collapsed": false
   },
   "outputs": [],
   "source": [
    "def cleanReviews(x):\n",
    "    if re.findall(r\"\\d\",x):\n",
    "        return \"\".join(re.findall(r\"\\d\",x))\n",
    "    else:\n",
    "        return np.nan"
   ]
  },
  {
   "cell_type": "code",
   "execution_count": 439,
   "metadata": {
    "collapsed": false
   },
   "outputs": [],
   "source": [
    "us_goog.numrev = us_goog[\"numrev\"].apply(cleanReviews)\n",
    "us_goog.dropna(inplace=True)\n",
    "\n",
    "dc.numrev = dc[\"numrev\"].apply(cleanReviews)\n",
    "dc.dropna(inplace=True)\n",
    "\n",
    "# post.numrev = post[\"numrev\"].apply(cleanReviews)\n",
    "# post.dropna(inplace=True)"
   ]
  },
  {
   "cell_type": "code",
   "execution_count": 440,
   "metadata": {
    "collapsed": false
   },
   "outputs": [],
   "source": [
    "us_goog.drop([\"rev\",\"price\"],axis=1,inplace=True)\n",
    "dc.drop([\"rev\",\"price\"],axis=1,inplace=True)\n",
    "#post.drop([\"rev\",\"price\"],axis=1,inplace=True)"
   ]
  },
  {
   "cell_type": "code",
   "execution_count": 441,
   "metadata": {
    "collapsed": false
   },
   "outputs": [],
   "source": [
    "#save clean test data\n",
    "us_goog.to_csv(\"us_goog.csv\",encoding=\"utf-8\",index=False)\n",
    "dc.to_csv(\"dc_test.csv\",encoding=\"utf-8\",index=False)\n",
    "# post.to_csv(\"post_test.csv\",encoding=\"utf-8\",index=False)"
   ]
  },
  {
   "cell_type": "markdown",
   "metadata": {},
   "source": [
    "### Michelin and Google Merge"
   ]
  },
  {
   "cell_type": "code",
   "execution_count": 442,
   "metadata": {
    "collapsed": true
   },
   "outputs": [],
   "source": [
    "michelin = pd.read_csv(\"combined_clean.csv\")"
   ]
  },
  {
   "cell_type": "code",
   "execution_count": 443,
   "metadata": {
    "collapsed": false
   },
   "outputs": [],
   "source": [
    "#let's get the US data only\n",
    "def findCountry(x):\n",
    "    if re.search(\"[9]{1}[0-9]{4}\",x[-5:]):\n",
    "        return \"CA\"\n",
    "    elif re.search(\"[1]{1}[0-9]{4}\",x[-5:]):\n",
    "        return \"NY\"\n",
    "    elif re.search(\"[6]{1}[0-9]{4}\",x[-5:]):\n",
    "        return \"IL\"\n",
    "    else:\n",
    "        return \"NA\""
   ]
  },
  {
   "cell_type": "code",
   "execution_count": 444,
   "metadata": {
    "collapsed": true
   },
   "outputs": [],
   "source": [
    "michelin[\"state\"] = michelin[\"address\"].apply(findCountry)"
   ]
  },
  {
   "cell_type": "code",
   "execution_count": 445,
   "metadata": {
    "collapsed": false
   },
   "outputs": [],
   "source": [
    "us = michelin[(michelin[\"state\"]==\"NY\")|(michelin[\"state\"]==\"CA\")|(michelin[\"state\"]==\"IL\")]"
   ]
  },
  {
   "cell_type": "code",
   "execution_count": 446,
   "metadata": {
    "collapsed": false
   },
   "outputs": [],
   "source": [
    "#merge on name keep left (michelin restaurants)\n",
    "us_mg = us.merge(us_goog,how=\"left\",on=\"name\")"
   ]
  },
  {
   "cell_type": "code",
   "execution_count": 447,
   "metadata": {
    "collapsed": false
   },
   "outputs": [],
   "source": [
    "#drop nulls and reset index\n",
    "us_mg.dropna(inplace=True)\n",
    "us_mg.reset_index(drop=True,inplace=True)"
   ]
  },
  {
   "cell_type": "code",
   "execution_count": 448,
   "metadata": {
    "collapsed": false
   },
   "outputs": [],
   "source": [
    "#change the price to numeric instead of $$$$\n",
    "us_mg.goog_price = us_mg.goog_price.map({\"$\":1,\"$$\":2,\"$$$\":3,\"$$$$\":4})\n",
    "dc[\"goog_price\"] = dc.goog_price.map({\"$\":1,\"$$\":2,\"$$$\":3,\"$$$$\":4})\n",
    "#post[\"goog_price\"] = post.goog_price.map({\"$\":1,\"$$\":2,\"$$$\":3,\"$$$$\":4})"
   ]
  },
  {
   "cell_type": "code",
   "execution_count": 449,
   "metadata": {
    "collapsed": false
   },
   "outputs": [],
   "source": [
    "def generalizeC(x):\n",
    "    cuisines = {\"Chinese\":[\"dim\",\"dimsum\",\"sichuan\",\"taiwanese\",\"tea\",\"teahouse\",\"mandarin\"],\n",
    "                \"Mexican\":[\"taco\"],\"International\":[\"eclectic\"],\"Latin American\":[\"nuevo\"],\n",
    "                \"Japanese\":[\"sushi\",\"ramen\",\"yakitori\"],\n",
    "                \"American\":[\"diner\",\"family\",\"hamburger\",\"cafe\",\"newamerican\",\"traditionalamerican\"],\n",
    "               \"Steakhouse\":[\"steakhouse\"],\n",
    "               \"Contemporary\":[\"finedining\"],\n",
    "               \"Spanish\":[\"tapasbar\"]}\n",
    "    \n",
    "    y = x.replace(\" \",\"\").lower()\n",
    "    for key,val in cuisines.iteritems():\n",
    "        if y in val:\n",
    "            return key\n",
    "    return x"
   ]
  },
  {
   "cell_type": "code",
   "execution_count": 450,
   "metadata": {
    "collapsed": false
   },
   "outputs": [],
   "source": [
    "us_mg.cuisine = us_mg.cuisine.apply(generalizeC)\n",
    "dc.cuisine = dc.cuisine.apply(generalizeC)\n",
    "#post.cuisine = post.cuisine.apply(generalizeC)"
   ]
  },
  {
   "cell_type": "code",
   "execution_count": 451,
   "metadata": {
    "collapsed": true
   },
   "outputs": [],
   "source": [
    "def cleanCuisine(x):\n",
    "    x = re.sub(r\"^\\s*\", \"\", x)\n",
    "    x = re.sub(r\"\\s*$\",\"\",x)\n",
    "    \n",
    "    if x != \"\":\n",
    "        return x\n",
    "    else:\n",
    "        return np.nan"
   ]
  },
  {
   "cell_type": "code",
   "execution_count": 452,
   "metadata": {
    "collapsed": false
   },
   "outputs": [],
   "source": [
    "us_mg[\"cuisine\"] = us_mg[\"cuisine\"].apply(cleanCuisine)\n",
    "us_mg.dropna(inplace=True)\n",
    "\n",
    "dc[\"cuisine\"] = dc[\"cuisine\"].apply(cleanCuisine)\n",
    "dc.dropna(inplace=True)\n",
    "\n",
    "# post[\"cuisine\"] = post[\"cuisine\"].apply(cleanCuisine)\n",
    "# post.dropna(inplace=True)"
   ]
  },
  {
   "cell_type": "code",
   "execution_count": 453,
   "metadata": {
    "collapsed": false
   },
   "outputs": [],
   "source": [
    "us_mg.numrev = pd.to_numeric(us_mg.numrev)\n",
    "us_mg.rating = pd.to_numeric(us_mg.rating)\n",
    "\n",
    "dc.numrev = pd.to_numeric(dc.numrev)\n",
    "dc.rating = pd.to_numeric(dc.rating)\n",
    "\n",
    "# post.numrev = pd.to_numeric(post.numrev)\n",
    "# post.rating = pd.to_numeric(post.rating)"
   ]
  },
  {
   "cell_type": "code",
   "execution_count": 454,
   "metadata": {
    "collapsed": false
   },
   "outputs": [
    {
     "data": {
      "text/plain": [
       "0.0    891\n",
       "1.0    144\n",
       "2.0     24\n",
       "3.0     18\n",
       "Name: stars, dtype: int64"
      ]
     },
     "execution_count": 454,
     "metadata": {},
     "output_type": "execute_result"
    }
   ],
   "source": [
    "us_mg.stars.value_counts()"
   ]
  },
  {
   "cell_type": "code",
   "execution_count": 455,
   "metadata": {
    "collapsed": false
   },
   "outputs": [],
   "source": [
    "us_mg[\"bstars\"] = us_mg.stars.map({0.0:0,1.0:1,2.0:1,3.0:1})\n",
    "us_mg[\"cstars\"] = us_mg.stars.map({0.0:0,1.0:1,2.0:2,3.0:2})"
   ]
  },
  {
   "cell_type": "code",
   "execution_count": 456,
   "metadata": {
    "collapsed": false
   },
   "outputs": [],
   "source": [
    "price_cuisine = pd.DataFrame(us_mg.groupby([\"cuisine\",\"goog_price\"]).usd_avg.median())\n",
    "avgPrice = pd.DataFrame(us_mg.groupby(\"goog_price\").usd_avg.median())"
   ]
  },
  {
   "cell_type": "code",
   "execution_count": 457,
   "metadata": {
    "collapsed": false
   },
   "outputs": [],
   "source": [
    "ap = avgPrice.to_dict()\n",
    "pc = price_cuisine.to_dict()"
   ]
  },
  {
   "cell_type": "code",
   "execution_count": 458,
   "metadata": {
    "collapsed": false
   },
   "outputs": [],
   "source": [
    "def getAvgPriceByCuisine(x,y):\n",
    "    xy = (x,y)\n",
    "    \n",
    "    try:\n",
    "        return pc[\"usd_avg\"][xy]\n",
    "    except:\n",
    "        return ap[\"usd_avg\"][y]"
   ]
  },
  {
   "cell_type": "code",
   "execution_count": 459,
   "metadata": {
    "collapsed": false
   },
   "outputs": [],
   "source": [
    "us_mg[\"pc\"] = np.vectorize(getAvgPriceByCuisine)(us_mg[\"cuisine\"],us_mg[\"goog_price\"])\n",
    "dc[\"pc\"] = np.vectorize(getAvgPriceByCuisine)(dc[\"cuisine\"],dc[\"goog_price\"])\n",
    "#post[\"pc\"]= np.vectorize(getAvgPriceByCuisine)(post[\"cuisine\"],post[\"goog_price\"])"
   ]
  },
  {
   "cell_type": "code",
   "execution_count": 460,
   "metadata": {
    "collapsed": true
   },
   "outputs": [],
   "source": [
    "us_mg.dropna(inplace=True)\n",
    "dc.dropna(inplace=True)\n",
    "#post.dropna(inplace=True)"
   ]
  },
  {
   "cell_type": "code",
   "execution_count": 461,
   "metadata": {
    "collapsed": true
   },
   "outputs": [],
   "source": [
    "us_mg.drop_duplicates(inplace=True)\n",
    "dc.drop_duplicates(inplace=True)\n",
    "#post.drop_duplicates(inplace=True)"
   ]
  },
  {
   "cell_type": "code",
   "execution_count": 462,
   "metadata": {
    "collapsed": false
   },
   "outputs": [
    {
     "data": {
      "text/plain": [
       "LabelEncoder()"
      ]
     },
     "execution_count": 462,
     "metadata": {},
     "output_type": "execute_result"
    }
   ],
   "source": [
    "from sklearn.preprocessing import LabelEncoder\n",
    "\n",
    "le = LabelEncoder()\n",
    "le.fit(list(us_mg[\"cuisine\"].values) + list(dc[\"cuisine\"].values))\n",
    "\n",
    "# le = LabelEncoder()\n",
    "# le.fit(list(us_mg[\"cuisine\"].values) + list(post[\"cuisine\"].values))"
   ]
  },
  {
   "cell_type": "code",
   "execution_count": 463,
   "metadata": {
    "collapsed": true
   },
   "outputs": [],
   "source": [
    "us_mg[\"cuisine\"] = le.transform(us_mg[\"cuisine\"].values)\n",
    "dc[\"cuisine\"] = le.transform(dc[\"cuisine\"].values)\n",
    "\n",
    "# us_mg[\"cuisine\"] = le.transform(us_mg[\"cuisine\"].values)\n",
    "# post[\"cuisine\"] = le.transform(post[\"cuisine\"].values)"
   ]
  },
  {
   "cell_type": "code",
   "execution_count": 464,
   "metadata": {
    "collapsed": true
   },
   "outputs": [],
   "source": [
    "#save again\n",
    "us_mg.to_csv(\"us_mg.csv\",encoding=\"utf-8\",index=False)\n",
    "dc.to_csv(\"dc_test.csv\",encoding=\"utf-8\",index=False)\n",
    "#post.to_csv(\"post_test.csv\",encoding=\"utf-8\",index=False)"
   ]
  },
  {
   "cell_type": "markdown",
   "metadata": {},
   "source": [
    "## Modeling "
   ]
  },
  {
   "cell_type": "code",
   "execution_count": 465,
   "metadata": {
    "collapsed": true
   },
   "outputs": [],
   "source": [
    "from sklearn.cross_validation import train_test_split, cross_val_score, StratifiedKFold\n",
    "from sklearn.linear_model import LogisticRegression\n",
    "from sklearn import preprocessing\n",
    "from sklearn.metrics import confusion_matrix,classification_report,roc_curve,auc\n",
    "from sklearn.tree import DecisionTreeClassifier\n",
    "from sklearn.ensemble import RandomForestClassifier, ExtraTreesClassifier, AdaBoostClassifier, GradientBoostingClassifier"
   ]
  },
  {
   "cell_type": "code",
   "execution_count": 727,
   "metadata": {
    "collapsed": false
   },
   "outputs": [],
   "source": [
    "X = us_mg[[\"goog_price\",\"rating\",\"numrev\"]]\n",
    "y = us_mg[\"cstars\"]"
   ]
  },
  {
   "cell_type": "code",
   "execution_count": 728,
   "metadata": {
    "collapsed": false
   },
   "outputs": [],
   "source": [
    "X_scaled = preprocessing.scale(X)"
   ]
  },
  {
   "cell_type": "code",
   "execution_count": 879,
   "metadata": {
    "collapsed": true
   },
   "outputs": [],
   "source": [
    "X_train, X_test, y_train, y_test = train_test_split(X_scaled,y,test_size=0.4)"
   ]
  },
  {
   "cell_type": "code",
   "execution_count": 880,
   "metadata": {
    "collapsed": false
   },
   "outputs": [
    {
     "data": {
      "text/plain": [
       "0    0.860520\n",
       "1    0.106383\n",
       "2    0.033097\n",
       "Name: cstars, dtype: float64"
      ]
     },
     "execution_count": 880,
     "metadata": {},
     "output_type": "execute_result"
    }
   ],
   "source": [
    "baseline = y.value_counts()/len(y)\n",
    "baseline"
   ]
  },
  {
   "cell_type": "code",
   "execution_count": 881,
   "metadata": {
    "collapsed": true
   },
   "outputs": [],
   "source": [
    "cv = StratifiedKFold(y, n_folds=5,shuffle=True)"
   ]
  },
  {
   "cell_type": "code",
   "execution_count": 882,
   "metadata": {
    "collapsed": true
   },
   "outputs": [],
   "source": [
    "def score(model, name, myX,myy):\n",
    "    s = cross_val_score(model, myX, myy, cv=cv)\n",
    "    print \"{} Score:\\t{:0.3} ± {:0.3}\".format(name, s.mean().round(3), s.std().round(3))"
   ]
  },
  {
   "cell_type": "code",
   "execution_count": 883,
   "metadata": {
    "collapsed": true
   },
   "outputs": [],
   "source": [
    "def fitAndPrint(model):\n",
    "    model.fit(X_train,y_train)\n",
    "    y_pred = model.predict(X_test)\n",
    "    print confusion_matrix(y_test,y_pred)"
   ]
  },
  {
   "cell_type": "code",
   "execution_count": 884,
   "metadata": {
    "collapsed": false
   },
   "outputs": [],
   "source": [
    "lm = LogisticRegression()"
   ]
  },
  {
   "cell_type": "code",
   "execution_count": 885,
   "metadata": {
    "collapsed": false
   },
   "outputs": [
    {
     "name": "stdout",
     "output_type": "stream",
     "text": [
      "Logistic Regression Score:\t0.869 ± 0.009\n"
     ]
    }
   ],
   "source": [
    "score(lm,\"Logistic Regression\",X_scaled,y)"
   ]
  },
  {
   "cell_type": "code",
   "execution_count": 886,
   "metadata": {
    "collapsed": false
   },
   "outputs": [
    {
     "name": "stdout",
     "output_type": "stream",
     "text": [
      "[[277   5   0]\n",
      " [ 37   8   0]\n",
      " [  0  12   0]]\n"
     ]
    }
   ],
   "source": [
    "fitAndPrint(lm)"
   ]
  },
  {
   "cell_type": "code",
   "execution_count": 887,
   "metadata": {
    "collapsed": false
   },
   "outputs": [],
   "source": [
    "X_dc = dc[[\"goog_price\",\"rating\",\"numrev\"]]\n",
    "X_scaled_dc = preprocessing.scale(X_dc)"
   ]
  },
  {
   "cell_type": "code",
   "execution_count": 888,
   "metadata": {
    "collapsed": false
   },
   "outputs": [],
   "source": [
    "y_pred = lm.predict(X_scaled_dc)"
   ]
  },
  {
   "cell_type": "code",
   "execution_count": 889,
   "metadata": {
    "collapsed": false
   },
   "outputs": [
    {
     "name": "stdout",
     "output_type": "stream",
     "text": [
      "Minibar 1\n",
      "The Lafayette 1\n",
      "Marcel's 1\n",
      "Plume 1\n",
      "Komi 1\n",
      "Obelisk 1\n",
      "Marcel’s 1\n"
     ]
    }
   ],
   "source": [
    "count=0\n",
    "for a,b in zip(dc[\"name\"].values,y_pred):\n",
    "    if b>=1:\n",
    "        print a,b"
   ]
  },
  {
   "cell_type": "code",
   "execution_count": 890,
   "metadata": {
    "collapsed": true
   },
   "outputs": [],
   "source": [
    "dt = DecisionTreeClassifier(class_weight=\"balanced\")"
   ]
  },
  {
   "cell_type": "code",
   "execution_count": 891,
   "metadata": {
    "collapsed": false
   },
   "outputs": [
    {
     "name": "stdout",
     "output_type": "stream",
     "text": [
      "Decision Tree Score:\t0.818 ± 0.023\n"
     ]
    }
   ],
   "source": [
    "score(dt,\"Decision Tree\",X_scaled,y)"
   ]
  },
  {
   "cell_type": "code",
   "execution_count": 892,
   "metadata": {
    "collapsed": false
   },
   "outputs": [
    {
     "name": "stdout",
     "output_type": "stream",
     "text": [
      "[[265  15   2]\n",
      " [ 29  14   2]\n",
      " [  5   3   4]]\n"
     ]
    }
   ],
   "source": [
    "fitAndPrint(dt)"
   ]
  },
  {
   "cell_type": "code",
   "execution_count": 893,
   "metadata": {
    "collapsed": false
   },
   "outputs": [
    {
     "data": {
      "text/plain": [
       "DecisionTreeClassifier(class_weight='balanced', criterion='gini',\n",
       "            max_depth=None, max_features=None, max_leaf_nodes=None,\n",
       "            min_samples_leaf=1, min_samples_split=2,\n",
       "            min_weight_fraction_leaf=0.0, presort=False, random_state=None,\n",
       "            splitter='best')"
      ]
     },
     "execution_count": 893,
     "metadata": {},
     "output_type": "execute_result"
    }
   ],
   "source": [
    "dt.fit(X_scaled,y)"
   ]
  },
  {
   "cell_type": "code",
   "execution_count": 894,
   "metadata": {
    "collapsed": false
   },
   "outputs": [],
   "source": [
    "predictions_dt = dt.predict(X_scaled_dc)"
   ]
  },
  {
   "cell_type": "code",
   "execution_count": 895,
   "metadata": {
    "collapsed": false
   },
   "outputs": [
    {
     "name": "stdout",
     "output_type": "stream",
     "text": [
      "Minibar 2\n",
      "The Lafayette 1\n",
      "Ristorante Tosca 1\n",
      "Marcel's 1\n",
      "Plume 2\n",
      "Daikaya - Ramen (1F), Izakaya (2F) 1\n",
      "Fiola Mare 1\n",
      "BLT Steak 1\n",
      "Equinox 1\n",
      "Obelisk 2\n",
      "Brasserie Beck 1\n",
      "BOURBON STEAK 1\n",
      "Hank's Oyster Bar 1\n",
      "Lupo Verde 1\n",
      "Toro Toro 1\n",
      "Sakuramen Ramen Bar 1\n",
      "Flight Wine Bar 1\n",
      "Al Dente Italian Restaurant D.C. 1\n",
      "the pig 1\n",
      "Room 11 1\n",
      "Mourayo 1\n",
      "New Heights Restaurant 1\n",
      "The Grill Room 1\n",
      "Pesce 1\n",
      "The Hamilton 1\n",
      "Teaism Dupont Circle 1\n",
      "Hank’s Oyster Bar 1\n",
      "Daikaya Ramen 1\n",
      "Garrison 1\n",
      "Marcel’s 1\n"
     ]
    }
   ],
   "source": [
    "for a,b in zip(dc[\"name\"].values,predictions_dt):\n",
    "    if b>=1:\n",
    "        print a,b"
   ]
  },
  {
   "cell_type": "code",
   "execution_count": 896,
   "metadata": {
    "collapsed": true
   },
   "outputs": [],
   "source": [
    "rf = RandomForestClassifier(class_weight=\"balanced\")"
   ]
  },
  {
   "cell_type": "code",
   "execution_count": 897,
   "metadata": {
    "collapsed": false
   },
   "outputs": [
    {
     "name": "stdout",
     "output_type": "stream",
     "text": [
      "Random Forest Score:\t0.843 ± 0.016\n"
     ]
    }
   ],
   "source": [
    "score(rf,\"Random Forest\",X_scaled,y)"
   ]
  },
  {
   "cell_type": "code",
   "execution_count": 898,
   "metadata": {
    "collapsed": false
   },
   "outputs": [
    {
     "name": "stdout",
     "output_type": "stream",
     "text": [
      "[[271   9   2]\n",
      " [ 34  10   1]\n",
      " [  5   2   5]]\n"
     ]
    }
   ],
   "source": [
    "fitAndPrint(rf)"
   ]
  },
  {
   "cell_type": "code",
   "execution_count": 899,
   "metadata": {
    "collapsed": false
   },
   "outputs": [
    {
     "name": "stdout",
     "output_type": "stream",
     "text": [
      "goog_price 0.329903969331\n",
      "rating 0.192983360485\n",
      "numrev 0.477112670184\n"
     ]
    }
   ],
   "source": [
    "for a,b in zip(X.columns.tolist(), rf.feature_importances_):\n",
    "    print a, b"
   ]
  },
  {
   "cell_type": "code",
   "execution_count": 900,
   "metadata": {
    "collapsed": false
   },
   "outputs": [
    {
     "data": {
      "text/plain": [
       "RandomForestClassifier(bootstrap=True, class_weight='balanced',\n",
       "            criterion='gini', max_depth=None, max_features='auto',\n",
       "            max_leaf_nodes=None, min_samples_leaf=1, min_samples_split=2,\n",
       "            min_weight_fraction_leaf=0.0, n_estimators=10, n_jobs=1,\n",
       "            oob_score=False, random_state=None, verbose=0,\n",
       "            warm_start=False)"
      ]
     },
     "execution_count": 900,
     "metadata": {},
     "output_type": "execute_result"
    }
   ],
   "source": [
    "rf.fit(X_scaled,y)"
   ]
  },
  {
   "cell_type": "code",
   "execution_count": 901,
   "metadata": {
    "collapsed": false
   },
   "outputs": [],
   "source": [
    "predictions = rf.predict(X_scaled_dc)"
   ]
  },
  {
   "cell_type": "code",
   "execution_count": 902,
   "metadata": {
    "collapsed": false
   },
   "outputs": [
    {
     "name": "stdout",
     "output_type": "stream",
     "text": [
      "Marcel's 1\n",
      "Fiola Mare 1\n",
      "Restaurant Nora 1\n",
      "BLT Steak 1\n",
      "Acadiana 1\n",
      "Room 11 1\n",
      "Marcel’s 1\n"
     ]
    }
   ],
   "source": [
    "count=0\n",
    "for a,b in zip(dc[\"name\"].values,predictions):\n",
    "    if b>=1:\n",
    "        print a,b"
   ]
  },
  {
   "cell_type": "code",
   "execution_count": 903,
   "metadata": {
    "collapsed": true
   },
   "outputs": [],
   "source": [
    "ada = AdaBoostClassifier()"
   ]
  },
  {
   "cell_type": "code",
   "execution_count": 904,
   "metadata": {
    "collapsed": false
   },
   "outputs": [
    {
     "name": "stdout",
     "output_type": "stream",
     "text": [
      "Adaptive Boosting Score:\t0.787 ± 0.086\n"
     ]
    }
   ],
   "source": [
    "score(ada,\"Adaptive Boosting\",X_scaled,y)"
   ]
  },
  {
   "cell_type": "code",
   "execution_count": 905,
   "metadata": {
    "collapsed": false
   },
   "outputs": [
    {
     "name": "stdout",
     "output_type": "stream",
     "text": [
      "[[275   7   0]\n",
      " [ 34  10   1]\n",
      " [  5   6   1]]\n"
     ]
    }
   ],
   "source": [
    "fitAndPrint(ada)"
   ]
  },
  {
   "cell_type": "code",
   "execution_count": 906,
   "metadata": {
    "collapsed": false
   },
   "outputs": [],
   "source": [
    "predictions = ada.predict(X_scaled_dc)"
   ]
  },
  {
   "cell_type": "code",
   "execution_count": 868,
   "metadata": {
    "collapsed": false
   },
   "outputs": [
    {
     "name": "stdout",
     "output_type": "stream",
     "text": [
      "Rasika 1\n",
      "Minibar 2\n",
      "The Oval Room 1\n",
      "Daikaya - Ramen (1F), Izakaya (2F) 1\n",
      "Restaurant Nora 1\n",
      "Obelisk 2\n",
      "BOURBON STEAK 1\n",
      "Good Stuff Eatery 1\n",
      "Open City 1\n",
      "Hill Country Barbecue Market 1\n",
      "Clyde's of Gallery Place 1\n",
      "BreadLine 1\n",
      "Daikaya Ramen 1\n",
      "13\n"
     ]
    }
   ],
   "source": [
    "count=0\n",
    "for a,b in zip(dc[\"name\"].values,predictions):\n",
    "    if b>=1:\n",
    "        print a,b\n",
    "        count+=1\n",
    "print count"
   ]
  },
  {
   "cell_type": "code",
   "execution_count": 907,
   "metadata": {
    "collapsed": true
   },
   "outputs": [],
   "source": [
    "gb = GradientBoostingClassifier()"
   ]
  },
  {
   "cell_type": "code",
   "execution_count": 908,
   "metadata": {
    "collapsed": false
   },
   "outputs": [
    {
     "name": "stdout",
     "output_type": "stream",
     "text": [
      "Gradient Boosting Score:\t0.858 ± 0.022\n"
     ]
    }
   ],
   "source": [
    "score(gb,\"Gradient Boosting\",X_scaled,y)"
   ]
  },
  {
   "cell_type": "code",
   "execution_count": 909,
   "metadata": {
    "collapsed": false
   },
   "outputs": [
    {
     "name": "stdout",
     "output_type": "stream",
     "text": [
      "[[273   7   2]\n",
      " [ 34   9   2]\n",
      " [  6   4   2]]\n"
     ]
    }
   ],
   "source": [
    "fitAndPrint(gb)"
   ]
  },
  {
   "cell_type": "code",
   "execution_count": 910,
   "metadata": {
    "collapsed": false
   },
   "outputs": [],
   "source": [
    "predictions = gb.predict(X_scaled_dc)"
   ]
  },
  {
   "cell_type": "code",
   "execution_count": 911,
   "metadata": {
    "collapsed": false
   },
   "outputs": [
    {
     "name": "stdout",
     "output_type": "stream",
     "text": [
      "The Lafayette 2\n",
      "Marcel's 1\n",
      "Plume 2\n",
      "Bibiana 1\n",
      "Obelisk 2\n",
      "Brasserie Beck 1\n",
      "Sakedokoro Makoto 1\n",
      "Beuchert’s Saloon 1\n",
      "Al Dente Italian Restaurant D.C. 1\n",
      "Mourayo 1\n",
      "New Heights Restaurant 1\n",
      "Westend Bistro 1\n",
      "Matisse 1\n",
      "Bearnaise 1\n",
      "The Grill Room 1\n",
      "Pesce 1\n",
      "Brasserie Beck 1\n",
      "Masseria 1\n",
      "Garrison 1\n",
      "Marcel’s 1\n"
     ]
    }
   ],
   "source": [
    "count=0\n",
    "for a,b in zip(dc[\"name\"].values,predictions):\n",
    "    if b>=1:\n",
    "        print a,b"
   ]
  },
  {
   "cell_type": "code",
   "execution_count": 912,
   "metadata": {
    "collapsed": true
   },
   "outputs": [],
   "source": [
    "et = ExtraTreesClassifier()"
   ]
  },
  {
   "cell_type": "code",
   "execution_count": 913,
   "metadata": {
    "collapsed": false
   },
   "outputs": [
    {
     "name": "stdout",
     "output_type": "stream",
     "text": [
      "Extra Trees Classifier Score:\t0.832 ± 0.02\n"
     ]
    }
   ],
   "source": [
    "score(et,\"Extra Trees Classifier\",X_scaled,y)"
   ]
  },
  {
   "cell_type": "code",
   "execution_count": 914,
   "metadata": {
    "collapsed": false
   },
   "outputs": [
    {
     "name": "stdout",
     "output_type": "stream",
     "text": [
      "[[267  12   3]\n",
      " [ 35  10   0]\n",
      " [  5   4   3]]\n"
     ]
    }
   ],
   "source": [
    "fitAndPrint(et)"
   ]
  },
  {
   "cell_type": "code",
   "execution_count": 915,
   "metadata": {
    "collapsed": true
   },
   "outputs": [],
   "source": [
    "predictions = gb.predict(X_scaled_dc)"
   ]
  },
  {
   "cell_type": "code",
   "execution_count": 916,
   "metadata": {
    "collapsed": false
   },
   "outputs": [
    {
     "name": "stdout",
     "output_type": "stream",
     "text": [
      "The Lafayette 2\n",
      "Marcel's 1\n",
      "Plume 2\n",
      "Bibiana 1\n",
      "Obelisk 2\n",
      "Brasserie Beck 1\n",
      "Sakedokoro Makoto 1\n",
      "Beuchert’s Saloon 1\n",
      "Al Dente Italian Restaurant D.C. 1\n",
      "Mourayo 1\n",
      "New Heights Restaurant 1\n",
      "Westend Bistro 1\n",
      "Matisse 1\n",
      "Bearnaise 1\n",
      "The Grill Room 1\n",
      "Pesce 1\n",
      "Brasserie Beck 1\n",
      "Masseria 1\n",
      "Garrison 1\n",
      "Marcel’s 1\n"
     ]
    }
   ],
   "source": [
    "count=0\n",
    "for a,b in zip(dc[\"name\"].values,predictions):\n",
    "    if b>=1:\n",
    "        print a,b"
   ]
  },
  {
   "cell_type": "code",
   "execution_count": 917,
   "metadata": {
    "collapsed": true
   },
   "outputs": [],
   "source": [
    "mich_test = pd.read_csv(\"michelin.csv\")"
   ]
  },
  {
   "cell_type": "code",
   "execution_count": 919,
   "metadata": {
    "collapsed": false
   },
   "outputs": [
    {
     "data": {
      "text/html": [
       "<div>\n",
       "<table border=\"1\" class=\"dataframe\">\n",
       "  <thead>\n",
       "    <tr style=\"text-align: right;\">\n",
       "      <th></th>\n",
       "      <th>restaurant</th>\n",
       "      <th>stars</th>\n",
       "    </tr>\n",
       "  </thead>\n",
       "  <tbody>\n",
       "    <tr>\n",
       "      <th>0</th>\n",
       "      <td>Minibar</td>\n",
       "      <td>2</td>\n",
       "    </tr>\n",
       "    <tr>\n",
       "      <th>1</th>\n",
       "      <td>Marcel's</td>\n",
       "      <td>1</td>\n",
       "    </tr>\n",
       "    <tr>\n",
       "      <th>2</th>\n",
       "      <td>Plume</td>\n",
       "      <td>2</td>\n",
       "    </tr>\n",
       "    <tr>\n",
       "      <th>3</th>\n",
       "      <td>Komi</td>\n",
       "      <td>2</td>\n",
       "    </tr>\n",
       "    <tr>\n",
       "      <th>4</th>\n",
       "      <td>Obelisk</td>\n",
       "      <td>2</td>\n",
       "    </tr>\n",
       "    <tr>\n",
       "      <th>5</th>\n",
       "      <td>The Lafayette</td>\n",
       "      <td>2</td>\n",
       "    </tr>\n",
       "    <tr>\n",
       "      <th>6</th>\n",
       "      <td>Matisse</td>\n",
       "      <td>1</td>\n",
       "    </tr>\n",
       "    <tr>\n",
       "      <th>7</th>\n",
       "      <td>Restaurant Nora</td>\n",
       "      <td>1</td>\n",
       "    </tr>\n",
       "    <tr>\n",
       "      <th>8</th>\n",
       "      <td>Fiola Mare</td>\n",
       "      <td>1</td>\n",
       "    </tr>\n",
       "    <tr>\n",
       "      <th>9</th>\n",
       "      <td>Bibiana</td>\n",
       "      <td>1</td>\n",
       "    </tr>\n",
       "    <tr>\n",
       "      <th>10</th>\n",
       "      <td>Brasserie Beck</td>\n",
       "      <td>1</td>\n",
       "    </tr>\n",
       "    <tr>\n",
       "      <th>11</th>\n",
       "      <td>Sakedokoro Makoto</td>\n",
       "      <td>1</td>\n",
       "    </tr>\n",
       "    <tr>\n",
       "      <th>12</th>\n",
       "      <td>Beuchert’s Saloon</td>\n",
       "      <td>1</td>\n",
       "    </tr>\n",
       "    <tr>\n",
       "      <th>13</th>\n",
       "      <td>Mourayo</td>\n",
       "      <td>1</td>\n",
       "    </tr>\n",
       "    <tr>\n",
       "      <th>14</th>\n",
       "      <td>New Heights Restaurant</td>\n",
       "      <td>1</td>\n",
       "    </tr>\n",
       "    <tr>\n",
       "      <th>15</th>\n",
       "      <td>Westend Bistro</td>\n",
       "      <td>1</td>\n",
       "    </tr>\n",
       "    <tr>\n",
       "      <th>16</th>\n",
       "      <td>Bearnaise</td>\n",
       "      <td>1</td>\n",
       "    </tr>\n",
       "    <tr>\n",
       "      <th>17</th>\n",
       "      <td>Pesce</td>\n",
       "      <td>1</td>\n",
       "    </tr>\n",
       "    <tr>\n",
       "      <th>18</th>\n",
       "      <td>Masseria</td>\n",
       "      <td>1</td>\n",
       "    </tr>\n",
       "    <tr>\n",
       "      <th>19</th>\n",
       "      <td>Garrison</td>\n",
       "      <td>1</td>\n",
       "    </tr>\n",
       "  </tbody>\n",
       "</table>\n",
       "</div>"
      ],
      "text/plain": [
       "                restaurant  stars\n",
       "0                  Minibar      2\n",
       "1                 Marcel's      1\n",
       "2                    Plume      2\n",
       "3                     Komi      2\n",
       "4                  Obelisk      2\n",
       "5            The Lafayette      2\n",
       "6                  Matisse      1\n",
       "7          Restaurant Nora      1\n",
       "8               Fiola Mare      1\n",
       "9                  Bibiana      1\n",
       "10          Brasserie Beck      1\n",
       "11       Sakedokoro Makoto      1\n",
       "12       Beuchert’s Saloon      1\n",
       "13                 Mourayo      1\n",
       "14  New Heights Restaurant      1\n",
       "15          Westend Bistro      1\n",
       "16               Bearnaise      1\n",
       "17                   Pesce      1\n",
       "18                Masseria      1\n",
       "19                Garrison      1"
      ]
     },
     "execution_count": 919,
     "metadata": {},
     "output_type": "execute_result"
    }
   ],
   "source": [
    "mich_test"
   ]
  },
  {
   "cell_type": "code",
   "execution_count": null,
   "metadata": {
    "collapsed": true
   },
   "outputs": [],
   "source": []
  }
 ],
 "metadata": {
  "kernelspec": {
   "display_name": "Python 2",
   "language": "python",
   "name": "python2"
  },
  "language_info": {
   "codemirror_mode": {
    "name": "ipython",
    "version": 2
   },
   "file_extension": ".py",
   "mimetype": "text/x-python",
   "name": "python",
   "nbconvert_exporter": "python",
   "pygments_lexer": "ipython2",
   "version": "2.7.12"
  }
 },
 "nbformat": 4,
 "nbformat_minor": 0
}
